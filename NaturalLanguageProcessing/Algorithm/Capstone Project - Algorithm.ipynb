{
 "cells": [
  {
   "cell_type": "markdown",
   "metadata": {},
   "source": [
    "# CAPSTONE PROJECT\n",
    "\n",
    "---"
   ]
  },
  {
   "cell_type": "markdown",
   "metadata": {},
   "source": [
    "### TITLE: \n",
    "\n",
    "USING MACHINE LEARNING TO TACKLE NEGATIVE SOCIAL MEDIA POSTS."
   ]
  },
  {
   "cell_type": "markdown",
   "metadata": {},
   "source": [
    "### ABSTRACT:\n",
    "\n",
    "There is so much to love about social media, but we can agree social media bullying is on the rise. \n",
    "\n",
    "The purpose of this project is to tackle this problem by identifying what combination of words make up negative comments on social media platforms and creating a model that can predict if a user’s post is negative before it is posted online.\n",
    "\n",
    "---\n"
   ]
  },
  {
   "cell_type": "markdown",
   "metadata": {},
   "source": [
    "## 1) THE DATASET\n",
    "\n",
    "The dataset used for this project was retrived from kaggle.com. It contains 31,962tweets from several Twitter users. \n",
    "\n",
    "For security reasons, the users' identity have been removed from this dataset i.e. Twitter user's `@name` is replaced with `@user`. \n",
    "\n",
    "Each tweet in the dataset have also been labelled as been 1-Negative or 0-Positive tweets.\n",
    "\n",
    "***NOTE:***\n",
    "\n",
    "    Negative tweets (class label = 1) are those found to be hateful and or offensive (sexist/political/racist). While Positive \n",
    "    tweets (class label = 0) are loving, kind or neutral.\n",
    "\n",
    "Find the dataset here https://www.kaggle.com/arkhoshghalb/twitter-sentiment-analysis-hatred-speech\n",
    "\n",
    "---"
   ]
  },
  {
   "cell_type": "markdown",
   "metadata": {},
   "source": [
    "***Some of the Python libraries that will be needed.***"
   ]
  },
  {
   "cell_type": "code",
   "execution_count": 2,
   "metadata": {},
   "outputs": [],
   "source": [
    "#Exploration and visualization libraries\n",
    "import pandas as pd\n",
    "import numpy as np\n",
    "import os\n",
    "import seaborn as sns\n",
    "import matplotlib.pyplot as plt\n",
    "%matplotlib inline\n",
    "import plotly.graph_objects as go\n",
    "\n",
    "pd.set_option('display.max_column', None)\n",
    "\n",
    "#Natural Language processing(NLP) libraries\n",
    "#nltk.download()\n",
    "import nltk\n",
    "from nltk.tokenize import word_tokenize\n",
    "from nltk.corpus import stopwords\n",
    "from nltk.stem import PorterStemmer\n",
    "from nltk.stem import WordNetLemmatizer\n",
    "\n",
    "#String processing libraries\n",
    "import string\n",
    "import re\n",
    "\n",
    "#Imbalance learn library\n",
    "import imblearn as imb\n",
    "\n",
    "#Ignore warnings\n",
    "import warnings \n",
    "warnings.filterwarnings('ignore')"
   ]
  },
  {
   "cell_type": "markdown",
   "metadata": {},
   "source": [
    "#### Reading in the dataset"
   ]
  },
  {
   "cell_type": "code",
   "execution_count": 3,
   "metadata": {},
   "outputs": [
    {
     "data": {
      "text/html": [
       "<div>\n",
       "<style scoped>\n",
       "    .dataframe tbody tr th:only-of-type {\n",
       "        vertical-align: middle;\n",
       "    }\n",
       "\n",
       "    .dataframe tbody tr th {\n",
       "        vertical-align: top;\n",
       "    }\n",
       "\n",
       "    .dataframe thead th {\n",
       "        text-align: right;\n",
       "    }\n",
       "</style>\n",
       "<table border=\"1\" class=\"dataframe\">\n",
       "  <thead>\n",
       "    <tr style=\"text-align: right;\">\n",
       "      <th></th>\n",
       "      <th>id</th>\n",
       "      <th>label</th>\n",
       "      <th>tweet</th>\n",
       "    </tr>\n",
       "  </thead>\n",
       "  <tbody>\n",
       "    <tr>\n",
       "      <th>0</th>\n",
       "      <td>1</td>\n",
       "      <td>0</td>\n",
       "      <td>@user when a father is dysfunctional and is s...</td>\n",
       "    </tr>\n",
       "    <tr>\n",
       "      <th>1</th>\n",
       "      <td>2</td>\n",
       "      <td>0</td>\n",
       "      <td>@user @user thanks for #lyft credit i can't us...</td>\n",
       "    </tr>\n",
       "    <tr>\n",
       "      <th>2</th>\n",
       "      <td>3</td>\n",
       "      <td>0</td>\n",
       "      <td>bihday your majesty</td>\n",
       "    </tr>\n",
       "    <tr>\n",
       "      <th>3</th>\n",
       "      <td>4</td>\n",
       "      <td>0</td>\n",
       "      <td>#model   i love u take with u all the time in ...</td>\n",
       "    </tr>\n",
       "    <tr>\n",
       "      <th>4</th>\n",
       "      <td>5</td>\n",
       "      <td>0</td>\n",
       "      <td>factsguide: society now    #motivation</td>\n",
       "    </tr>\n",
       "  </tbody>\n",
       "</table>\n",
       "</div>"
      ],
      "text/plain": [
       "   id  label                                              tweet\n",
       "0   1      0   @user when a father is dysfunctional and is s...\n",
       "1   2      0  @user @user thanks for #lyft credit i can't us...\n",
       "2   3      0                                bihday your majesty\n",
       "3   4      0  #model   i love u take with u all the time in ...\n",
       "4   5      0             factsguide: society now    #motivation"
      ]
     },
     "execution_count": 3,
     "metadata": {},
     "output_type": "execute_result"
    }
   ],
   "source": [
    "data_df = pd.read_csv(r'C:\\Users\\gorot\\Desktop\\BrainStation_DS\\Projects\\Final_Project\\Possible_Datasets\\Twitter\\train.csv')\n",
    "data_df.head()"
   ]
  },
  {
   "cell_type": "code",
   "execution_count": 4,
   "metadata": {},
   "outputs": [
    {
     "name": "stdout",
     "output_type": "stream",
     "text": [
      "Shape of dataset: (31962, 3)\n"
     ]
    }
   ],
   "source": [
    "#Number of rows and columns in the data\n",
    "print('Shape of dataset:',data_df.shape)"
   ]
  },
  {
   "cell_type": "code",
   "execution_count": 5,
   "metadata": {},
   "outputs": [
    {
     "data": {
      "text/plain": [
       "0    29720\n",
       "1     2242\n",
       "Name: label, dtype: int64"
      ]
     },
     "execution_count": 5,
     "metadata": {},
     "output_type": "execute_result"
    }
   ],
   "source": [
    "#Size of class labels\n",
    "data_df['label'].value_counts()"
   ]
  },
  {
   "cell_type": "markdown",
   "metadata": {},
   "source": [
    "#### Dataset Summary:\n",
    "\n",
    "The dataset has;\n",
    "\n",
    "31,962 data points with 3 features(id, label, tweet)\n",
    "\n",
    "    Negative(1): 2,242(7.0%)\n",
    "    \n",
    "    Positive(0): 29,720(93%)"
   ]
  },
  {
   "cell_type": "markdown",
   "metadata": {},
   "source": [
    "To avoid overwritting the actual data, a new dataset will be created with the neccesary features of the data needed for this project."
   ]
  },
  {
   "cell_type": "code",
   "execution_count": 6,
   "metadata": {},
   "outputs": [
    {
     "data": {
      "text/html": [
       "<div>\n",
       "<style scoped>\n",
       "    .dataframe tbody tr th:only-of-type {\n",
       "        vertical-align: middle;\n",
       "    }\n",
       "\n",
       "    .dataframe tbody tr th {\n",
       "        vertical-align: top;\n",
       "    }\n",
       "\n",
       "    .dataframe thead th {\n",
       "        text-align: right;\n",
       "    }\n",
       "</style>\n",
       "<table border=\"1\" class=\"dataframe\">\n",
       "  <thead>\n",
       "    <tr style=\"text-align: right;\">\n",
       "      <th></th>\n",
       "      <th>label</th>\n",
       "      <th>tweet</th>\n",
       "    </tr>\n",
       "  </thead>\n",
       "  <tbody>\n",
       "    <tr>\n",
       "      <th>0</th>\n",
       "      <td>0</td>\n",
       "      <td>@user when a father is dysfunctional and is s...</td>\n",
       "    </tr>\n",
       "    <tr>\n",
       "      <th>1</th>\n",
       "      <td>0</td>\n",
       "      <td>@user @user thanks for #lyft credit i can't us...</td>\n",
       "    </tr>\n",
       "    <tr>\n",
       "      <th>2</th>\n",
       "      <td>0</td>\n",
       "      <td>bihday your majesty</td>\n",
       "    </tr>\n",
       "    <tr>\n",
       "      <th>3</th>\n",
       "      <td>0</td>\n",
       "      <td>#model   i love u take with u all the time in ...</td>\n",
       "    </tr>\n",
       "    <tr>\n",
       "      <th>4</th>\n",
       "      <td>0</td>\n",
       "      <td>factsguide: society now    #motivation</td>\n",
       "    </tr>\n",
       "  </tbody>\n",
       "</table>\n",
       "</div>"
      ],
      "text/plain": [
       "   label                                              tweet\n",
       "0      0   @user when a father is dysfunctional and is s...\n",
       "1      0  @user @user thanks for #lyft credit i can't us...\n",
       "2      0                                bihday your majesty\n",
       "3      0  #model   i love u take with u all the time in ...\n",
       "4      0             factsguide: society now    #motivation"
      ]
     },
     "execution_count": 6,
     "metadata": {},
     "output_type": "execute_result"
    }
   ],
   "source": [
    "#Keep only the features needed in the new dataframe\n",
    "main_df = data_df.loc[:,['label','tweet']]\n",
    "main_df.head()"
   ]
  },
  {
   "cell_type": "code",
   "execution_count": 7,
   "metadata": {},
   "outputs": [
    {
     "data": {
      "text/plain": [
       "(31962, 2)"
      ]
     },
     "execution_count": 7,
     "metadata": {},
     "output_type": "execute_result"
    }
   ],
   "source": [
    "#Number of rows and columns in the new dataset\n",
    "main_df.shape"
   ]
  },
  {
   "cell_type": "code",
   "execution_count": 8,
   "metadata": {},
   "outputs": [
    {
     "data": {
      "text/plain": [
       "0    29720\n",
       "1     2242\n",
       "Name: label, dtype: int64"
      ]
     },
     "execution_count": 8,
     "metadata": {},
     "output_type": "execute_result"
    }
   ],
   "source": [
    "#Distribution of the label (0,1)\n",
    "main_df['label'].value_counts()"
   ]
  },
  {
   "cell_type": "code",
   "execution_count": 11,
   "metadata": {},
   "outputs": [
    {
     "data": {
      "application/vnd.plotly.v1+json": {
       "config": {
        "plotlyServerURL": "https://plot.ly"
       },
       "data": [
        {
         "type": "bar",
         "x": [
          0,
          1
         ],
         "y": [
          29720,
          2242
         ]
        }
       ],
       "layout": {
        "height": 600,
        "template": {
         "data": {
          "bar": [
           {
            "error_x": {
             "color": "#2a3f5f"
            },
            "error_y": {
             "color": "#2a3f5f"
            },
            "marker": {
             "line": {
              "color": "#E5ECF6",
              "width": 0.5
             }
            },
            "type": "bar"
           }
          ],
          "barpolar": [
           {
            "marker": {
             "line": {
              "color": "#E5ECF6",
              "width": 0.5
             }
            },
            "type": "barpolar"
           }
          ],
          "carpet": [
           {
            "aaxis": {
             "endlinecolor": "#2a3f5f",
             "gridcolor": "white",
             "linecolor": "white",
             "minorgridcolor": "white",
             "startlinecolor": "#2a3f5f"
            },
            "baxis": {
             "endlinecolor": "#2a3f5f",
             "gridcolor": "white",
             "linecolor": "white",
             "minorgridcolor": "white",
             "startlinecolor": "#2a3f5f"
            },
            "type": "carpet"
           }
          ],
          "choropleth": [
           {
            "colorbar": {
             "outlinewidth": 0,
             "ticks": ""
            },
            "type": "choropleth"
           }
          ],
          "contour": [
           {
            "colorbar": {
             "outlinewidth": 0,
             "ticks": ""
            },
            "colorscale": [
             [
              0,
              "#0d0887"
             ],
             [
              0.1111111111111111,
              "#46039f"
             ],
             [
              0.2222222222222222,
              "#7201a8"
             ],
             [
              0.3333333333333333,
              "#9c179e"
             ],
             [
              0.4444444444444444,
              "#bd3786"
             ],
             [
              0.5555555555555556,
              "#d8576b"
             ],
             [
              0.6666666666666666,
              "#ed7953"
             ],
             [
              0.7777777777777778,
              "#fb9f3a"
             ],
             [
              0.8888888888888888,
              "#fdca26"
             ],
             [
              1,
              "#f0f921"
             ]
            ],
            "type": "contour"
           }
          ],
          "contourcarpet": [
           {
            "colorbar": {
             "outlinewidth": 0,
             "ticks": ""
            },
            "type": "contourcarpet"
           }
          ],
          "heatmap": [
           {
            "colorbar": {
             "outlinewidth": 0,
             "ticks": ""
            },
            "colorscale": [
             [
              0,
              "#0d0887"
             ],
             [
              0.1111111111111111,
              "#46039f"
             ],
             [
              0.2222222222222222,
              "#7201a8"
             ],
             [
              0.3333333333333333,
              "#9c179e"
             ],
             [
              0.4444444444444444,
              "#bd3786"
             ],
             [
              0.5555555555555556,
              "#d8576b"
             ],
             [
              0.6666666666666666,
              "#ed7953"
             ],
             [
              0.7777777777777778,
              "#fb9f3a"
             ],
             [
              0.8888888888888888,
              "#fdca26"
             ],
             [
              1,
              "#f0f921"
             ]
            ],
            "type": "heatmap"
           }
          ],
          "heatmapgl": [
           {
            "colorbar": {
             "outlinewidth": 0,
             "ticks": ""
            },
            "colorscale": [
             [
              0,
              "#0d0887"
             ],
             [
              0.1111111111111111,
              "#46039f"
             ],
             [
              0.2222222222222222,
              "#7201a8"
             ],
             [
              0.3333333333333333,
              "#9c179e"
             ],
             [
              0.4444444444444444,
              "#bd3786"
             ],
             [
              0.5555555555555556,
              "#d8576b"
             ],
             [
              0.6666666666666666,
              "#ed7953"
             ],
             [
              0.7777777777777778,
              "#fb9f3a"
             ],
             [
              0.8888888888888888,
              "#fdca26"
             ],
             [
              1,
              "#f0f921"
             ]
            ],
            "type": "heatmapgl"
           }
          ],
          "histogram": [
           {
            "marker": {
             "colorbar": {
              "outlinewidth": 0,
              "ticks": ""
             }
            },
            "type": "histogram"
           }
          ],
          "histogram2d": [
           {
            "colorbar": {
             "outlinewidth": 0,
             "ticks": ""
            },
            "colorscale": [
             [
              0,
              "#0d0887"
             ],
             [
              0.1111111111111111,
              "#46039f"
             ],
             [
              0.2222222222222222,
              "#7201a8"
             ],
             [
              0.3333333333333333,
              "#9c179e"
             ],
             [
              0.4444444444444444,
              "#bd3786"
             ],
             [
              0.5555555555555556,
              "#d8576b"
             ],
             [
              0.6666666666666666,
              "#ed7953"
             ],
             [
              0.7777777777777778,
              "#fb9f3a"
             ],
             [
              0.8888888888888888,
              "#fdca26"
             ],
             [
              1,
              "#f0f921"
             ]
            ],
            "type": "histogram2d"
           }
          ],
          "histogram2dcontour": [
           {
            "colorbar": {
             "outlinewidth": 0,
             "ticks": ""
            },
            "colorscale": [
             [
              0,
              "#0d0887"
             ],
             [
              0.1111111111111111,
              "#46039f"
             ],
             [
              0.2222222222222222,
              "#7201a8"
             ],
             [
              0.3333333333333333,
              "#9c179e"
             ],
             [
              0.4444444444444444,
              "#bd3786"
             ],
             [
              0.5555555555555556,
              "#d8576b"
             ],
             [
              0.6666666666666666,
              "#ed7953"
             ],
             [
              0.7777777777777778,
              "#fb9f3a"
             ],
             [
              0.8888888888888888,
              "#fdca26"
             ],
             [
              1,
              "#f0f921"
             ]
            ],
            "type": "histogram2dcontour"
           }
          ],
          "mesh3d": [
           {
            "colorbar": {
             "outlinewidth": 0,
             "ticks": ""
            },
            "type": "mesh3d"
           }
          ],
          "parcoords": [
           {
            "line": {
             "colorbar": {
              "outlinewidth": 0,
              "ticks": ""
             }
            },
            "type": "parcoords"
           }
          ],
          "scatter": [
           {
            "marker": {
             "colorbar": {
              "outlinewidth": 0,
              "ticks": ""
             }
            },
            "type": "scatter"
           }
          ],
          "scatter3d": [
           {
            "line": {
             "colorbar": {
              "outlinewidth": 0,
              "ticks": ""
             }
            },
            "marker": {
             "colorbar": {
              "outlinewidth": 0,
              "ticks": ""
             }
            },
            "type": "scatter3d"
           }
          ],
          "scattercarpet": [
           {
            "marker": {
             "colorbar": {
              "outlinewidth": 0,
              "ticks": ""
             }
            },
            "type": "scattercarpet"
           }
          ],
          "scattergeo": [
           {
            "marker": {
             "colorbar": {
              "outlinewidth": 0,
              "ticks": ""
             }
            },
            "type": "scattergeo"
           }
          ],
          "scattergl": [
           {
            "marker": {
             "colorbar": {
              "outlinewidth": 0,
              "ticks": ""
             }
            },
            "type": "scattergl"
           }
          ],
          "scattermapbox": [
           {
            "marker": {
             "colorbar": {
              "outlinewidth": 0,
              "ticks": ""
             }
            },
            "type": "scattermapbox"
           }
          ],
          "scatterpolar": [
           {
            "marker": {
             "colorbar": {
              "outlinewidth": 0,
              "ticks": ""
             }
            },
            "type": "scatterpolar"
           }
          ],
          "scatterpolargl": [
           {
            "marker": {
             "colorbar": {
              "outlinewidth": 0,
              "ticks": ""
             }
            },
            "type": "scatterpolargl"
           }
          ],
          "scatterternary": [
           {
            "marker": {
             "colorbar": {
              "outlinewidth": 0,
              "ticks": ""
             }
            },
            "type": "scatterternary"
           }
          ],
          "surface": [
           {
            "colorbar": {
             "outlinewidth": 0,
             "ticks": ""
            },
            "colorscale": [
             [
              0,
              "#0d0887"
             ],
             [
              0.1111111111111111,
              "#46039f"
             ],
             [
              0.2222222222222222,
              "#7201a8"
             ],
             [
              0.3333333333333333,
              "#9c179e"
             ],
             [
              0.4444444444444444,
              "#bd3786"
             ],
             [
              0.5555555555555556,
              "#d8576b"
             ],
             [
              0.6666666666666666,
              "#ed7953"
             ],
             [
              0.7777777777777778,
              "#fb9f3a"
             ],
             [
              0.8888888888888888,
              "#fdca26"
             ],
             [
              1,
              "#f0f921"
             ]
            ],
            "type": "surface"
           }
          ],
          "table": [
           {
            "cells": {
             "fill": {
              "color": "#EBF0F8"
             },
             "line": {
              "color": "white"
             }
            },
            "header": {
             "fill": {
              "color": "#C8D4E3"
             },
             "line": {
              "color": "white"
             }
            },
            "type": "table"
           }
          ]
         },
         "layout": {
          "annotationdefaults": {
           "arrowcolor": "#2a3f5f",
           "arrowhead": 0,
           "arrowwidth": 1
          },
          "colorscale": {
           "diverging": [
            [
             0,
             "#8e0152"
            ],
            [
             0.1,
             "#c51b7d"
            ],
            [
             0.2,
             "#de77ae"
            ],
            [
             0.3,
             "#f1b6da"
            ],
            [
             0.4,
             "#fde0ef"
            ],
            [
             0.5,
             "#f7f7f7"
            ],
            [
             0.6,
             "#e6f5d0"
            ],
            [
             0.7,
             "#b8e186"
            ],
            [
             0.8,
             "#7fbc41"
            ],
            [
             0.9,
             "#4d9221"
            ],
            [
             1,
             "#276419"
            ]
           ],
           "sequential": [
            [
             0,
             "#0d0887"
            ],
            [
             0.1111111111111111,
             "#46039f"
            ],
            [
             0.2222222222222222,
             "#7201a8"
            ],
            [
             0.3333333333333333,
             "#9c179e"
            ],
            [
             0.4444444444444444,
             "#bd3786"
            ],
            [
             0.5555555555555556,
             "#d8576b"
            ],
            [
             0.6666666666666666,
             "#ed7953"
            ],
            [
             0.7777777777777778,
             "#fb9f3a"
            ],
            [
             0.8888888888888888,
             "#fdca26"
            ],
            [
             1,
             "#f0f921"
            ]
           ],
           "sequentialminus": [
            [
             0,
             "#0d0887"
            ],
            [
             0.1111111111111111,
             "#46039f"
            ],
            [
             0.2222222222222222,
             "#7201a8"
            ],
            [
             0.3333333333333333,
             "#9c179e"
            ],
            [
             0.4444444444444444,
             "#bd3786"
            ],
            [
             0.5555555555555556,
             "#d8576b"
            ],
            [
             0.6666666666666666,
             "#ed7953"
            ],
            [
             0.7777777777777778,
             "#fb9f3a"
            ],
            [
             0.8888888888888888,
             "#fdca26"
            ],
            [
             1,
             "#f0f921"
            ]
           ]
          },
          "colorway": [
           "#636efa",
           "#EF553B",
           "#00cc96",
           "#ab63fa",
           "#FFA15A",
           "#19d3f3",
           "#FF6692",
           "#B6E880",
           "#FF97FF",
           "#FECB52"
          ],
          "font": {
           "color": "#2a3f5f"
          },
          "geo": {
           "bgcolor": "white",
           "lakecolor": "white",
           "landcolor": "#E5ECF6",
           "showlakes": true,
           "showland": true,
           "subunitcolor": "white"
          },
          "hoverlabel": {
           "align": "left"
          },
          "hovermode": "closest",
          "mapbox": {
           "style": "light"
          },
          "paper_bgcolor": "white",
          "plot_bgcolor": "#E5ECF6",
          "polar": {
           "angularaxis": {
            "gridcolor": "white",
            "linecolor": "white",
            "ticks": ""
           },
           "bgcolor": "#E5ECF6",
           "radialaxis": {
            "gridcolor": "white",
            "linecolor": "white",
            "ticks": ""
           }
          },
          "scene": {
           "xaxis": {
            "backgroundcolor": "#E5ECF6",
            "gridcolor": "white",
            "gridwidth": 2,
            "linecolor": "white",
            "showbackground": true,
            "ticks": "",
            "zerolinecolor": "white"
           },
           "yaxis": {
            "backgroundcolor": "#E5ECF6",
            "gridcolor": "white",
            "gridwidth": 2,
            "linecolor": "white",
            "showbackground": true,
            "ticks": "",
            "zerolinecolor": "white"
           },
           "zaxis": {
            "backgroundcolor": "#E5ECF6",
            "gridcolor": "white",
            "gridwidth": 2,
            "linecolor": "white",
            "showbackground": true,
            "ticks": "",
            "zerolinecolor": "white"
           }
          },
          "shapedefaults": {
           "line": {
            "color": "#2a3f5f"
           }
          },
          "ternary": {
           "aaxis": {
            "gridcolor": "white",
            "linecolor": "white",
            "ticks": ""
           },
           "baxis": {
            "gridcolor": "white",
            "linecolor": "white",
            "ticks": ""
           },
           "bgcolor": "#E5ECF6",
           "caxis": {
            "gridcolor": "white",
            "linecolor": "white",
            "ticks": ""
           }
          },
          "title": {
           "x": 0.05
          },
          "xaxis": {
           "automargin": true,
           "gridcolor": "white",
           "linecolor": "white",
           "ticks": "",
           "zerolinecolor": "white",
           "zerolinewidth": 2
          },
          "yaxis": {
           "automargin": true,
           "gridcolor": "white",
           "linecolor": "white",
           "ticks": "",
           "zerolinecolor": "white",
           "zerolinewidth": 2
          }
         }
        },
        "title": {
         "text": "Size of class label"
        },
        "width": 400,
        "xaxis": {
         "title": {
          "text": "Class Label"
         }
        },
        "yaxis": {
         "title": {
          "text": "Class Size"
         }
        }
       }
      },
      "text/html": [
       "<div>\n",
       "        \n",
       "        \n",
       "            <div id=\"95c64518-a2f1-4aa4-9bec-e17378bc3cd1\" class=\"plotly-graph-div\" style=\"height:600px; width:400px;\"></div>\n",
       "            <script type=\"text/javascript\">\n",
       "                require([\"plotly\"], function(Plotly) {\n",
       "                    window.PLOTLYENV=window.PLOTLYENV || {};\n",
       "                    \n",
       "                if (document.getElementById(\"95c64518-a2f1-4aa4-9bec-e17378bc3cd1\")) {\n",
       "                    Plotly.newPlot(\n",
       "                        '95c64518-a2f1-4aa4-9bec-e17378bc3cd1',\n",
       "                        [{\"type\": \"bar\", \"x\": [0, 1], \"y\": [29720, 2242]}],\n",
       "                        {\"height\": 600, \"template\": {\"data\": {\"bar\": [{\"error_x\": {\"color\": \"#2a3f5f\"}, \"error_y\": {\"color\": \"#2a3f5f\"}, \"marker\": {\"line\": {\"color\": \"#E5ECF6\", \"width\": 0.5}}, \"type\": \"bar\"}], \"barpolar\": [{\"marker\": {\"line\": {\"color\": \"#E5ECF6\", \"width\": 0.5}}, \"type\": \"barpolar\"}], \"carpet\": [{\"aaxis\": {\"endlinecolor\": \"#2a3f5f\", \"gridcolor\": \"white\", \"linecolor\": \"white\", \"minorgridcolor\": \"white\", \"startlinecolor\": \"#2a3f5f\"}, \"baxis\": {\"endlinecolor\": \"#2a3f5f\", \"gridcolor\": \"white\", \"linecolor\": \"white\", \"minorgridcolor\": \"white\", \"startlinecolor\": \"#2a3f5f\"}, \"type\": \"carpet\"}], \"choropleth\": [{\"colorbar\": {\"outlinewidth\": 0, \"ticks\": \"\"}, \"type\": \"choropleth\"}], \"contour\": [{\"colorbar\": {\"outlinewidth\": 0, \"ticks\": \"\"}, \"colorscale\": [[0.0, \"#0d0887\"], [0.1111111111111111, \"#46039f\"], [0.2222222222222222, \"#7201a8\"], [0.3333333333333333, \"#9c179e\"], [0.4444444444444444, \"#bd3786\"], [0.5555555555555556, \"#d8576b\"], [0.6666666666666666, \"#ed7953\"], [0.7777777777777778, \"#fb9f3a\"], [0.8888888888888888, \"#fdca26\"], [1.0, \"#f0f921\"]], \"type\": \"contour\"}], \"contourcarpet\": [{\"colorbar\": {\"outlinewidth\": 0, \"ticks\": \"\"}, \"type\": \"contourcarpet\"}], \"heatmap\": [{\"colorbar\": {\"outlinewidth\": 0, \"ticks\": \"\"}, \"colorscale\": [[0.0, \"#0d0887\"], [0.1111111111111111, \"#46039f\"], [0.2222222222222222, \"#7201a8\"], [0.3333333333333333, \"#9c179e\"], [0.4444444444444444, \"#bd3786\"], [0.5555555555555556, \"#d8576b\"], [0.6666666666666666, \"#ed7953\"], [0.7777777777777778, \"#fb9f3a\"], [0.8888888888888888, \"#fdca26\"], [1.0, \"#f0f921\"]], \"type\": \"heatmap\"}], \"heatmapgl\": [{\"colorbar\": {\"outlinewidth\": 0, \"ticks\": \"\"}, \"colorscale\": [[0.0, \"#0d0887\"], [0.1111111111111111, \"#46039f\"], [0.2222222222222222, \"#7201a8\"], [0.3333333333333333, \"#9c179e\"], [0.4444444444444444, \"#bd3786\"], [0.5555555555555556, \"#d8576b\"], [0.6666666666666666, \"#ed7953\"], [0.7777777777777778, \"#fb9f3a\"], [0.8888888888888888, \"#fdca26\"], [1.0, \"#f0f921\"]], \"type\": \"heatmapgl\"}], \"histogram\": [{\"marker\": {\"colorbar\": {\"outlinewidth\": 0, \"ticks\": \"\"}}, \"type\": \"histogram\"}], \"histogram2d\": [{\"colorbar\": {\"outlinewidth\": 0, \"ticks\": \"\"}, \"colorscale\": [[0.0, \"#0d0887\"], [0.1111111111111111, \"#46039f\"], [0.2222222222222222, \"#7201a8\"], [0.3333333333333333, \"#9c179e\"], [0.4444444444444444, \"#bd3786\"], [0.5555555555555556, \"#d8576b\"], [0.6666666666666666, \"#ed7953\"], [0.7777777777777778, \"#fb9f3a\"], [0.8888888888888888, \"#fdca26\"], [1.0, \"#f0f921\"]], \"type\": \"histogram2d\"}], \"histogram2dcontour\": [{\"colorbar\": {\"outlinewidth\": 0, \"ticks\": \"\"}, \"colorscale\": [[0.0, \"#0d0887\"], [0.1111111111111111, \"#46039f\"], [0.2222222222222222, \"#7201a8\"], [0.3333333333333333, \"#9c179e\"], [0.4444444444444444, \"#bd3786\"], [0.5555555555555556, \"#d8576b\"], [0.6666666666666666, \"#ed7953\"], [0.7777777777777778, \"#fb9f3a\"], [0.8888888888888888, \"#fdca26\"], [1.0, \"#f0f921\"]], \"type\": \"histogram2dcontour\"}], \"mesh3d\": [{\"colorbar\": {\"outlinewidth\": 0, \"ticks\": \"\"}, \"type\": \"mesh3d\"}], \"parcoords\": [{\"line\": {\"colorbar\": {\"outlinewidth\": 0, \"ticks\": \"\"}}, \"type\": \"parcoords\"}], \"scatter\": [{\"marker\": {\"colorbar\": {\"outlinewidth\": 0, \"ticks\": \"\"}}, \"type\": \"scatter\"}], \"scatter3d\": [{\"line\": {\"colorbar\": {\"outlinewidth\": 0, \"ticks\": \"\"}}, \"marker\": {\"colorbar\": {\"outlinewidth\": 0, \"ticks\": \"\"}}, \"type\": \"scatter3d\"}], \"scattercarpet\": [{\"marker\": {\"colorbar\": {\"outlinewidth\": 0, \"ticks\": \"\"}}, \"type\": \"scattercarpet\"}], \"scattergeo\": [{\"marker\": {\"colorbar\": {\"outlinewidth\": 0, \"ticks\": \"\"}}, \"type\": \"scattergeo\"}], \"scattergl\": [{\"marker\": {\"colorbar\": {\"outlinewidth\": 0, \"ticks\": \"\"}}, \"type\": \"scattergl\"}], \"scattermapbox\": [{\"marker\": {\"colorbar\": {\"outlinewidth\": 0, \"ticks\": \"\"}}, \"type\": \"scattermapbox\"}], \"scatterpolar\": [{\"marker\": {\"colorbar\": {\"outlinewidth\": 0, \"ticks\": \"\"}}, \"type\": \"scatterpolar\"}], \"scatterpolargl\": [{\"marker\": {\"colorbar\": {\"outlinewidth\": 0, \"ticks\": \"\"}}, \"type\": \"scatterpolargl\"}], \"scatterternary\": [{\"marker\": {\"colorbar\": {\"outlinewidth\": 0, \"ticks\": \"\"}}, \"type\": \"scatterternary\"}], \"surface\": [{\"colorbar\": {\"outlinewidth\": 0, \"ticks\": \"\"}, \"colorscale\": [[0.0, \"#0d0887\"], [0.1111111111111111, \"#46039f\"], [0.2222222222222222, \"#7201a8\"], [0.3333333333333333, \"#9c179e\"], [0.4444444444444444, \"#bd3786\"], [0.5555555555555556, \"#d8576b\"], [0.6666666666666666, \"#ed7953\"], [0.7777777777777778, \"#fb9f3a\"], [0.8888888888888888, \"#fdca26\"], [1.0, \"#f0f921\"]], \"type\": \"surface\"}], \"table\": [{\"cells\": {\"fill\": {\"color\": \"#EBF0F8\"}, \"line\": {\"color\": \"white\"}}, \"header\": {\"fill\": {\"color\": \"#C8D4E3\"}, \"line\": {\"color\": \"white\"}}, \"type\": \"table\"}]}, \"layout\": {\"annotationdefaults\": {\"arrowcolor\": \"#2a3f5f\", \"arrowhead\": 0, \"arrowwidth\": 1}, \"colorscale\": {\"diverging\": [[0, \"#8e0152\"], [0.1, \"#c51b7d\"], [0.2, \"#de77ae\"], [0.3, \"#f1b6da\"], [0.4, \"#fde0ef\"], [0.5, \"#f7f7f7\"], [0.6, \"#e6f5d0\"], [0.7, \"#b8e186\"], [0.8, \"#7fbc41\"], [0.9, \"#4d9221\"], [1, \"#276419\"]], \"sequential\": [[0.0, \"#0d0887\"], [0.1111111111111111, \"#46039f\"], [0.2222222222222222, \"#7201a8\"], [0.3333333333333333, \"#9c179e\"], [0.4444444444444444, \"#bd3786\"], [0.5555555555555556, \"#d8576b\"], [0.6666666666666666, \"#ed7953\"], [0.7777777777777778, \"#fb9f3a\"], [0.8888888888888888, \"#fdca26\"], [1.0, \"#f0f921\"]], \"sequentialminus\": [[0.0, \"#0d0887\"], [0.1111111111111111, \"#46039f\"], [0.2222222222222222, \"#7201a8\"], [0.3333333333333333, \"#9c179e\"], [0.4444444444444444, \"#bd3786\"], [0.5555555555555556, \"#d8576b\"], [0.6666666666666666, \"#ed7953\"], [0.7777777777777778, \"#fb9f3a\"], [0.8888888888888888, \"#fdca26\"], [1.0, \"#f0f921\"]]}, \"colorway\": [\"#636efa\", \"#EF553B\", \"#00cc96\", \"#ab63fa\", \"#FFA15A\", \"#19d3f3\", \"#FF6692\", \"#B6E880\", \"#FF97FF\", \"#FECB52\"], \"font\": {\"color\": \"#2a3f5f\"}, \"geo\": {\"bgcolor\": \"white\", \"lakecolor\": \"white\", \"landcolor\": \"#E5ECF6\", \"showlakes\": true, \"showland\": true, \"subunitcolor\": \"white\"}, \"hoverlabel\": {\"align\": \"left\"}, \"hovermode\": \"closest\", \"mapbox\": {\"style\": \"light\"}, \"paper_bgcolor\": \"white\", \"plot_bgcolor\": \"#E5ECF6\", \"polar\": {\"angularaxis\": {\"gridcolor\": \"white\", \"linecolor\": \"white\", \"ticks\": \"\"}, \"bgcolor\": \"#E5ECF6\", \"radialaxis\": {\"gridcolor\": \"white\", \"linecolor\": \"white\", \"ticks\": \"\"}}, \"scene\": {\"xaxis\": {\"backgroundcolor\": \"#E5ECF6\", \"gridcolor\": \"white\", \"gridwidth\": 2, \"linecolor\": \"white\", \"showbackground\": true, \"ticks\": \"\", \"zerolinecolor\": \"white\"}, \"yaxis\": {\"backgroundcolor\": \"#E5ECF6\", \"gridcolor\": \"white\", \"gridwidth\": 2, \"linecolor\": \"white\", \"showbackground\": true, \"ticks\": \"\", \"zerolinecolor\": \"white\"}, \"zaxis\": {\"backgroundcolor\": \"#E5ECF6\", \"gridcolor\": \"white\", \"gridwidth\": 2, \"linecolor\": \"white\", \"showbackground\": true, \"ticks\": \"\", \"zerolinecolor\": \"white\"}}, \"shapedefaults\": {\"line\": {\"color\": \"#2a3f5f\"}}, \"ternary\": {\"aaxis\": {\"gridcolor\": \"white\", \"linecolor\": \"white\", \"ticks\": \"\"}, \"baxis\": {\"gridcolor\": \"white\", \"linecolor\": \"white\", \"ticks\": \"\"}, \"bgcolor\": \"#E5ECF6\", \"caxis\": {\"gridcolor\": \"white\", \"linecolor\": \"white\", \"ticks\": \"\"}}, \"title\": {\"x\": 0.05}, \"xaxis\": {\"automargin\": true, \"gridcolor\": \"white\", \"linecolor\": \"white\", \"ticks\": \"\", \"zerolinecolor\": \"white\", \"zerolinewidth\": 2}, \"yaxis\": {\"automargin\": true, \"gridcolor\": \"white\", \"linecolor\": \"white\", \"ticks\": \"\", \"zerolinecolor\": \"white\", \"zerolinewidth\": 2}}}, \"title\": {\"text\": \"Size of class label\"}, \"width\": 400, \"xaxis\": {\"title\": {\"text\": \"Class Label\"}}, \"yaxis\": {\"title\": {\"text\": \"Class Size\"}}},\n",
       "                        {\"responsive\": true}\n",
       "                    ).then(function(){\n",
       "                            \n",
       "var gd = document.getElementById('95c64518-a2f1-4aa4-9bec-e17378bc3cd1');\n",
       "var x = new MutationObserver(function (mutations, observer) {{\n",
       "        var display = window.getComputedStyle(gd).display;\n",
       "        if (!display || display === 'none') {{\n",
       "            console.log([gd, 'removed!']);\n",
       "            Plotly.purge(gd);\n",
       "            observer.disconnect();\n",
       "        }}\n",
       "}});\n",
       "\n",
       "// Listen for the removal of the full notebook cells\n",
       "var notebookContainer = gd.closest('#notebook-container');\n",
       "if (notebookContainer) {{\n",
       "    x.observe(notebookContainer, {childList: true});\n",
       "}}\n",
       "\n",
       "// Listen for the clearing of the current output cell\n",
       "var outputEl = gd.closest('.output');\n",
       "if (outputEl) {{\n",
       "    x.observe(outputEl, {childList: true});\n",
       "}}\n",
       "\n",
       "                        })\n",
       "                };\n",
       "                });\n",
       "            </script>\n",
       "        </div>"
      ]
     },
     "metadata": {},
     "output_type": "display_data"
    }
   ],
   "source": [
    "#Visualizing the distribution of class label\n",
    "bar1 = go.Bar(x =main_df['label'].value_counts().index, y=main_df['label'].value_counts().values)\n",
    "\n",
    "layout = go.Layout(title = 'Size of class label',\n",
    "                  xaxis = dict(title = 'Class Label'),\n",
    "                  yaxis = dict(title = 'Class Size'), \n",
    "                   width = 400, height = 600)\n",
    "\n",
    "fig = go.Figure(data = bar1, layout = layout)\n",
    "fig.show()"
   ]
  },
  {
   "cell_type": "markdown",
   "metadata": {},
   "source": [
    "The data appear to be imbalance as seen in the above plot. That is, the volume of Positive tweet (class label = 0) outweights the Negative tweets (class label = 1). This may have an impact on the model's accuray. A possible way to balance the data would be to consider oversampling the negative class, or undersampling the positive class in the dataset. This will be further addressed in a later step."
   ]
  },
  {
   "cell_type": "markdown",
   "metadata": {},
   "source": [
    "## 2) PREPROCESSING"
   ]
  },
  {
   "cell_type": "markdown",
   "metadata": {},
   "source": [
    "### Train/Test Split\n",
    "\n",
    "The dataset will be splitted into two sets; \n",
    "\n",
    "***80% of the data will be used for training the model. The remaining 20% will be set aside to test/evaluating the model's perfromance.***\n",
    "\n",
    "To split the data, the Stratified Random Sampling(SRS) technique will be used. This will ensure that the distribution of the class labels is reflective in both samples. "
   ]
  },
  {
   "cell_type": "code",
   "execution_count": 12,
   "metadata": {},
   "outputs": [],
   "source": [
    "#Seperate test data from main data\n",
    "from sklearn.model_selection import train_test_split\n",
    "\n",
    "X_rem, X_test, y_rem, y_test = train_test_split(main_df['tweet'], main_df['label'], test_size = 0.2, shuffle = True, \n",
    "                                                stratify = main_df['label'], random_state = 1234)"
   ]
  },
  {
   "cell_type": "code",
   "execution_count": 13,
   "metadata": {},
   "outputs": [
    {
     "name": "stdout",
     "output_type": "stream",
     "text": [
      "Shape of X_rem: (25569,)\n",
      "Shape of y_rem: (25569,)\n",
      "Shape of X_test: (6393,)\n",
      "Shape of y_test: (6393,)\n"
     ]
    }
   ],
   "source": [
    "#Shape of each dataset\n",
    "print('Shape of X_rem:', X_rem.shape)\n",
    "print('Shape of y_rem:', y_rem.shape)\n",
    "print('Shape of X_test:', X_test.shape)\n",
    "print('Shape of y_test:', y_test.shape)"
   ]
  },
  {
   "cell_type": "code",
   "execution_count": 23,
   "metadata": {},
   "outputs": [],
   "source": [
    "#Combine X_rem and y_rem back into a DataFrame\n",
    "rem_df = pd.merge(X_rem,y_rem, left_index = True, right_index = True).reset_index(drop = True)"
   ]
  },
  {
   "cell_type": "code",
   "execution_count": 24,
   "metadata": {},
   "outputs": [
    {
     "data": {
      "text/plain": [
       "(25569, 2)"
      ]
     },
     "execution_count": 24,
     "metadata": {},
     "output_type": "execute_result"
    }
   ],
   "source": [
    "#Checking that no data points were lost during trabsformation\n",
    "rem_df.shape"
   ]
  },
  {
   "cell_type": "markdown",
   "metadata": {},
   "source": [
    "### Natural Language Processing"
   ]
  },
  {
   "cell_type": "markdown",
   "metadata": {},
   "source": [
    "Natural Language Processing(NLP) techniques will be applied to the text data as an initial pre-processing step using built-in functions from the python natural language tool kit (nltk) library.\n",
    "\n",
    "Applying these python built-in functions cleans and transforms the text data into a more useful format.\n",
    "\n",
    "The NLTK steps will include;\n",
    "\n",
    "1) Tokenization\n",
    "\n",
    "2) Puctuation removal\n",
    "\n",
    "3) Stopword removal\n",
    "\n",
    "4) Lemmatization\n",
    "\n",
    "5) Stemming\n",
    "\n",
    "6) Corpus(Bagofwords)\n"
   ]
  },
  {
   "cell_type": "markdown",
   "metadata": {},
   "source": [
    "#### Building the NLP functions"
   ]
  },
  {
   "cell_type": "code",
   "execution_count": 15,
   "metadata": {},
   "outputs": [],
   "source": [
    "#Function tokenizes each sentence t.e. splits sentence into individual words(tokens)\n",
    "\n",
    "def tokenizer(text):\n",
    "    '''\n",
    "    Splits sentences into individual words(tokens)\n",
    "    '''\n",
    "    return word_tokenize(text)"
   ]
  },
  {
   "cell_type": "code",
   "execution_count": 16,
   "metadata": {},
   "outputs": [],
   "source": [
    "#Remove punctuations\n",
    "def punct_remover(text):\n",
    "    \n",
    "    '''\n",
    "    Identifies and remove\n",
    "    punctuations. \n",
    "    '''\n",
    "    \n",
    "    punct_list = string.punctuation\n",
    "    \n",
    "    punct_removed_text = []\n",
    "    \n",
    "    for token in text:\n",
    "        \n",
    "        if token in punct_list: continue\n",
    "        punct_removed_text.append(token)\n",
    "    \n",
    "    return punct_removed_text       "
   ]
  },
  {
   "cell_type": "code",
   "execution_count": 17,
   "metadata": {},
   "outputs": [],
   "source": [
    "#Define stop word removal function that removes functions from text and adds it to existing token list \n",
    "\n",
    "def stopword_remover(token_list):\n",
    "    \n",
    "    '''\n",
    "    Remove stop words(english) from text. \n",
    "    \n",
    "    For this project, 'user' will be added to the list of stop words.\n",
    "    '''\n",
    "    \n",
    "    stop = stopwords.words('english') + ['user'] #add user to list of english stopwords\n",
    "    \n",
    "    stop_removed_text = []\n",
    "    \n",
    "    for token in token_list:\n",
    "        if token in stop: continue\n",
    "        stop_removed_text.append(token) \n",
    "        \n",
    "    return stop_removed_text     "
   ]
  },
  {
   "cell_type": "code",
   "execution_count": 18,
   "metadata": {},
   "outputs": [],
   "source": [
    "#Define function that performs lemmatization on texts i.e changes texts to its dictionary form\n",
    "def word_lemmatizer(token_list):\n",
    "    \n",
    "    '''\n",
    "    Keep texts in their dictionary form.\n",
    "    '''\n",
    "    \n",
    "    lemma = WordNetLemmatizer()\n",
    "    \n",
    "    lemmatized_tokens = []\n",
    "    \n",
    "    for i in token_list:\n",
    "        token = lemma.lemmatize(i)\n",
    "        \n",
    "        lemmatized_tokens.append(token)\n",
    "        \n",
    "    return lemmatized_tokens"
   ]
  },
  {
   "cell_type": "code",
   "execution_count": 19,
   "metadata": {},
   "outputs": [],
   "source": [
    "#Define function that stems text by reducing token to its unchangeable format\n",
    "def word_stemmer(token_list):\n",
    "    \n",
    "    '''\n",
    "    Remove extended words and keep the base unchangeable form.\n",
    "    '''\n",
    "    \n",
    "    stemmer = PorterStemmer()\n",
    "    \n",
    "    stemmed_token = []\n",
    "    \n",
    "    for i in token_list:\n",
    "        \n",
    "        token = stemmer.stem(i)\n",
    "        \n",
    "        stemmed_token.append(token)\n",
    "        \n",
    "    return stemmed_token   "
   ]
  },
  {
   "cell_type": "code",
   "execution_count": 20,
   "metadata": {},
   "outputs": [],
   "source": [
    "#Function joins the cleaned text back into a string\n",
    "\n",
    "def untokenizer(token):\n",
    "    \n",
    "    '''\n",
    "    Concatenate token back to string\n",
    "    '''\n",
    "    untoken = ' '.join(token)\n",
    "    \n",
    "    return untoken"
   ]
  },
  {
   "cell_type": "code",
   "execution_count": 21,
   "metadata": {},
   "outputs": [],
   "source": [
    "def Text_cleaner(data):\n",
    "    \n",
    "    '''\n",
    "    Text_cleaner combines all the above defined functions.\n",
    "    '''\n",
    "    \n",
    "    cleaned_tweet = []\n",
    "    data_length = len(data)\n",
    "\n",
    "    #FUNCTIONS OF THE TEXT CLEANER\n",
    "    \n",
    "    data = data.apply(lambda x: re.sub('[^A-Za-z\\s]', ' ',x))\n",
    "    \n",
    "    for i in range(data_length):\n",
    "        \n",
    "        tweet = data[i]\n",
    "\n",
    "        #split the sentence/phrase into tokens\n",
    "        tokenized_text = tokenizer(tweet)\n",
    "\n",
    "        #keep text in all lower case\n",
    "        lc_text = [t.lower() for t in tokenized_text]\n",
    "\n",
    "        #Remove punctuations\n",
    "        no_punct_text = punct_remover(lc_text)\n",
    "\n",
    "        #Remove english stop words \n",
    "        no_stopwords = stopword_remover(no_punct_text)\n",
    "\n",
    "        #lemmatize text by changing it to its dictonary form\n",
    "        lemm_text = word_lemmatizer(no_stopwords)\n",
    "\n",
    "        #Remove stemmers by applying stemmation (remove s,ing,ly etc)\n",
    "        stemed_text = word_stemmer(lemm_text)\n",
    "\n",
    "        #untokenize text back into a string\n",
    "        cleaned_text = untokenizer(stemed_text)\n",
    "\n",
    "        #append cleaned texts back to the list\n",
    "        cleaned_tweet.append(cleaned_text)\n",
    "\n",
    "    return cleaned_tweet"
   ]
  },
  {
   "cell_type": "code",
   "execution_count": 31,
   "metadata": {},
   "outputs": [],
   "source": [
    "#Apply the Text_cleaner function to the rem_df data\n",
    "rem_df['cleaned_tweet'] = Text_cleaner(rem_df['tweet'])"
   ]
  },
  {
   "cell_type": "code",
   "execution_count": 33,
   "metadata": {},
   "outputs": [
    {
     "name": "stdout",
     "output_type": "stream",
     "text": [
      "OLD TWEET:\n",
      "  @user every single day without any doubt you make me smile ð @user #boyfriend   ððð«\n",
      "\n",
      "NEW CLEANED TWEET:\n",
      " everi singl day without doubt make smile boyfriend\n"
     ]
    }
   ],
   "source": [
    "#Sanity check: To make sure the Text_cleaner function worked\n",
    "print('OLD TWEET:\\n',rem_df['tweet'][8])\n",
    "\n",
    "print('\\nNEW CLEANED TWEET:\\n',rem_df['cleaned_tweet'][8])"
   ]
  },
  {
   "cell_type": "markdown",
   "metadata": {},
   "source": [
    "The above preview shows the difference between the raw text data and the cleaned text. The words in the texts have been transformed, special characters have also been removed."
   ]
  },
  {
   "cell_type": "code",
   "execution_count": 36,
   "metadata": {},
   "outputs": [
    {
     "data": {
      "text/html": [
       "<div>\n",
       "<style scoped>\n",
       "    .dataframe tbody tr th:only-of-type {\n",
       "        vertical-align: middle;\n",
       "    }\n",
       "\n",
       "    .dataframe tbody tr th {\n",
       "        vertical-align: top;\n",
       "    }\n",
       "\n",
       "    .dataframe thead th {\n",
       "        text-align: right;\n",
       "    }\n",
       "</style>\n",
       "<table border=\"1\" class=\"dataframe\">\n",
       "  <thead>\n",
       "    <tr style=\"text-align: right;\">\n",
       "      <th></th>\n",
       "      <th>label</th>\n",
       "      <th>cleaned_tweet</th>\n",
       "    </tr>\n",
       "  </thead>\n",
       "  <tbody>\n",
       "    <tr>\n",
       "      <th>0</th>\n",
       "      <td>0</td>\n",
       "      <td>rip soul morelov lovepleas monday heabroken or...</td>\n",
       "    </tr>\n",
       "    <tr>\n",
       "      <th>1</th>\n",
       "      <td>0</td>\n",
       "      <td>father day</td>\n",
       "    </tr>\n",
       "    <tr>\n",
       "      <th>2</th>\n",
       "      <td>0</td>\n",
       "      <td>back see yr group tomorrow get sign term time ...</td>\n",
       "    </tr>\n",
       "    <tr>\n",
       "      <th>3</th>\n",
       "      <td>0</td>\n",
       "      <td>differ cav gsw ryt hea win</td>\n",
       "    </tr>\n",
       "    <tr>\n",
       "      <th>4</th>\n",
       "      <td>0</td>\n",
       "      <td>love eyebrow go fuck perfectli</td>\n",
       "    </tr>\n",
       "  </tbody>\n",
       "</table>\n",
       "</div>"
      ],
      "text/plain": [
       "   label                                      cleaned_tweet\n",
       "0      0  rip soul morelov lovepleas monday heabroken or...\n",
       "1      0                                         father day\n",
       "2      0  back see yr group tomorrow get sign term time ...\n",
       "3      0                         differ cav gsw ryt hea win\n",
       "4      0                     love eyebrow go fuck perfectli"
      ]
     },
     "execution_count": 36,
     "metadata": {},
     "output_type": "execute_result"
    }
   ],
   "source": [
    "#Drop/Delete old tweet column from DataFrame\n",
    "rem_df.drop(columns = ['tweet'], inplace = True)\n",
    "rem_df.head()"
   ]
  },
  {
   "cell_type": "markdown",
   "metadata": {},
   "source": [
    "### Missing Values\n",
    "\n",
    "Removing missing and/or duplicated rows in the dataset."
   ]
  },
  {
   "cell_type": "code",
   "execution_count": 37,
   "metadata": {},
   "outputs": [
    {
     "data": {
      "text/plain": [
       "label            False\n",
       "cleaned_tweet    False\n",
       "dtype: bool"
      ]
     },
     "execution_count": 37,
     "metadata": {},
     "output_type": "execute_result"
    }
   ],
   "source": [
    "#Check for missing values\n",
    "rem_df.isna().any()"
   ]
  },
  {
   "cell_type": "markdown",
   "metadata": {},
   "source": [
    "No missing values detected in the dataset."
   ]
  },
  {
   "cell_type": "markdown",
   "metadata": {},
   "source": [
    "### Duplicated values"
   ]
  },
  {
   "cell_type": "code",
   "execution_count": 38,
   "metadata": {},
   "outputs": [
    {
     "data": {
      "text/plain": [
       "False    22802\n",
       "True      2767\n",
       "dtype: int64"
      ]
     },
     "execution_count": 38,
     "metadata": {},
     "output_type": "execute_result"
    }
   ],
   "source": [
    "#Check if any of the rows are duplicated\n",
    "rem_df.duplicated(keep = 'first').value_counts()"
   ]
  },
  {
   "cell_type": "markdown",
   "metadata": {},
   "source": [
    "2,767 duplicated records are present in the rem_df dataset. These duplicates will be removed."
   ]
  },
  {
   "cell_type": "code",
   "execution_count": 40,
   "metadata": {},
   "outputs": [
    {
     "data": {
      "text/plain": [
       "(22802, 2)"
      ]
     },
     "execution_count": 40,
     "metadata": {},
     "output_type": "execute_result"
    }
   ],
   "source": [
    "#Remove all duplicates\n",
    "rem_cln = rem_df[rem_df.duplicated(keep = 'first') != True]\n",
    "\n",
    "#Shape of data after all duplicates have been removed\n",
    "rem_cln.shape"
   ]
  },
  {
   "cell_type": "code",
   "execution_count": 41,
   "metadata": {},
   "outputs": [
    {
     "data": {
      "text/plain": [
       "False    22802\n",
       "dtype: int64"
      ]
     },
     "execution_count": 41,
     "metadata": {},
     "output_type": "execute_result"
    }
   ],
   "source": [
    "#Check if duplicates are still presesent in the data\n",
    "rem_cln.duplicated().value_counts()"
   ]
  },
  {
   "cell_type": "code",
   "execution_count": 42,
   "metadata": {},
   "outputs": [
    {
     "data": {
      "application/vnd.plotly.v1+json": {
       "config": {
        "plotlyServerURL": "https://plot.ly"
       },
       "data": [
        {
         "type": "bar",
         "x": [
          0,
          1
         ],
         "y": [
          21315,
          1487
         ]
        }
       ],
       "layout": {
        "height": 600,
        "template": {
         "data": {
          "bar": [
           {
            "error_x": {
             "color": "#2a3f5f"
            },
            "error_y": {
             "color": "#2a3f5f"
            },
            "marker": {
             "line": {
              "color": "#E5ECF6",
              "width": 0.5
             }
            },
            "type": "bar"
           }
          ],
          "barpolar": [
           {
            "marker": {
             "line": {
              "color": "#E5ECF6",
              "width": 0.5
             }
            },
            "type": "barpolar"
           }
          ],
          "carpet": [
           {
            "aaxis": {
             "endlinecolor": "#2a3f5f",
             "gridcolor": "white",
             "linecolor": "white",
             "minorgridcolor": "white",
             "startlinecolor": "#2a3f5f"
            },
            "baxis": {
             "endlinecolor": "#2a3f5f",
             "gridcolor": "white",
             "linecolor": "white",
             "minorgridcolor": "white",
             "startlinecolor": "#2a3f5f"
            },
            "type": "carpet"
           }
          ],
          "choropleth": [
           {
            "colorbar": {
             "outlinewidth": 0,
             "ticks": ""
            },
            "type": "choropleth"
           }
          ],
          "contour": [
           {
            "colorbar": {
             "outlinewidth": 0,
             "ticks": ""
            },
            "colorscale": [
             [
              0,
              "#0d0887"
             ],
             [
              0.1111111111111111,
              "#46039f"
             ],
             [
              0.2222222222222222,
              "#7201a8"
             ],
             [
              0.3333333333333333,
              "#9c179e"
             ],
             [
              0.4444444444444444,
              "#bd3786"
             ],
             [
              0.5555555555555556,
              "#d8576b"
             ],
             [
              0.6666666666666666,
              "#ed7953"
             ],
             [
              0.7777777777777778,
              "#fb9f3a"
             ],
             [
              0.8888888888888888,
              "#fdca26"
             ],
             [
              1,
              "#f0f921"
             ]
            ],
            "type": "contour"
           }
          ],
          "contourcarpet": [
           {
            "colorbar": {
             "outlinewidth": 0,
             "ticks": ""
            },
            "type": "contourcarpet"
           }
          ],
          "heatmap": [
           {
            "colorbar": {
             "outlinewidth": 0,
             "ticks": ""
            },
            "colorscale": [
             [
              0,
              "#0d0887"
             ],
             [
              0.1111111111111111,
              "#46039f"
             ],
             [
              0.2222222222222222,
              "#7201a8"
             ],
             [
              0.3333333333333333,
              "#9c179e"
             ],
             [
              0.4444444444444444,
              "#bd3786"
             ],
             [
              0.5555555555555556,
              "#d8576b"
             ],
             [
              0.6666666666666666,
              "#ed7953"
             ],
             [
              0.7777777777777778,
              "#fb9f3a"
             ],
             [
              0.8888888888888888,
              "#fdca26"
             ],
             [
              1,
              "#f0f921"
             ]
            ],
            "type": "heatmap"
           }
          ],
          "heatmapgl": [
           {
            "colorbar": {
             "outlinewidth": 0,
             "ticks": ""
            },
            "colorscale": [
             [
              0,
              "#0d0887"
             ],
             [
              0.1111111111111111,
              "#46039f"
             ],
             [
              0.2222222222222222,
              "#7201a8"
             ],
             [
              0.3333333333333333,
              "#9c179e"
             ],
             [
              0.4444444444444444,
              "#bd3786"
             ],
             [
              0.5555555555555556,
              "#d8576b"
             ],
             [
              0.6666666666666666,
              "#ed7953"
             ],
             [
              0.7777777777777778,
              "#fb9f3a"
             ],
             [
              0.8888888888888888,
              "#fdca26"
             ],
             [
              1,
              "#f0f921"
             ]
            ],
            "type": "heatmapgl"
           }
          ],
          "histogram": [
           {
            "marker": {
             "colorbar": {
              "outlinewidth": 0,
              "ticks": ""
             }
            },
            "type": "histogram"
           }
          ],
          "histogram2d": [
           {
            "colorbar": {
             "outlinewidth": 0,
             "ticks": ""
            },
            "colorscale": [
             [
              0,
              "#0d0887"
             ],
             [
              0.1111111111111111,
              "#46039f"
             ],
             [
              0.2222222222222222,
              "#7201a8"
             ],
             [
              0.3333333333333333,
              "#9c179e"
             ],
             [
              0.4444444444444444,
              "#bd3786"
             ],
             [
              0.5555555555555556,
              "#d8576b"
             ],
             [
              0.6666666666666666,
              "#ed7953"
             ],
             [
              0.7777777777777778,
              "#fb9f3a"
             ],
             [
              0.8888888888888888,
              "#fdca26"
             ],
             [
              1,
              "#f0f921"
             ]
            ],
            "type": "histogram2d"
           }
          ],
          "histogram2dcontour": [
           {
            "colorbar": {
             "outlinewidth": 0,
             "ticks": ""
            },
            "colorscale": [
             [
              0,
              "#0d0887"
             ],
             [
              0.1111111111111111,
              "#46039f"
             ],
             [
              0.2222222222222222,
              "#7201a8"
             ],
             [
              0.3333333333333333,
              "#9c179e"
             ],
             [
              0.4444444444444444,
              "#bd3786"
             ],
             [
              0.5555555555555556,
              "#d8576b"
             ],
             [
              0.6666666666666666,
              "#ed7953"
             ],
             [
              0.7777777777777778,
              "#fb9f3a"
             ],
             [
              0.8888888888888888,
              "#fdca26"
             ],
             [
              1,
              "#f0f921"
             ]
            ],
            "type": "histogram2dcontour"
           }
          ],
          "mesh3d": [
           {
            "colorbar": {
             "outlinewidth": 0,
             "ticks": ""
            },
            "type": "mesh3d"
           }
          ],
          "parcoords": [
           {
            "line": {
             "colorbar": {
              "outlinewidth": 0,
              "ticks": ""
             }
            },
            "type": "parcoords"
           }
          ],
          "scatter": [
           {
            "marker": {
             "colorbar": {
              "outlinewidth": 0,
              "ticks": ""
             }
            },
            "type": "scatter"
           }
          ],
          "scatter3d": [
           {
            "line": {
             "colorbar": {
              "outlinewidth": 0,
              "ticks": ""
             }
            },
            "marker": {
             "colorbar": {
              "outlinewidth": 0,
              "ticks": ""
             }
            },
            "type": "scatter3d"
           }
          ],
          "scattercarpet": [
           {
            "marker": {
             "colorbar": {
              "outlinewidth": 0,
              "ticks": ""
             }
            },
            "type": "scattercarpet"
           }
          ],
          "scattergeo": [
           {
            "marker": {
             "colorbar": {
              "outlinewidth": 0,
              "ticks": ""
             }
            },
            "type": "scattergeo"
           }
          ],
          "scattergl": [
           {
            "marker": {
             "colorbar": {
              "outlinewidth": 0,
              "ticks": ""
             }
            },
            "type": "scattergl"
           }
          ],
          "scattermapbox": [
           {
            "marker": {
             "colorbar": {
              "outlinewidth": 0,
              "ticks": ""
             }
            },
            "type": "scattermapbox"
           }
          ],
          "scatterpolar": [
           {
            "marker": {
             "colorbar": {
              "outlinewidth": 0,
              "ticks": ""
             }
            },
            "type": "scatterpolar"
           }
          ],
          "scatterpolargl": [
           {
            "marker": {
             "colorbar": {
              "outlinewidth": 0,
              "ticks": ""
             }
            },
            "type": "scatterpolargl"
           }
          ],
          "scatterternary": [
           {
            "marker": {
             "colorbar": {
              "outlinewidth": 0,
              "ticks": ""
             }
            },
            "type": "scatterternary"
           }
          ],
          "surface": [
           {
            "colorbar": {
             "outlinewidth": 0,
             "ticks": ""
            },
            "colorscale": [
             [
              0,
              "#0d0887"
             ],
             [
              0.1111111111111111,
              "#46039f"
             ],
             [
              0.2222222222222222,
              "#7201a8"
             ],
             [
              0.3333333333333333,
              "#9c179e"
             ],
             [
              0.4444444444444444,
              "#bd3786"
             ],
             [
              0.5555555555555556,
              "#d8576b"
             ],
             [
              0.6666666666666666,
              "#ed7953"
             ],
             [
              0.7777777777777778,
              "#fb9f3a"
             ],
             [
              0.8888888888888888,
              "#fdca26"
             ],
             [
              1,
              "#f0f921"
             ]
            ],
            "type": "surface"
           }
          ],
          "table": [
           {
            "cells": {
             "fill": {
              "color": "#EBF0F8"
             },
             "line": {
              "color": "white"
             }
            },
            "header": {
             "fill": {
              "color": "#C8D4E3"
             },
             "line": {
              "color": "white"
             }
            },
            "type": "table"
           }
          ]
         },
         "layout": {
          "annotationdefaults": {
           "arrowcolor": "#2a3f5f",
           "arrowhead": 0,
           "arrowwidth": 1
          },
          "colorscale": {
           "diverging": [
            [
             0,
             "#8e0152"
            ],
            [
             0.1,
             "#c51b7d"
            ],
            [
             0.2,
             "#de77ae"
            ],
            [
             0.3,
             "#f1b6da"
            ],
            [
             0.4,
             "#fde0ef"
            ],
            [
             0.5,
             "#f7f7f7"
            ],
            [
             0.6,
             "#e6f5d0"
            ],
            [
             0.7,
             "#b8e186"
            ],
            [
             0.8,
             "#7fbc41"
            ],
            [
             0.9,
             "#4d9221"
            ],
            [
             1,
             "#276419"
            ]
           ],
           "sequential": [
            [
             0,
             "#0d0887"
            ],
            [
             0.1111111111111111,
             "#46039f"
            ],
            [
             0.2222222222222222,
             "#7201a8"
            ],
            [
             0.3333333333333333,
             "#9c179e"
            ],
            [
             0.4444444444444444,
             "#bd3786"
            ],
            [
             0.5555555555555556,
             "#d8576b"
            ],
            [
             0.6666666666666666,
             "#ed7953"
            ],
            [
             0.7777777777777778,
             "#fb9f3a"
            ],
            [
             0.8888888888888888,
             "#fdca26"
            ],
            [
             1,
             "#f0f921"
            ]
           ],
           "sequentialminus": [
            [
             0,
             "#0d0887"
            ],
            [
             0.1111111111111111,
             "#46039f"
            ],
            [
             0.2222222222222222,
             "#7201a8"
            ],
            [
             0.3333333333333333,
             "#9c179e"
            ],
            [
             0.4444444444444444,
             "#bd3786"
            ],
            [
             0.5555555555555556,
             "#d8576b"
            ],
            [
             0.6666666666666666,
             "#ed7953"
            ],
            [
             0.7777777777777778,
             "#fb9f3a"
            ],
            [
             0.8888888888888888,
             "#fdca26"
            ],
            [
             1,
             "#f0f921"
            ]
           ]
          },
          "colorway": [
           "#636efa",
           "#EF553B",
           "#00cc96",
           "#ab63fa",
           "#FFA15A",
           "#19d3f3",
           "#FF6692",
           "#B6E880",
           "#FF97FF",
           "#FECB52"
          ],
          "font": {
           "color": "#2a3f5f"
          },
          "geo": {
           "bgcolor": "white",
           "lakecolor": "white",
           "landcolor": "#E5ECF6",
           "showlakes": true,
           "showland": true,
           "subunitcolor": "white"
          },
          "hoverlabel": {
           "align": "left"
          },
          "hovermode": "closest",
          "mapbox": {
           "style": "light"
          },
          "paper_bgcolor": "white",
          "plot_bgcolor": "#E5ECF6",
          "polar": {
           "angularaxis": {
            "gridcolor": "white",
            "linecolor": "white",
            "ticks": ""
           },
           "bgcolor": "#E5ECF6",
           "radialaxis": {
            "gridcolor": "white",
            "linecolor": "white",
            "ticks": ""
           }
          },
          "scene": {
           "xaxis": {
            "backgroundcolor": "#E5ECF6",
            "gridcolor": "white",
            "gridwidth": 2,
            "linecolor": "white",
            "showbackground": true,
            "ticks": "",
            "zerolinecolor": "white"
           },
           "yaxis": {
            "backgroundcolor": "#E5ECF6",
            "gridcolor": "white",
            "gridwidth": 2,
            "linecolor": "white",
            "showbackground": true,
            "ticks": "",
            "zerolinecolor": "white"
           },
           "zaxis": {
            "backgroundcolor": "#E5ECF6",
            "gridcolor": "white",
            "gridwidth": 2,
            "linecolor": "white",
            "showbackground": true,
            "ticks": "",
            "zerolinecolor": "white"
           }
          },
          "shapedefaults": {
           "line": {
            "color": "#2a3f5f"
           }
          },
          "ternary": {
           "aaxis": {
            "gridcolor": "white",
            "linecolor": "white",
            "ticks": ""
           },
           "baxis": {
            "gridcolor": "white",
            "linecolor": "white",
            "ticks": ""
           },
           "bgcolor": "#E5ECF6",
           "caxis": {
            "gridcolor": "white",
            "linecolor": "white",
            "ticks": ""
           }
          },
          "title": {
           "x": 0.05
          },
          "xaxis": {
           "automargin": true,
           "gridcolor": "white",
           "linecolor": "white",
           "ticks": "",
           "zerolinecolor": "white",
           "zerolinewidth": 2
          },
          "yaxis": {
           "automargin": true,
           "gridcolor": "white",
           "linecolor": "white",
           "ticks": "",
           "zerolinecolor": "white",
           "zerolinewidth": 2
          }
         }
        },
        "title": {
         "text": "Data label volume"
        },
        "width": 400,
        "xaxis": {
         "title": {
          "text": "Tweet label"
         }
        },
        "yaxis": {
         "title": {
          "text": "Size"
         }
        }
       }
      },
      "text/html": [
       "<div>\n",
       "        \n",
       "        \n",
       "            <div id=\"8b84db5d-ea99-4d35-8d38-7f6a35584052\" class=\"plotly-graph-div\" style=\"height:600px; width:400px;\"></div>\n",
       "            <script type=\"text/javascript\">\n",
       "                require([\"plotly\"], function(Plotly) {\n",
       "                    window.PLOTLYENV=window.PLOTLYENV || {};\n",
       "                    \n",
       "                if (document.getElementById(\"8b84db5d-ea99-4d35-8d38-7f6a35584052\")) {\n",
       "                    Plotly.newPlot(\n",
       "                        '8b84db5d-ea99-4d35-8d38-7f6a35584052',\n",
       "                        [{\"type\": \"bar\", \"x\": [0, 1], \"y\": [21315, 1487]}],\n",
       "                        {\"height\": 600, \"template\": {\"data\": {\"bar\": [{\"error_x\": {\"color\": \"#2a3f5f\"}, \"error_y\": {\"color\": \"#2a3f5f\"}, \"marker\": {\"line\": {\"color\": \"#E5ECF6\", \"width\": 0.5}}, \"type\": \"bar\"}], \"barpolar\": [{\"marker\": {\"line\": {\"color\": \"#E5ECF6\", \"width\": 0.5}}, \"type\": \"barpolar\"}], \"carpet\": [{\"aaxis\": {\"endlinecolor\": \"#2a3f5f\", \"gridcolor\": \"white\", \"linecolor\": \"white\", \"minorgridcolor\": \"white\", \"startlinecolor\": \"#2a3f5f\"}, \"baxis\": {\"endlinecolor\": \"#2a3f5f\", \"gridcolor\": \"white\", \"linecolor\": \"white\", \"minorgridcolor\": \"white\", \"startlinecolor\": \"#2a3f5f\"}, \"type\": \"carpet\"}], \"choropleth\": [{\"colorbar\": {\"outlinewidth\": 0, \"ticks\": \"\"}, \"type\": \"choropleth\"}], \"contour\": [{\"colorbar\": {\"outlinewidth\": 0, \"ticks\": \"\"}, \"colorscale\": [[0.0, \"#0d0887\"], [0.1111111111111111, \"#46039f\"], [0.2222222222222222, \"#7201a8\"], [0.3333333333333333, \"#9c179e\"], [0.4444444444444444, \"#bd3786\"], [0.5555555555555556, \"#d8576b\"], [0.6666666666666666, \"#ed7953\"], [0.7777777777777778, \"#fb9f3a\"], [0.8888888888888888, \"#fdca26\"], [1.0, \"#f0f921\"]], \"type\": \"contour\"}], \"contourcarpet\": [{\"colorbar\": {\"outlinewidth\": 0, \"ticks\": \"\"}, \"type\": \"contourcarpet\"}], \"heatmap\": [{\"colorbar\": {\"outlinewidth\": 0, \"ticks\": \"\"}, \"colorscale\": [[0.0, \"#0d0887\"], [0.1111111111111111, \"#46039f\"], [0.2222222222222222, \"#7201a8\"], [0.3333333333333333, \"#9c179e\"], [0.4444444444444444, \"#bd3786\"], [0.5555555555555556, \"#d8576b\"], [0.6666666666666666, \"#ed7953\"], [0.7777777777777778, \"#fb9f3a\"], [0.8888888888888888, \"#fdca26\"], [1.0, \"#f0f921\"]], \"type\": \"heatmap\"}], \"heatmapgl\": [{\"colorbar\": {\"outlinewidth\": 0, \"ticks\": \"\"}, \"colorscale\": [[0.0, \"#0d0887\"], [0.1111111111111111, \"#46039f\"], [0.2222222222222222, \"#7201a8\"], [0.3333333333333333, \"#9c179e\"], [0.4444444444444444, \"#bd3786\"], [0.5555555555555556, \"#d8576b\"], [0.6666666666666666, \"#ed7953\"], [0.7777777777777778, \"#fb9f3a\"], [0.8888888888888888, \"#fdca26\"], [1.0, \"#f0f921\"]], \"type\": \"heatmapgl\"}], \"histogram\": [{\"marker\": {\"colorbar\": {\"outlinewidth\": 0, \"ticks\": \"\"}}, \"type\": \"histogram\"}], \"histogram2d\": [{\"colorbar\": {\"outlinewidth\": 0, \"ticks\": \"\"}, \"colorscale\": [[0.0, \"#0d0887\"], [0.1111111111111111, \"#46039f\"], [0.2222222222222222, \"#7201a8\"], [0.3333333333333333, \"#9c179e\"], [0.4444444444444444, \"#bd3786\"], [0.5555555555555556, \"#d8576b\"], [0.6666666666666666, \"#ed7953\"], [0.7777777777777778, \"#fb9f3a\"], [0.8888888888888888, \"#fdca26\"], [1.0, \"#f0f921\"]], \"type\": \"histogram2d\"}], \"histogram2dcontour\": [{\"colorbar\": {\"outlinewidth\": 0, \"ticks\": \"\"}, \"colorscale\": [[0.0, \"#0d0887\"], [0.1111111111111111, \"#46039f\"], [0.2222222222222222, \"#7201a8\"], [0.3333333333333333, \"#9c179e\"], [0.4444444444444444, \"#bd3786\"], [0.5555555555555556, \"#d8576b\"], [0.6666666666666666, \"#ed7953\"], [0.7777777777777778, \"#fb9f3a\"], [0.8888888888888888, \"#fdca26\"], [1.0, \"#f0f921\"]], \"type\": \"histogram2dcontour\"}], \"mesh3d\": [{\"colorbar\": {\"outlinewidth\": 0, \"ticks\": \"\"}, \"type\": \"mesh3d\"}], \"parcoords\": [{\"line\": {\"colorbar\": {\"outlinewidth\": 0, \"ticks\": \"\"}}, \"type\": \"parcoords\"}], \"scatter\": [{\"marker\": {\"colorbar\": {\"outlinewidth\": 0, \"ticks\": \"\"}}, \"type\": \"scatter\"}], \"scatter3d\": [{\"line\": {\"colorbar\": {\"outlinewidth\": 0, \"ticks\": \"\"}}, \"marker\": {\"colorbar\": {\"outlinewidth\": 0, \"ticks\": \"\"}}, \"type\": \"scatter3d\"}], \"scattercarpet\": [{\"marker\": {\"colorbar\": {\"outlinewidth\": 0, \"ticks\": \"\"}}, \"type\": \"scattercarpet\"}], \"scattergeo\": [{\"marker\": {\"colorbar\": {\"outlinewidth\": 0, \"ticks\": \"\"}}, \"type\": \"scattergeo\"}], \"scattergl\": [{\"marker\": {\"colorbar\": {\"outlinewidth\": 0, \"ticks\": \"\"}}, \"type\": \"scattergl\"}], \"scattermapbox\": [{\"marker\": {\"colorbar\": {\"outlinewidth\": 0, \"ticks\": \"\"}}, \"type\": \"scattermapbox\"}], \"scatterpolar\": [{\"marker\": {\"colorbar\": {\"outlinewidth\": 0, \"ticks\": \"\"}}, \"type\": \"scatterpolar\"}], \"scatterpolargl\": [{\"marker\": {\"colorbar\": {\"outlinewidth\": 0, \"ticks\": \"\"}}, \"type\": \"scatterpolargl\"}], \"scatterternary\": [{\"marker\": {\"colorbar\": {\"outlinewidth\": 0, \"ticks\": \"\"}}, \"type\": \"scatterternary\"}], \"surface\": [{\"colorbar\": {\"outlinewidth\": 0, \"ticks\": \"\"}, \"colorscale\": [[0.0, \"#0d0887\"], [0.1111111111111111, \"#46039f\"], [0.2222222222222222, \"#7201a8\"], [0.3333333333333333, \"#9c179e\"], [0.4444444444444444, \"#bd3786\"], [0.5555555555555556, \"#d8576b\"], [0.6666666666666666, \"#ed7953\"], [0.7777777777777778, \"#fb9f3a\"], [0.8888888888888888, \"#fdca26\"], [1.0, \"#f0f921\"]], \"type\": \"surface\"}], \"table\": [{\"cells\": {\"fill\": {\"color\": \"#EBF0F8\"}, \"line\": {\"color\": \"white\"}}, \"header\": {\"fill\": {\"color\": \"#C8D4E3\"}, \"line\": {\"color\": \"white\"}}, \"type\": \"table\"}]}, \"layout\": {\"annotationdefaults\": {\"arrowcolor\": \"#2a3f5f\", \"arrowhead\": 0, \"arrowwidth\": 1}, \"colorscale\": {\"diverging\": [[0, \"#8e0152\"], [0.1, \"#c51b7d\"], [0.2, \"#de77ae\"], [0.3, \"#f1b6da\"], [0.4, \"#fde0ef\"], [0.5, \"#f7f7f7\"], [0.6, \"#e6f5d0\"], [0.7, \"#b8e186\"], [0.8, \"#7fbc41\"], [0.9, \"#4d9221\"], [1, \"#276419\"]], \"sequential\": [[0.0, \"#0d0887\"], [0.1111111111111111, \"#46039f\"], [0.2222222222222222, \"#7201a8\"], [0.3333333333333333, \"#9c179e\"], [0.4444444444444444, \"#bd3786\"], [0.5555555555555556, \"#d8576b\"], [0.6666666666666666, \"#ed7953\"], [0.7777777777777778, \"#fb9f3a\"], [0.8888888888888888, \"#fdca26\"], [1.0, \"#f0f921\"]], \"sequentialminus\": [[0.0, \"#0d0887\"], [0.1111111111111111, \"#46039f\"], [0.2222222222222222, \"#7201a8\"], [0.3333333333333333, \"#9c179e\"], [0.4444444444444444, \"#bd3786\"], [0.5555555555555556, \"#d8576b\"], [0.6666666666666666, \"#ed7953\"], [0.7777777777777778, \"#fb9f3a\"], [0.8888888888888888, \"#fdca26\"], [1.0, \"#f0f921\"]]}, \"colorway\": [\"#636efa\", \"#EF553B\", \"#00cc96\", \"#ab63fa\", \"#FFA15A\", \"#19d3f3\", \"#FF6692\", \"#B6E880\", \"#FF97FF\", \"#FECB52\"], \"font\": {\"color\": \"#2a3f5f\"}, \"geo\": {\"bgcolor\": \"white\", \"lakecolor\": \"white\", \"landcolor\": \"#E5ECF6\", \"showlakes\": true, \"showland\": true, \"subunitcolor\": \"white\"}, \"hoverlabel\": {\"align\": \"left\"}, \"hovermode\": \"closest\", \"mapbox\": {\"style\": \"light\"}, \"paper_bgcolor\": \"white\", \"plot_bgcolor\": \"#E5ECF6\", \"polar\": {\"angularaxis\": {\"gridcolor\": \"white\", \"linecolor\": \"white\", \"ticks\": \"\"}, \"bgcolor\": \"#E5ECF6\", \"radialaxis\": {\"gridcolor\": \"white\", \"linecolor\": \"white\", \"ticks\": \"\"}}, \"scene\": {\"xaxis\": {\"backgroundcolor\": \"#E5ECF6\", \"gridcolor\": \"white\", \"gridwidth\": 2, \"linecolor\": \"white\", \"showbackground\": true, \"ticks\": \"\", \"zerolinecolor\": \"white\"}, \"yaxis\": {\"backgroundcolor\": \"#E5ECF6\", \"gridcolor\": \"white\", \"gridwidth\": 2, \"linecolor\": \"white\", \"showbackground\": true, \"ticks\": \"\", \"zerolinecolor\": \"white\"}, \"zaxis\": {\"backgroundcolor\": \"#E5ECF6\", \"gridcolor\": \"white\", \"gridwidth\": 2, \"linecolor\": \"white\", \"showbackground\": true, \"ticks\": \"\", \"zerolinecolor\": \"white\"}}, \"shapedefaults\": {\"line\": {\"color\": \"#2a3f5f\"}}, \"ternary\": {\"aaxis\": {\"gridcolor\": \"white\", \"linecolor\": \"white\", \"ticks\": \"\"}, \"baxis\": {\"gridcolor\": \"white\", \"linecolor\": \"white\", \"ticks\": \"\"}, \"bgcolor\": \"#E5ECF6\", \"caxis\": {\"gridcolor\": \"white\", \"linecolor\": \"white\", \"ticks\": \"\"}}, \"title\": {\"x\": 0.05}, \"xaxis\": {\"automargin\": true, \"gridcolor\": \"white\", \"linecolor\": \"white\", \"ticks\": \"\", \"zerolinecolor\": \"white\", \"zerolinewidth\": 2}, \"yaxis\": {\"automargin\": true, \"gridcolor\": \"white\", \"linecolor\": \"white\", \"ticks\": \"\", \"zerolinecolor\": \"white\", \"zerolinewidth\": 2}}}, \"title\": {\"text\": \"Data label volume\"}, \"width\": 400, \"xaxis\": {\"title\": {\"text\": \"Tweet label\"}}, \"yaxis\": {\"title\": {\"text\": \"Size\"}}},\n",
       "                        {\"responsive\": true}\n",
       "                    ).then(function(){\n",
       "                            \n",
       "var gd = document.getElementById('8b84db5d-ea99-4d35-8d38-7f6a35584052');\n",
       "var x = new MutationObserver(function (mutations, observer) {{\n",
       "        var display = window.getComputedStyle(gd).display;\n",
       "        if (!display || display === 'none') {{\n",
       "            console.log([gd, 'removed!']);\n",
       "            Plotly.purge(gd);\n",
       "            observer.disconnect();\n",
       "        }}\n",
       "}});\n",
       "\n",
       "// Listen for the removal of the full notebook cells\n",
       "var notebookContainer = gd.closest('#notebook-container');\n",
       "if (notebookContainer) {{\n",
       "    x.observe(notebookContainer, {childList: true});\n",
       "}}\n",
       "\n",
       "// Listen for the clearing of the current output cell\n",
       "var outputEl = gd.closest('.output');\n",
       "if (outputEl) {{\n",
       "    x.observe(outputEl, {childList: true});\n",
       "}}\n",
       "\n",
       "                        })\n",
       "                };\n",
       "                });\n",
       "            </script>\n",
       "        </div>"
      ]
     },
     "metadata": {},
     "output_type": "display_data"
    }
   ],
   "source": [
    "#Instantiate bar graph\n",
    "\n",
    "bar1 = go.Bar(x =rem_cln['label'].value_counts().index, y=rem_cln['label'].value_counts().values)\n",
    "\n",
    "layout = go.Layout(title = 'Data label volume',\n",
    "                  xaxis = dict(title = 'Tweet label'),\n",
    "                    yaxis = dict(title = 'Size'), width = 400,\n",
    "            height = 600)\n",
    "\n",
    "fig = go.Figure(data = bar1, layout = layout )\n",
    "\n",
    "fig.show()"
   ]
  },
  {
   "cell_type": "markdown",
   "metadata": {},
   "source": [
    "Them rem_cln dataset now have 22,802 records. Of which, 21,315(93.5%) are positive and 1,487(6.5%) are negative labelled tweets."
   ]
  },
  {
   "cell_type": "markdown",
   "metadata": {},
   "source": [
    "## Feature Engineering"
   ]
  },
  {
   "cell_type": "code",
   "execution_count": 43,
   "metadata": {},
   "outputs": [],
   "source": [
    "#Seperating cleaned tweets into a different table\n",
    "words = rem_cln['cleaned_tweet']"
   ]
  },
  {
   "cell_type": "code",
   "execution_count": 44,
   "metadata": {},
   "outputs": [],
   "source": [
    "#Using the python sklearn built in function countvectorizer to transform the cleaned tweets into a corpus\n",
    "from sklearn.feature_extraction.text import CountVectorizer\n",
    "\n",
    "#instantiate\n",
    "bow = CountVectorizer(min_df = 3, ngram_range = (1,3))\n",
    "\n",
    "#fit and transform\n",
    "words_vec = bow.fit(words).transform(words)"
   ]
  },
  {
   "cell_type": "code",
   "execution_count": 45,
   "metadata": {},
   "outputs": [
    {
     "data": {
      "text/plain": [
       "<22802x11870 sparse matrix of type '<class 'numpy.int64'>'\n",
       "\twith 180294 stored elements in Compressed Sparse Row format>"
      ]
     },
     "execution_count": 45,
     "metadata": {},
     "output_type": "execute_result"
    }
   ],
   "source": [
    "words_vec"
   ]
  },
  {
   "cell_type": "code",
   "execution_count": 47,
   "metadata": {},
   "outputs": [
    {
     "data": {
      "text/plain": [
       "(22802, 11870)"
      ]
     },
     "execution_count": 47,
     "metadata": {},
     "output_type": "execute_result"
    }
   ],
   "source": [
    "#Create new dataframe with created corpus\n",
    "words_vec_df = pd.DataFrame(words_vec.todense(), columns = bow.get_feature_names())\n",
    "\n",
    "#Shape of newly created dataframe\n",
    "words_vec_df.shape"
   ]
  },
  {
   "cell_type": "code",
   "execution_count": 48,
   "metadata": {},
   "outputs": [
    {
     "name": "stdout",
     "output_type": "stream",
     "text": [
      "Shape of data(X): (22802, 11870)\n",
      "Shape of target(y): (22802,)\n"
     ]
    }
   ],
   "source": [
    "#Defining X(data/independent) and y(target/dependent) features\n",
    "\n",
    "X = words_vec_df\n",
    "print('Shape of data(X):' ,X.shape)\n",
    "\n",
    "y = rem_cln['label']\n",
    "print('Shape of target(y):',y.shape)"
   ]
  },
  {
   "cell_type": "markdown",
   "metadata": {},
   "source": [
    "### Training/Validation Set"
   ]
  },
  {
   "cell_type": "markdown",
   "metadata": {},
   "source": [
    "70% of the data will be used for training the model, the outstanding 30% will be used to validate the models accuracy."
   ]
  },
  {
   "cell_type": "code",
   "execution_count": 49,
   "metadata": {},
   "outputs": [],
   "source": [
    "X_train, X_val, y_train, y_val = train_test_split(X, y, test_size = 0.3, shuffle = True, stratify = y)"
   ]
  },
  {
   "cell_type": "code",
   "execution_count": 50,
   "metadata": {},
   "outputs": [
    {
     "name": "stdout",
     "output_type": "stream",
     "text": [
      "X_train: (15961, 11870)\n",
      "y_train: (15961,)\n",
      "X_val: (6841, 11870)\n",
      "y_val: (6841,)\n"
     ]
    }
   ],
   "source": [
    "print('X_train:',X_train.shape)\n",
    "print('y_train:',y_train.shape)\n",
    "print('X_val:',X_val.shape)\n",
    "print('y_val:',y_val.shape)"
   ]
  },
  {
   "cell_type": "markdown",
   "metadata": {},
   "source": [
    "### Principal Component Analysis"
   ]
  },
  {
   "cell_type": "markdown",
   "metadata": {},
   "source": [
    "Currently the data has over 11,000 features. \n",
    "Principal Component Analysis(PCA) will be fitted on the training set, then used to tranform the validation set. This will reduce the data's dimensionality by including only features explaining the data variance."
   ]
  },
  {
   "cell_type": "code",
   "execution_count": 65,
   "metadata": {},
   "outputs": [
    {
     "name": "stdout",
     "output_type": "stream",
     "text": [
      "Wall time: 30min 43s\n",
      "Parser   : 157 ms\n"
     ]
    }
   ],
   "source": [
    "%%time\n",
    "#Dimensionality reduction using PCA\n",
    "from sklearn.decomposition import PCA\n",
    "\n",
    "#instantiate PCA. Keep only components that explains 85% of the variance in the dataset\n",
    "my_pca = PCA(n_components = 0.85)\n",
    "\n",
    "#fit and transform\n",
    "X_train_pca = my_pca.fit(X_train).transform(X_train)\n",
    "\n",
    "#Transform X validation set\n",
    "X_val_pca = my_pca.transform(X_val)"
   ]
  },
  {
   "cell_type": "code",
   "execution_count": 66,
   "metadata": {},
   "outputs": [
    {
     "data": {
      "text/plain": [
       "array([[ 1.04869613e-05, -3.10960912e-06,  8.61540352e-06, ...,\n",
       "        -9.43097473e-09,  9.89170021e-01,  1.46686350e-01]])"
      ]
     },
     "execution_count": 66,
     "metadata": {},
     "output_type": "execute_result"
    }
   ],
   "source": [
    "my_pca.components_"
   ]
  },
  {
   "cell_type": "markdown",
   "metadata": {},
   "source": [
    "---\n",
    "\n",
    "## 3) LEARNING ALGORITHM"
   ]
  },
  {
   "cell_type": "markdown",
   "metadata": {},
   "source": [
    "## Model 1: Logistic Regression Model (PCA)"
   ]
  },
  {
   "cell_type": "code",
   "execution_count": 67,
   "metadata": {},
   "outputs": [
    {
     "data": {
      "text/plain": [
       "LogisticRegression(C=1.0, class_weight=None, dual=False, fit_intercept=True,\n",
       "                   intercept_scaling=1, l1_ratio=None, max_iter=100,\n",
       "                   multi_class='warn', n_jobs=None, penalty='l2',\n",
       "                   random_state=None, solver='warn', tol=0.0001, verbose=0,\n",
       "                   warm_start=False)"
      ]
     },
     "execution_count": 67,
     "metadata": {},
     "output_type": "execute_result"
    }
   ],
   "source": [
    "#Fit a simple logistic regression model\n",
    "from sklearn.linear_model import LogisticRegression\n",
    "\n",
    "#Hyperparameter optimization\n",
    "lr_model_pca = LogisticRegression()\n",
    "\n",
    "#fit\n",
    "lr_model_pca.fit(X_train_pca, y_train)"
   ]
  },
  {
   "cell_type": "markdown",
   "metadata": {},
   "source": [
    "### Evaluation"
   ]
  },
  {
   "cell_type": "code",
   "execution_count": 68,
   "metadata": {},
   "outputs": [
    {
     "name": "stdout",
     "output_type": "stream",
     "text": [
      "Train Accuracy: 0.9348370927318296\n",
      "Validation Accuracy: 0.9347953216374268\n"
     ]
    }
   ],
   "source": [
    "#Accuracy\n",
    "print('Train Accuracy:',lr_model_pca.score(X_train_pca, y_train))\n",
    "\n",
    "print('Validation Accuracy:', lr_model_pca.score(X_val_pca, y_val))"
   ]
  },
  {
   "cell_type": "code",
   "execution_count": 69,
   "metadata": {},
   "outputs": [
    {
     "name": "stdout",
     "output_type": "stream",
     "text": [
      "              precision    recall  f1-score   support\n",
      "\n",
      "           0       0.93      1.00      0.97      6394\n",
      "           1       0.00      0.00      0.00       446\n",
      "\n",
      "    accuracy                           0.93      6840\n",
      "   macro avg       0.47      0.50      0.48      6840\n",
      "weighted avg       0.87      0.93      0.90      6840\n",
      "\n"
     ]
    }
   ],
   "source": [
    "#classification report\n",
    "from sklearn.metrics import classification_report, confusion_matrix\n",
    "\n",
    "#predict X_val\n",
    "y_pred_pca = lr_model_pca.predict(X_val_pca)\n",
    "\n",
    "print(classification_report(y_val, y_pred_pca))"
   ]
  },
  {
   "cell_type": "code",
   "execution_count": 71,
   "metadata": {},
   "outputs": [
    {
     "name": "stdout",
     "output_type": "stream",
     "text": [
      "Confusion Matrix:\n",
      " [[6394    0]\n",
      " [ 446    0]]\n"
     ]
    }
   ],
   "source": [
    "#Confusion Matrix\n",
    "print('Confusion Matrix:\\n', confusion_matrix(y_val,y_pred_pca))"
   ]
  },
  {
   "cell_type": "markdown",
   "metadata": {},
   "source": [
    "## Model 2: Logistic Regression Model (No PCA)"
   ]
  },
  {
   "cell_type": "code",
   "execution_count": 51,
   "metadata": {},
   "outputs": [
    {
     "data": {
      "text/plain": [
       "LogisticRegression(C=1.0, class_weight=None, dual=False, fit_intercept=True,\n",
       "                   intercept_scaling=1, l1_ratio=None, max_iter=100,\n",
       "                   multi_class='warn', n_jobs=None, penalty='l2',\n",
       "                   random_state=None, solver='warn', tol=0.0001, verbose=0,\n",
       "                   warm_start=False)"
      ]
     },
     "execution_count": 51,
     "metadata": {},
     "output_type": "execute_result"
    }
   ],
   "source": [
    "#Fit a simple logistic regression model\n",
    "from sklearn.linear_model import LogisticRegression\n",
    "\n",
    "#Hyperparameter optimization\n",
    "lr_model_nopca = LogisticRegression()\n",
    "\n",
    "#fit\n",
    "lr_model_nopca.fit(X_train, y_train)"
   ]
  },
  {
   "cell_type": "markdown",
   "metadata": {},
   "source": [
    "### Evaluation"
   ]
  },
  {
   "cell_type": "code",
   "execution_count": 52,
   "metadata": {},
   "outputs": [
    {
     "name": "stdout",
     "output_type": "stream",
     "text": [
      "Train Accuracy: 0.9766931896497714\n",
      "Validation Accuracy: 0.9545388101154801\n"
     ]
    }
   ],
   "source": [
    "#Accuracy\n",
    "print('Train Accuracy:',lr_model_nopca.score(X_train, y_train))\n",
    "\n",
    "print('Validation Accuracy:', lr_model_nopca.score(X_val, y_val))"
   ]
  },
  {
   "cell_type": "code",
   "execution_count": 53,
   "metadata": {},
   "outputs": [
    {
     "name": "stdout",
     "output_type": "stream",
     "text": [
      "              precision    recall  f1-score   support\n",
      "\n",
      "           0       0.96      0.99      0.98      6395\n",
      "           1       0.79      0.41      0.54       446\n",
      "\n",
      "    accuracy                           0.95      6841\n",
      "   macro avg       0.88      0.70      0.76      6841\n",
      "weighted avg       0.95      0.95      0.95      6841\n",
      "\n"
     ]
    }
   ],
   "source": [
    "#classification report\n",
    "from sklearn.metrics import classification_report, confusion_matrix\n",
    "\n",
    "#predict X_val\n",
    "y_pred_nopca = lr_model_nopca.predict(X_val)\n",
    "\n",
    "print(classification_report(y_val, y_pred_nopca))"
   ]
  },
  {
   "cell_type": "code",
   "execution_count": 54,
   "metadata": {},
   "outputs": [
    {
     "name": "stdout",
     "output_type": "stream",
     "text": [
      "[[6346   49]\n",
      " [ 262  184]]\n"
     ]
    }
   ],
   "source": [
    "#Confusion matrix\n",
    "print(confusion_matrix(y_val, y_pred_nopca))"
   ]
  },
  {
   "cell_type": "markdown",
   "metadata": {},
   "source": [
    "## Model 3: Xtreme Gradient Boosting (XGBoost)"
   ]
  },
  {
   "cell_type": "code",
   "execution_count": 292,
   "metadata": {},
   "outputs": [],
   "source": [
    "#import package\n",
    "from xgboost import XGBClassifier"
   ]
  },
  {
   "cell_type": "code",
   "execution_count": 294,
   "metadata": {},
   "outputs": [
    {
     "name": "stdout",
     "output_type": "stream",
     "text": [
      "Train Accuracy: 0.9411654135338345\n",
      "Validate Accuracy: 0.9409356725146198\n",
      "Wall time: 24min 37s\n"
     ]
    }
   ],
   "source": [
    "%%time\n",
    "#Instantiate model\n",
    "xgb = XGBClassifier(n_estimators= 50)\n",
    "\n",
    "#Fit to training data\n",
    "xgb.fit(X_train, y_train)\n",
    "\n",
    "#Evalute\n",
    "print('Train Accuracy:', xgb.score(X_train, y_train))\n",
    "print('Validate Accuracy:', xgb.score(X_val, y_val))"
   ]
  },
  {
   "cell_type": "code",
   "execution_count": 295,
   "metadata": {},
   "outputs": [
    {
     "name": "stdout",
     "output_type": "stream",
     "text": [
      "              precision    recall  f1-score   support\n",
      "\n",
      "           0       0.94      1.00      0.97      6394\n",
      "           1       0.86      0.11      0.20       446\n",
      "\n",
      "    accuracy                           0.94      6840\n",
      "   macro avg       0.90      0.56      0.58      6840\n",
      "weighted avg       0.94      0.94      0.92      6840\n",
      "\n"
     ]
    }
   ],
   "source": [
    "#classification report\n",
    "from sklearn.metrics import classification_report, confusion_matrix\n",
    "\n",
    "#predict X_val\n",
    "y_pred_xgb = xgb.predict(X_val)\n",
    "\n",
    "print(classification_report(y_val, y_pred_xgb))"
   ]
  },
  {
   "cell_type": "markdown",
   "metadata": {},
   "source": [
    "The three models have a good accuracy over 90%. But comparing the classification reports, Model 2's negative class recall and f1 score is higher meaning it predicts the negative class better than Models 1 and 3. \n",
    "\n",
    "Imbalance in the data could be a reason why the models are not so good at predicting the negtive class. A possible attempt to getting better predictions of the negative class will be to oversample the data and re-fit the above models."
   ]
  },
  {
   "cell_type": "markdown",
   "metadata": {},
   "source": [
    "## Handling imbalanced dataset\n",
    "\n",
    "### Oversampling Technique \n",
    "\n",
    "The negative tweets will be oversampled to adjust the imbalance in the dataset. The Naive Random Over-sampling Technique will be used in this case."
   ]
  },
  {
   "cell_type": "code",
   "execution_count": 105,
   "metadata": {},
   "outputs": [
    {
     "name": "stdout",
     "output_type": "stream",
     "text": [
      "X-train: (15960, 11872)\n",
      "y-train: (15960,)\n"
     ]
    }
   ],
   "source": [
    "#A remainder on the X_train and y_train \n",
    "print('X-train:', X_train.shape)\n",
    "print('y-train:', y_train.shape)"
   ]
  },
  {
   "cell_type": "code",
   "execution_count": 185,
   "metadata": {},
   "outputs": [],
   "source": [
    "#Oversampling train data with Random naive sampling of the imbalance learn package\n",
    "\n",
    "from imblearn.over_sampling import RandomOverSampler\n",
    "\n",
    "#instantiate\n",
    "ros = RandomOverSampler(sampling_strategy= 1.0) #ratio 1:1\n",
    "\n",
    "#Fit to training set\n",
    "X_train_os, y_train_os = ros.fit_resample(X_train, y_train)"
   ]
  },
  {
   "cell_type": "code",
   "execution_count": 186,
   "metadata": {},
   "outputs": [
    {
     "name": "stdout",
     "output_type": "stream",
     "text": [
      "Oversampled X train set: (29840, 11872)\n",
      "Oversampled y train set: (29840,)\n"
     ]
    }
   ],
   "source": [
    "#shape of oversampled sets\n",
    "\n",
    "print('Oversampled X train set:',X_train_os.shape)\n",
    "\n",
    "print('Oversampled y train set:',y_train_os.shape)"
   ]
  },
  {
   "cell_type": "code",
   "execution_count": 187,
   "metadata": {},
   "outputs": [
    {
     "name": "stdout",
     "output_type": "stream",
     "text": [
      "Wall time: 1h 25min 27s\n"
     ]
    }
   ],
   "source": [
    "%%time\n",
    "#Applying PCA to oversampled train set\n",
    "from sklearn.decomposition import PCA\n",
    "\n",
    "#instantiate \n",
    "my_pca2 = PCA(n_components = 0.85) #Keep features that explains 85% of the dataset variance\n",
    "\n",
    "#Fit and transform\n",
    "X_train_pca2 = my_pca2.fit(X_train_os).transform(X_train_os)\n",
    "\n",
    "#Transform X_val\n",
    "X_val_pca2 = my_pca2.transform(X_val)"
   ]
  },
  {
   "cell_type": "markdown",
   "metadata": {},
   "source": [
    "Below, two additional models are fitted on the oversampled data maybe this will improve the recall and f1 score of the negative class."
   ]
  },
  {
   "cell_type": "markdown",
   "metadata": {},
   "source": [
    "### Model 1: Logistic Regression"
   ]
  },
  {
   "cell_type": "code",
   "execution_count": 191,
   "metadata": {},
   "outputs": [
    {
     "data": {
      "text/plain": [
       "LogisticRegression(C=1.0, class_weight=None, dual=False, fit_intercept=True,\n",
       "                   intercept_scaling=1, l1_ratio=None, max_iter=100,\n",
       "                   multi_class='warn', n_jobs=None, penalty='l2',\n",
       "                   random_state=None, solver='warn', tol=0.0001, verbose=0,\n",
       "                   warm_start=False)"
      ]
     },
     "execution_count": 191,
     "metadata": {},
     "output_type": "execute_result"
    }
   ],
   "source": [
    "#Fit a simple logistic regression model to the oversampled data\n",
    "from sklearn.linear_model import LogisticRegression\n",
    "\n",
    "#Hyperparameter optimization\n",
    "lr_model_os = LogisticRegression()\n",
    "\n",
    "#fit\n",
    "lr_model_os.fit(X_train_pca2, y_train_os)"
   ]
  },
  {
   "cell_type": "code",
   "execution_count": 192,
   "metadata": {},
   "outputs": [
    {
     "name": "stdout",
     "output_type": "stream",
     "text": [
      "Train accuracy: 0.537902144772118\n",
      "Validation accuracy: 0.525\n"
     ]
    }
   ],
   "source": [
    "#Model accuracy\n",
    "print('Train accuracy:', lr_model_os.score(X_train_pca2,y_train_os))\n",
    "print('Validation accuracy:', lr_model_os.score(X_val_pca2, y_val))"
   ]
  },
  {
   "cell_type": "code",
   "execution_count": 193,
   "metadata": {},
   "outputs": [
    {
     "name": "stdout",
     "output_type": "stream",
     "text": [
      "              precision    recall  f1-score   support\n",
      "\n",
      "           0       0.95      0.52      0.67      6394\n",
      "           1       0.08      0.58      0.14       446\n",
      "\n",
      "    accuracy                           0.53      6840\n",
      "   macro avg       0.51      0.55      0.41      6840\n",
      "weighted avg       0.89      0.53      0.64      6840\n",
      "\n"
     ]
    }
   ],
   "source": [
    "#Classification report\n",
    "\n",
    "y_pred_os = lr_model_os.predict(X_val_pca2)\n",
    "\n",
    "print(classification_report(y_val, y_pred_os))"
   ]
  },
  {
   "cell_type": "code",
   "execution_count": 194,
   "metadata": {},
   "outputs": [
    {
     "name": "stdout",
     "output_type": "stream",
     "text": [
      "[[3331 3063]\n",
      " [ 186  260]]\n"
     ]
    }
   ],
   "source": [
    "#Confusion matrix\n",
    "print(confusion_matrix(y_val, y_pred_os))"
   ]
  },
  {
   "cell_type": "markdown",
   "metadata": {},
   "source": [
    "### Model 2: Random Forest Classifier"
   ]
  },
  {
   "cell_type": "code",
   "execution_count": 199,
   "metadata": {},
   "outputs": [
    {
     "name": "stdout",
     "output_type": "stream",
     "text": [
      "Train acc: 0.9984919571045576\n",
      "Validation acc: 0.8818713450292398\n"
     ]
    }
   ],
   "source": [
    "#fitting a Random Forest\n",
    "\n",
    "from sklearn.ensemble import RandomForestClassifier\n",
    "\n",
    "#instantiate\n",
    "rfc = RandomForestClassifier(n_estimators=50) #Restrict Number of fitted DT classifiers to 50\n",
    "\n",
    "#Fit\n",
    "rfc.fit(X_train2, y_train_os)\n",
    "\n",
    "#Evaluate Accuracy\n",
    "print('Train acc:', rfc.score(X_train2, y_train_os))\n",
    "print('Validation acc:', rfc.score(X_val2, y_val))\n"
   ]
  },
  {
   "cell_type": "code",
   "execution_count": 201,
   "metadata": {},
   "outputs": [
    {
     "name": "stdout",
     "output_type": "stream",
     "text": [
      "Classification Report\n",
      "\n",
      "               precision    recall  f1-score   support\n",
      "\n",
      "           0       0.94      0.94      0.94      6394\n",
      "           1       0.10      0.10      0.10       446\n",
      "\n",
      "    accuracy                           0.88      6840\n",
      "   macro avg       0.52      0.52      0.52      6840\n",
      "weighted avg       0.88      0.88      0.88      6840\n",
      "\n",
      "\n",
      "Confusion matrix\n",
      "\n",
      " [[5987  407]\n",
      " [ 401   45]]\n"
     ]
    }
   ],
   "source": [
    "y_pred_rfc = rfc.predict(X_val2)\n",
    "\n",
    "#Classification Report\n",
    "print('Classification Report\\n\\n',classification_report(y_val,y_pred_rfc))\n",
    "\n",
    "#Confusion matrix\n",
    "print('\\nConfusion matrix\\n\\n',confusion_matrix(y_val,y_pred_rfc))"
   ]
  },
  {
   "cell_type": "markdown",
   "metadata": {},
   "source": [
    "---\n",
    "# Final Model"
   ]
  },
  {
   "cell_type": "markdown",
   "metadata": {},
   "source": [
    "## Hyperparameter Optimization\n",
    "\n",
    "Finding the best combination of parameters that optimizes the model's performance."
   ]
  },
  {
   "cell_type": "code",
   "execution_count": 55,
   "metadata": {},
   "outputs": [
    {
     "data": {
      "application/vnd.plotly.v1+json": {
       "config": {
        "plotlyServerURL": "https://plot.ly"
       },
       "data": [
        {
         "mode": "lines+markers",
         "name": "Validation scores",
         "type": "scatter",
         "x": [
          1e-06,
          1e-05,
          0.0001,
          0.001,
          0.01,
          0.1,
          1,
          1,
          10,
          100,
          1000,
          10000,
          100000
         ],
         "y": [
          0.9347785373235784,
          0.9347785373235784,
          0.9347785373235784,
          0.9347785373235784,
          0.9347785373235784,
          0.9414823466433073,
          0.9510681652455599,
          0.9510681652455599,
          0.9495018276979639,
          0.943988278714324,
          0.9378483595459052,
          0.9328987595829537,
          0.9309564036932294
         ]
        }
       ],
       "layout": {
        "template": {
         "data": {
          "bar": [
           {
            "error_x": {
             "color": "#2a3f5f"
            },
            "error_y": {
             "color": "#2a3f5f"
            },
            "marker": {
             "line": {
              "color": "#E5ECF6",
              "width": 0.5
             }
            },
            "type": "bar"
           }
          ],
          "barpolar": [
           {
            "marker": {
             "line": {
              "color": "#E5ECF6",
              "width": 0.5
             }
            },
            "type": "barpolar"
           }
          ],
          "carpet": [
           {
            "aaxis": {
             "endlinecolor": "#2a3f5f",
             "gridcolor": "white",
             "linecolor": "white",
             "minorgridcolor": "white",
             "startlinecolor": "#2a3f5f"
            },
            "baxis": {
             "endlinecolor": "#2a3f5f",
             "gridcolor": "white",
             "linecolor": "white",
             "minorgridcolor": "white",
             "startlinecolor": "#2a3f5f"
            },
            "type": "carpet"
           }
          ],
          "choropleth": [
           {
            "colorbar": {
             "outlinewidth": 0,
             "ticks": ""
            },
            "type": "choropleth"
           }
          ],
          "contour": [
           {
            "colorbar": {
             "outlinewidth": 0,
             "ticks": ""
            },
            "colorscale": [
             [
              0,
              "#0d0887"
             ],
             [
              0.1111111111111111,
              "#46039f"
             ],
             [
              0.2222222222222222,
              "#7201a8"
             ],
             [
              0.3333333333333333,
              "#9c179e"
             ],
             [
              0.4444444444444444,
              "#bd3786"
             ],
             [
              0.5555555555555556,
              "#d8576b"
             ],
             [
              0.6666666666666666,
              "#ed7953"
             ],
             [
              0.7777777777777778,
              "#fb9f3a"
             ],
             [
              0.8888888888888888,
              "#fdca26"
             ],
             [
              1,
              "#f0f921"
             ]
            ],
            "type": "contour"
           }
          ],
          "contourcarpet": [
           {
            "colorbar": {
             "outlinewidth": 0,
             "ticks": ""
            },
            "type": "contourcarpet"
           }
          ],
          "heatmap": [
           {
            "colorbar": {
             "outlinewidth": 0,
             "ticks": ""
            },
            "colorscale": [
             [
              0,
              "#0d0887"
             ],
             [
              0.1111111111111111,
              "#46039f"
             ],
             [
              0.2222222222222222,
              "#7201a8"
             ],
             [
              0.3333333333333333,
              "#9c179e"
             ],
             [
              0.4444444444444444,
              "#bd3786"
             ],
             [
              0.5555555555555556,
              "#d8576b"
             ],
             [
              0.6666666666666666,
              "#ed7953"
             ],
             [
              0.7777777777777778,
              "#fb9f3a"
             ],
             [
              0.8888888888888888,
              "#fdca26"
             ],
             [
              1,
              "#f0f921"
             ]
            ],
            "type": "heatmap"
           }
          ],
          "heatmapgl": [
           {
            "colorbar": {
             "outlinewidth": 0,
             "ticks": ""
            },
            "colorscale": [
             [
              0,
              "#0d0887"
             ],
             [
              0.1111111111111111,
              "#46039f"
             ],
             [
              0.2222222222222222,
              "#7201a8"
             ],
             [
              0.3333333333333333,
              "#9c179e"
             ],
             [
              0.4444444444444444,
              "#bd3786"
             ],
             [
              0.5555555555555556,
              "#d8576b"
             ],
             [
              0.6666666666666666,
              "#ed7953"
             ],
             [
              0.7777777777777778,
              "#fb9f3a"
             ],
             [
              0.8888888888888888,
              "#fdca26"
             ],
             [
              1,
              "#f0f921"
             ]
            ],
            "type": "heatmapgl"
           }
          ],
          "histogram": [
           {
            "marker": {
             "colorbar": {
              "outlinewidth": 0,
              "ticks": ""
             }
            },
            "type": "histogram"
           }
          ],
          "histogram2d": [
           {
            "colorbar": {
             "outlinewidth": 0,
             "ticks": ""
            },
            "colorscale": [
             [
              0,
              "#0d0887"
             ],
             [
              0.1111111111111111,
              "#46039f"
             ],
             [
              0.2222222222222222,
              "#7201a8"
             ],
             [
              0.3333333333333333,
              "#9c179e"
             ],
             [
              0.4444444444444444,
              "#bd3786"
             ],
             [
              0.5555555555555556,
              "#d8576b"
             ],
             [
              0.6666666666666666,
              "#ed7953"
             ],
             [
              0.7777777777777778,
              "#fb9f3a"
             ],
             [
              0.8888888888888888,
              "#fdca26"
             ],
             [
              1,
              "#f0f921"
             ]
            ],
            "type": "histogram2d"
           }
          ],
          "histogram2dcontour": [
           {
            "colorbar": {
             "outlinewidth": 0,
             "ticks": ""
            },
            "colorscale": [
             [
              0,
              "#0d0887"
             ],
             [
              0.1111111111111111,
              "#46039f"
             ],
             [
              0.2222222222222222,
              "#7201a8"
             ],
             [
              0.3333333333333333,
              "#9c179e"
             ],
             [
              0.4444444444444444,
              "#bd3786"
             ],
             [
              0.5555555555555556,
              "#d8576b"
             ],
             [
              0.6666666666666666,
              "#ed7953"
             ],
             [
              0.7777777777777778,
              "#fb9f3a"
             ],
             [
              0.8888888888888888,
              "#fdca26"
             ],
             [
              1,
              "#f0f921"
             ]
            ],
            "type": "histogram2dcontour"
           }
          ],
          "mesh3d": [
           {
            "colorbar": {
             "outlinewidth": 0,
             "ticks": ""
            },
            "type": "mesh3d"
           }
          ],
          "parcoords": [
           {
            "line": {
             "colorbar": {
              "outlinewidth": 0,
              "ticks": ""
             }
            },
            "type": "parcoords"
           }
          ],
          "scatter": [
           {
            "marker": {
             "colorbar": {
              "outlinewidth": 0,
              "ticks": ""
             }
            },
            "type": "scatter"
           }
          ],
          "scatter3d": [
           {
            "line": {
             "colorbar": {
              "outlinewidth": 0,
              "ticks": ""
             }
            },
            "marker": {
             "colorbar": {
              "outlinewidth": 0,
              "ticks": ""
             }
            },
            "type": "scatter3d"
           }
          ],
          "scattercarpet": [
           {
            "marker": {
             "colorbar": {
              "outlinewidth": 0,
              "ticks": ""
             }
            },
            "type": "scattercarpet"
           }
          ],
          "scattergeo": [
           {
            "marker": {
             "colorbar": {
              "outlinewidth": 0,
              "ticks": ""
             }
            },
            "type": "scattergeo"
           }
          ],
          "scattergl": [
           {
            "marker": {
             "colorbar": {
              "outlinewidth": 0,
              "ticks": ""
             }
            },
            "type": "scattergl"
           }
          ],
          "scattermapbox": [
           {
            "marker": {
             "colorbar": {
              "outlinewidth": 0,
              "ticks": ""
             }
            },
            "type": "scattermapbox"
           }
          ],
          "scatterpolar": [
           {
            "marker": {
             "colorbar": {
              "outlinewidth": 0,
              "ticks": ""
             }
            },
            "type": "scatterpolar"
           }
          ],
          "scatterpolargl": [
           {
            "marker": {
             "colorbar": {
              "outlinewidth": 0,
              "ticks": ""
             }
            },
            "type": "scatterpolargl"
           }
          ],
          "scatterternary": [
           {
            "marker": {
             "colorbar": {
              "outlinewidth": 0,
              "ticks": ""
             }
            },
            "type": "scatterternary"
           }
          ],
          "surface": [
           {
            "colorbar": {
             "outlinewidth": 0,
             "ticks": ""
            },
            "colorscale": [
             [
              0,
              "#0d0887"
             ],
             [
              0.1111111111111111,
              "#46039f"
             ],
             [
              0.2222222222222222,
              "#7201a8"
             ],
             [
              0.3333333333333333,
              "#9c179e"
             ],
             [
              0.4444444444444444,
              "#bd3786"
             ],
             [
              0.5555555555555556,
              "#d8576b"
             ],
             [
              0.6666666666666666,
              "#ed7953"
             ],
             [
              0.7777777777777778,
              "#fb9f3a"
             ],
             [
              0.8888888888888888,
              "#fdca26"
             ],
             [
              1,
              "#f0f921"
             ]
            ],
            "type": "surface"
           }
          ],
          "table": [
           {
            "cells": {
             "fill": {
              "color": "#EBF0F8"
             },
             "line": {
              "color": "white"
             }
            },
            "header": {
             "fill": {
              "color": "#C8D4E3"
             },
             "line": {
              "color": "white"
             }
            },
            "type": "table"
           }
          ]
         },
         "layout": {
          "annotationdefaults": {
           "arrowcolor": "#2a3f5f",
           "arrowhead": 0,
           "arrowwidth": 1
          },
          "colorscale": {
           "diverging": [
            [
             0,
             "#8e0152"
            ],
            [
             0.1,
             "#c51b7d"
            ],
            [
             0.2,
             "#de77ae"
            ],
            [
             0.3,
             "#f1b6da"
            ],
            [
             0.4,
             "#fde0ef"
            ],
            [
             0.5,
             "#f7f7f7"
            ],
            [
             0.6,
             "#e6f5d0"
            ],
            [
             0.7,
             "#b8e186"
            ],
            [
             0.8,
             "#7fbc41"
            ],
            [
             0.9,
             "#4d9221"
            ],
            [
             1,
             "#276419"
            ]
           ],
           "sequential": [
            [
             0,
             "#0d0887"
            ],
            [
             0.1111111111111111,
             "#46039f"
            ],
            [
             0.2222222222222222,
             "#7201a8"
            ],
            [
             0.3333333333333333,
             "#9c179e"
            ],
            [
             0.4444444444444444,
             "#bd3786"
            ],
            [
             0.5555555555555556,
             "#d8576b"
            ],
            [
             0.6666666666666666,
             "#ed7953"
            ],
            [
             0.7777777777777778,
             "#fb9f3a"
            ],
            [
             0.8888888888888888,
             "#fdca26"
            ],
            [
             1,
             "#f0f921"
            ]
           ],
           "sequentialminus": [
            [
             0,
             "#0d0887"
            ],
            [
             0.1111111111111111,
             "#46039f"
            ],
            [
             0.2222222222222222,
             "#7201a8"
            ],
            [
             0.3333333333333333,
             "#9c179e"
            ],
            [
             0.4444444444444444,
             "#bd3786"
            ],
            [
             0.5555555555555556,
             "#d8576b"
            ],
            [
             0.6666666666666666,
             "#ed7953"
            ],
            [
             0.7777777777777778,
             "#fb9f3a"
            ],
            [
             0.8888888888888888,
             "#fdca26"
            ],
            [
             1,
             "#f0f921"
            ]
           ]
          },
          "colorway": [
           "#636efa",
           "#EF553B",
           "#00cc96",
           "#ab63fa",
           "#FFA15A",
           "#19d3f3",
           "#FF6692",
           "#B6E880",
           "#FF97FF",
           "#FECB52"
          ],
          "font": {
           "color": "#2a3f5f"
          },
          "geo": {
           "bgcolor": "white",
           "lakecolor": "white",
           "landcolor": "#E5ECF6",
           "showlakes": true,
           "showland": true,
           "subunitcolor": "white"
          },
          "hoverlabel": {
           "align": "left"
          },
          "hovermode": "closest",
          "mapbox": {
           "style": "light"
          },
          "paper_bgcolor": "white",
          "plot_bgcolor": "#E5ECF6",
          "polar": {
           "angularaxis": {
            "gridcolor": "white",
            "linecolor": "white",
            "ticks": ""
           },
           "bgcolor": "#E5ECF6",
           "radialaxis": {
            "gridcolor": "white",
            "linecolor": "white",
            "ticks": ""
           }
          },
          "scene": {
           "xaxis": {
            "backgroundcolor": "#E5ECF6",
            "gridcolor": "white",
            "gridwidth": 2,
            "linecolor": "white",
            "showbackground": true,
            "ticks": "",
            "zerolinecolor": "white"
           },
           "yaxis": {
            "backgroundcolor": "#E5ECF6",
            "gridcolor": "white",
            "gridwidth": 2,
            "linecolor": "white",
            "showbackground": true,
            "ticks": "",
            "zerolinecolor": "white"
           },
           "zaxis": {
            "backgroundcolor": "#E5ECF6",
            "gridcolor": "white",
            "gridwidth": 2,
            "linecolor": "white",
            "showbackground": true,
            "ticks": "",
            "zerolinecolor": "white"
           }
          },
          "shapedefaults": {
           "line": {
            "color": "#2a3f5f"
           }
          },
          "ternary": {
           "aaxis": {
            "gridcolor": "white",
            "linecolor": "white",
            "ticks": ""
           },
           "baxis": {
            "gridcolor": "white",
            "linecolor": "white",
            "ticks": ""
           },
           "bgcolor": "#E5ECF6",
           "caxis": {
            "gridcolor": "white",
            "linecolor": "white",
            "ticks": ""
           }
          },
          "title": {
           "x": 0.05
          },
          "xaxis": {
           "automargin": true,
           "gridcolor": "white",
           "linecolor": "white",
           "ticks": "",
           "zerolinecolor": "white",
           "zerolinewidth": 2
          },
          "yaxis": {
           "automargin": true,
           "gridcolor": "white",
           "linecolor": "white",
           "ticks": "",
           "zerolinecolor": "white",
           "zerolinewidth": 2
          }
         }
        },
        "title": {
         "text": "Hyperparameter Optimization: Average validation scores"
        },
        "xaxis": {
         "title": {
          "text": "c value"
         },
         "type": "log"
        },
        "yaxis": {
         "title": {
          "text": "Val. score"
         }
        }
       }
      },
      "text/html": [
       "<div>\n",
       "        \n",
       "        \n",
       "            <div id=\"c6e8bd35-b0cf-4bf0-bc5a-bf7a98bc7338\" class=\"plotly-graph-div\" style=\"height:525px; width:100%;\"></div>\n",
       "            <script type=\"text/javascript\">\n",
       "                require([\"plotly\"], function(Plotly) {\n",
       "                    window.PLOTLYENV=window.PLOTLYENV || {};\n",
       "                    \n",
       "                if (document.getElementById(\"c6e8bd35-b0cf-4bf0-bc5a-bf7a98bc7338\")) {\n",
       "                    Plotly.newPlot(\n",
       "                        'c6e8bd35-b0cf-4bf0-bc5a-bf7a98bc7338',\n",
       "                        [{\"mode\": \"lines+markers\", \"name\": \"Validation scores\", \"type\": \"scatter\", \"x\": [1e-06, 1e-05, 0.0001, 0.001, 0.01, 0.1, 1, 1.0, 10, 100, 1000, 10000, 100000], \"y\": [0.9347785373235784, 0.9347785373235784, 0.9347785373235784, 0.9347785373235784, 0.9347785373235784, 0.9414823466433073, 0.9510681652455599, 0.9510681652455599, 0.9495018276979639, 0.943988278714324, 0.9378483595459052, 0.9328987595829537, 0.9309564036932294]}],\n",
       "                        {\"template\": {\"data\": {\"bar\": [{\"error_x\": {\"color\": \"#2a3f5f\"}, \"error_y\": {\"color\": \"#2a3f5f\"}, \"marker\": {\"line\": {\"color\": \"#E5ECF6\", \"width\": 0.5}}, \"type\": \"bar\"}], \"barpolar\": [{\"marker\": {\"line\": {\"color\": \"#E5ECF6\", \"width\": 0.5}}, \"type\": \"barpolar\"}], \"carpet\": [{\"aaxis\": {\"endlinecolor\": \"#2a3f5f\", \"gridcolor\": \"white\", \"linecolor\": \"white\", \"minorgridcolor\": \"white\", \"startlinecolor\": \"#2a3f5f\"}, \"baxis\": {\"endlinecolor\": \"#2a3f5f\", \"gridcolor\": \"white\", \"linecolor\": \"white\", \"minorgridcolor\": \"white\", \"startlinecolor\": \"#2a3f5f\"}, \"type\": \"carpet\"}], \"choropleth\": [{\"colorbar\": {\"outlinewidth\": 0, \"ticks\": \"\"}, \"type\": \"choropleth\"}], \"contour\": [{\"colorbar\": {\"outlinewidth\": 0, \"ticks\": \"\"}, \"colorscale\": [[0.0, \"#0d0887\"], [0.1111111111111111, \"#46039f\"], [0.2222222222222222, \"#7201a8\"], [0.3333333333333333, \"#9c179e\"], [0.4444444444444444, \"#bd3786\"], [0.5555555555555556, \"#d8576b\"], [0.6666666666666666, \"#ed7953\"], [0.7777777777777778, \"#fb9f3a\"], [0.8888888888888888, \"#fdca26\"], [1.0, \"#f0f921\"]], \"type\": \"contour\"}], \"contourcarpet\": [{\"colorbar\": {\"outlinewidth\": 0, \"ticks\": \"\"}, \"type\": \"contourcarpet\"}], \"heatmap\": [{\"colorbar\": {\"outlinewidth\": 0, \"ticks\": \"\"}, \"colorscale\": [[0.0, \"#0d0887\"], [0.1111111111111111, \"#46039f\"], [0.2222222222222222, \"#7201a8\"], [0.3333333333333333, \"#9c179e\"], [0.4444444444444444, \"#bd3786\"], [0.5555555555555556, \"#d8576b\"], [0.6666666666666666, \"#ed7953\"], [0.7777777777777778, \"#fb9f3a\"], [0.8888888888888888, \"#fdca26\"], [1.0, \"#f0f921\"]], \"type\": \"heatmap\"}], \"heatmapgl\": [{\"colorbar\": {\"outlinewidth\": 0, \"ticks\": \"\"}, \"colorscale\": [[0.0, \"#0d0887\"], [0.1111111111111111, \"#46039f\"], [0.2222222222222222, \"#7201a8\"], [0.3333333333333333, \"#9c179e\"], [0.4444444444444444, \"#bd3786\"], [0.5555555555555556, \"#d8576b\"], [0.6666666666666666, \"#ed7953\"], [0.7777777777777778, \"#fb9f3a\"], [0.8888888888888888, \"#fdca26\"], [1.0, \"#f0f921\"]], \"type\": \"heatmapgl\"}], \"histogram\": [{\"marker\": {\"colorbar\": {\"outlinewidth\": 0, \"ticks\": \"\"}}, \"type\": \"histogram\"}], \"histogram2d\": [{\"colorbar\": {\"outlinewidth\": 0, \"ticks\": \"\"}, \"colorscale\": [[0.0, \"#0d0887\"], [0.1111111111111111, \"#46039f\"], [0.2222222222222222, \"#7201a8\"], [0.3333333333333333, \"#9c179e\"], [0.4444444444444444, \"#bd3786\"], [0.5555555555555556, \"#d8576b\"], [0.6666666666666666, \"#ed7953\"], [0.7777777777777778, \"#fb9f3a\"], [0.8888888888888888, \"#fdca26\"], [1.0, \"#f0f921\"]], \"type\": \"histogram2d\"}], \"histogram2dcontour\": [{\"colorbar\": {\"outlinewidth\": 0, \"ticks\": \"\"}, \"colorscale\": [[0.0, \"#0d0887\"], [0.1111111111111111, \"#46039f\"], [0.2222222222222222, \"#7201a8\"], [0.3333333333333333, \"#9c179e\"], [0.4444444444444444, \"#bd3786\"], [0.5555555555555556, \"#d8576b\"], [0.6666666666666666, \"#ed7953\"], [0.7777777777777778, \"#fb9f3a\"], [0.8888888888888888, \"#fdca26\"], [1.0, \"#f0f921\"]], \"type\": \"histogram2dcontour\"}], \"mesh3d\": [{\"colorbar\": {\"outlinewidth\": 0, \"ticks\": \"\"}, \"type\": \"mesh3d\"}], \"parcoords\": [{\"line\": {\"colorbar\": {\"outlinewidth\": 0, \"ticks\": \"\"}}, \"type\": \"parcoords\"}], \"scatter\": [{\"marker\": {\"colorbar\": {\"outlinewidth\": 0, \"ticks\": \"\"}}, \"type\": \"scatter\"}], \"scatter3d\": [{\"line\": {\"colorbar\": {\"outlinewidth\": 0, \"ticks\": \"\"}}, \"marker\": {\"colorbar\": {\"outlinewidth\": 0, \"ticks\": \"\"}}, \"type\": \"scatter3d\"}], \"scattercarpet\": [{\"marker\": {\"colorbar\": {\"outlinewidth\": 0, \"ticks\": \"\"}}, \"type\": \"scattercarpet\"}], \"scattergeo\": [{\"marker\": {\"colorbar\": {\"outlinewidth\": 0, \"ticks\": \"\"}}, \"type\": \"scattergeo\"}], \"scattergl\": [{\"marker\": {\"colorbar\": {\"outlinewidth\": 0, \"ticks\": \"\"}}, \"type\": \"scattergl\"}], \"scattermapbox\": [{\"marker\": {\"colorbar\": {\"outlinewidth\": 0, \"ticks\": \"\"}}, \"type\": \"scattermapbox\"}], \"scatterpolar\": [{\"marker\": {\"colorbar\": {\"outlinewidth\": 0, \"ticks\": \"\"}}, \"type\": \"scatterpolar\"}], \"scatterpolargl\": [{\"marker\": {\"colorbar\": {\"outlinewidth\": 0, \"ticks\": \"\"}}, \"type\": \"scatterpolargl\"}], \"scatterternary\": [{\"marker\": {\"colorbar\": {\"outlinewidth\": 0, \"ticks\": \"\"}}, \"type\": \"scatterternary\"}], \"surface\": [{\"colorbar\": {\"outlinewidth\": 0, \"ticks\": \"\"}, \"colorscale\": [[0.0, \"#0d0887\"], [0.1111111111111111, \"#46039f\"], [0.2222222222222222, \"#7201a8\"], [0.3333333333333333, \"#9c179e\"], [0.4444444444444444, \"#bd3786\"], [0.5555555555555556, \"#d8576b\"], [0.6666666666666666, \"#ed7953\"], [0.7777777777777778, \"#fb9f3a\"], [0.8888888888888888, \"#fdca26\"], [1.0, \"#f0f921\"]], \"type\": \"surface\"}], \"table\": [{\"cells\": {\"fill\": {\"color\": \"#EBF0F8\"}, \"line\": {\"color\": \"white\"}}, \"header\": {\"fill\": {\"color\": \"#C8D4E3\"}, \"line\": {\"color\": \"white\"}}, \"type\": \"table\"}]}, \"layout\": {\"annotationdefaults\": {\"arrowcolor\": \"#2a3f5f\", \"arrowhead\": 0, \"arrowwidth\": 1}, \"colorscale\": {\"diverging\": [[0, \"#8e0152\"], [0.1, \"#c51b7d\"], [0.2, \"#de77ae\"], [0.3, \"#f1b6da\"], [0.4, \"#fde0ef\"], [0.5, \"#f7f7f7\"], [0.6, \"#e6f5d0\"], [0.7, \"#b8e186\"], [0.8, \"#7fbc41\"], [0.9, \"#4d9221\"], [1, \"#276419\"]], \"sequential\": [[0.0, \"#0d0887\"], [0.1111111111111111, \"#46039f\"], [0.2222222222222222, \"#7201a8\"], [0.3333333333333333, \"#9c179e\"], [0.4444444444444444, \"#bd3786\"], [0.5555555555555556, \"#d8576b\"], [0.6666666666666666, \"#ed7953\"], [0.7777777777777778, \"#fb9f3a\"], [0.8888888888888888, \"#fdca26\"], [1.0, \"#f0f921\"]], \"sequentialminus\": [[0.0, \"#0d0887\"], [0.1111111111111111, \"#46039f\"], [0.2222222222222222, \"#7201a8\"], [0.3333333333333333, \"#9c179e\"], [0.4444444444444444, \"#bd3786\"], [0.5555555555555556, \"#d8576b\"], [0.6666666666666666, \"#ed7953\"], [0.7777777777777778, \"#fb9f3a\"], [0.8888888888888888, \"#fdca26\"], [1.0, \"#f0f921\"]]}, \"colorway\": [\"#636efa\", \"#EF553B\", \"#00cc96\", \"#ab63fa\", \"#FFA15A\", \"#19d3f3\", \"#FF6692\", \"#B6E880\", \"#FF97FF\", \"#FECB52\"], \"font\": {\"color\": \"#2a3f5f\"}, \"geo\": {\"bgcolor\": \"white\", \"lakecolor\": \"white\", \"landcolor\": \"#E5ECF6\", \"showlakes\": true, \"showland\": true, \"subunitcolor\": \"white\"}, \"hoverlabel\": {\"align\": \"left\"}, \"hovermode\": \"closest\", \"mapbox\": {\"style\": \"light\"}, \"paper_bgcolor\": \"white\", \"plot_bgcolor\": \"#E5ECF6\", \"polar\": {\"angularaxis\": {\"gridcolor\": \"white\", \"linecolor\": \"white\", \"ticks\": \"\"}, \"bgcolor\": \"#E5ECF6\", \"radialaxis\": {\"gridcolor\": \"white\", \"linecolor\": \"white\", \"ticks\": \"\"}}, \"scene\": {\"xaxis\": {\"backgroundcolor\": \"#E5ECF6\", \"gridcolor\": \"white\", \"gridwidth\": 2, \"linecolor\": \"white\", \"showbackground\": true, \"ticks\": \"\", \"zerolinecolor\": \"white\"}, \"yaxis\": {\"backgroundcolor\": \"#E5ECF6\", \"gridcolor\": \"white\", \"gridwidth\": 2, \"linecolor\": \"white\", \"showbackground\": true, \"ticks\": \"\", \"zerolinecolor\": \"white\"}, \"zaxis\": {\"backgroundcolor\": \"#E5ECF6\", \"gridcolor\": \"white\", \"gridwidth\": 2, \"linecolor\": \"white\", \"showbackground\": true, \"ticks\": \"\", \"zerolinecolor\": \"white\"}}, \"shapedefaults\": {\"line\": {\"color\": \"#2a3f5f\"}}, \"ternary\": {\"aaxis\": {\"gridcolor\": \"white\", \"linecolor\": \"white\", \"ticks\": \"\"}, \"baxis\": {\"gridcolor\": \"white\", \"linecolor\": \"white\", \"ticks\": \"\"}, \"bgcolor\": \"#E5ECF6\", \"caxis\": {\"gridcolor\": \"white\", \"linecolor\": \"white\", \"ticks\": \"\"}}, \"title\": {\"x\": 0.05}, \"xaxis\": {\"automargin\": true, \"gridcolor\": \"white\", \"linecolor\": \"white\", \"ticks\": \"\", \"zerolinecolor\": \"white\", \"zerolinewidth\": 2}, \"yaxis\": {\"automargin\": true, \"gridcolor\": \"white\", \"linecolor\": \"white\", \"ticks\": \"\", \"zerolinecolor\": \"white\", \"zerolinewidth\": 2}}}, \"title\": {\"text\": \"Hyperparameter Optimization: Average validation scores\"}, \"xaxis\": {\"title\": {\"text\": \"c value\"}, \"type\": \"log\"}, \"yaxis\": {\"title\": {\"text\": \"Val. score\"}}},\n",
       "                        {\"responsive\": true}\n",
       "                    ).then(function(){\n",
       "                            \n",
       "var gd = document.getElementById('c6e8bd35-b0cf-4bf0-bc5a-bf7a98bc7338');\n",
       "var x = new MutationObserver(function (mutations, observer) {{\n",
       "        var display = window.getComputedStyle(gd).display;\n",
       "        if (!display || display === 'none') {{\n",
       "            console.log([gd, 'removed!']);\n",
       "            Plotly.purge(gd);\n",
       "            observer.disconnect();\n",
       "        }}\n",
       "}});\n",
       "\n",
       "// Listen for the removal of the full notebook cells\n",
       "var notebookContainer = gd.closest('#notebook-container');\n",
       "if (notebookContainer) {{\n",
       "    x.observe(notebookContainer, {childList: true});\n",
       "}}\n",
       "\n",
       "// Listen for the clearing of the current output cell\n",
       "var outputEl = gd.closest('.output');\n",
       "if (outputEl) {{\n",
       "    x.observe(outputEl, {childList: true});\n",
       "}}\n",
       "\n",
       "                        })\n",
       "                };\n",
       "                });\n",
       "            </script>\n",
       "        </div>"
      ]
     },
     "metadata": {},
     "output_type": "display_data"
    }
   ],
   "source": [
    "from sklearn.model_selection import cross_val_score\n",
    "\n",
    "c_range = [0.000001, 0.00001, 0.0001, 0.001, 0.01, 0.1, 1, 1.0, 10, 100, 1000, 10000, 100000]\n",
    "\n",
    "scores = list()\n",
    "\n",
    "for c in c_range:\n",
    "    \n",
    "    #Instantiate Logistic Regression model using Ridge penalty:\n",
    "    lr_model2 = LogisticRegression(penalty = 'l2', C = c) \n",
    "    \n",
    "    #K-fold cross validation. K = 5\n",
    "    \n",
    "    val_scores = cross_val_score(lr_model2,X_train,y_train, cv = 5)\n",
    "    \n",
    "    avg_score = np.mean(val_scores)\n",
    "    \n",
    "    scores.append(avg_score)\n",
    "\n",
    "\n",
    "#Instantiate plot\n",
    "\n",
    "trace_3 = go.Scatter(x = c_range, y = scores, name = 'Validation scores', mode = 'lines+markers' )\n",
    "\n",
    "layout = go.Layout(title = 'Hyperparameter Optimization: Average validation scores',\n",
    "                  xaxis = dict(title = 'c value', type = 'log'),\n",
    "                  yaxis = dict(title = 'Val. score'))\n",
    "\n",
    "fig = go.Figure(data = trace_3, layout = layout)\n",
    "\n",
    "fig.show()"
   ]
  },
  {
   "cell_type": "markdown",
   "metadata": {},
   "source": [
    "Hyper parameters optimized at C = 1 (alpha = 1/C = 1, regularization penalty = L2(Ridge))."
   ]
  },
  {
   "cell_type": "markdown",
   "metadata": {},
   "source": [
    "### Model of Best fit"
   ]
  },
  {
   "cell_type": "code",
   "execution_count": 56,
   "metadata": {},
   "outputs": [
    {
     "data": {
      "text/plain": [
       "LogisticRegression(C=1, class_weight=None, dual=False, fit_intercept=True,\n",
       "                   intercept_scaling=1, l1_ratio=None, max_iter=100,\n",
       "                   multi_class='warn', n_jobs=None, penalty='l2',\n",
       "                   random_state=None, solver='warn', tol=0.0001, verbose=0,\n",
       "                   warm_start=False)"
      ]
     },
     "execution_count": 56,
     "metadata": {},
     "output_type": "execute_result"
    }
   ],
   "source": [
    "#Fit a simple logistic regression model\n",
    "from sklearn.linear_model import LogisticRegression\n",
    "\n",
    "#Hyperparameter optimization\n",
    "lr_model = LogisticRegression(penalty = 'l2', C = 1)\n",
    "\n",
    "#fit\n",
    "lr_model.fit(X_train, y_train)"
   ]
  },
  {
   "cell_type": "markdown",
   "metadata": {},
   "source": [
    "### Final Model: Evaluation"
   ]
  },
  {
   "cell_type": "code",
   "execution_count": 57,
   "metadata": {},
   "outputs": [
    {
     "name": "stdout",
     "output_type": "stream",
     "text": [
      "Train Accuracy: 0.9766931896497714\n",
      "Validation Accuracy: 0.9545388101154801\n"
     ]
    }
   ],
   "source": [
    "#Accuracy\n",
    "print('Train Accuracy:',lr_model.score(X_train, y_train))\n",
    "\n",
    "print('Validation Accuracy:', lr_model.score(X_val, y_val))"
   ]
  },
  {
   "cell_type": "code",
   "execution_count": 58,
   "metadata": {},
   "outputs": [
    {
     "name": "stdout",
     "output_type": "stream",
     "text": [
      "              precision    recall  f1-score   support\n",
      "\n",
      "           0       0.96      0.99      0.98      6395\n",
      "           1       0.79      0.41      0.54       446\n",
      "\n",
      "    accuracy                           0.95      6841\n",
      "   macro avg       0.88      0.70      0.76      6841\n",
      "weighted avg       0.95      0.95      0.95      6841\n",
      "\n"
     ]
    }
   ],
   "source": [
    "#classification report\n",
    "from sklearn.metrics import classification_report, confusion_matrix\n",
    "\n",
    "#predict X_val\n",
    "y_pred = lr_model.predict(X_val)\n",
    "\n",
    "print(classification_report(y_val, y_pred))"
   ]
  },
  {
   "cell_type": "code",
   "execution_count": 59,
   "metadata": {},
   "outputs": [
    {
     "name": "stdout",
     "output_type": "stream",
     "text": [
      "[[6346   49]\n",
      " [ 262  184]]\n"
     ]
    }
   ],
   "source": [
    "#Confusion matrix\n",
    "print(confusion_matrix(y_val, y_pred))"
   ]
  },
  {
   "cell_type": "code",
   "execution_count": 60,
   "metadata": {
    "scrolled": true
   },
   "outputs": [
    {
     "data": {
      "application/vnd.plotly.v1+json": {
       "config": {
        "plotlyServerURL": "https://plot.ly"
       },
       "data": [
        {
         "name": "AUC: 0.93",
         "type": "scatter",
         "x": [
          0,
          0,
          0,
          0.0001563721657544957,
          0.0001563721657544957,
          0.0003127443315089914,
          0.0003127443315089914,
          0.0004691164972634871,
          0.0004691164972634871,
          0.0007818608287724785,
          0.0007818608287724785,
          0.0009382329945269742,
          0.0009382329945269742,
          0.00109460516028147,
          0.00109460516028147,
          0.0012509773260359655,
          0.0012509773260359655,
          0.0012509773260359655,
          0.0012509773260359655,
          0.0014073494917904612,
          0.0014073494917904612,
          0.001563721657544957,
          0.001563721657544957,
          0.0017200938232994527,
          0.0017200938232994527,
          0.0018764659890539485,
          0.0018764659890539485,
          0.002032838154808444,
          0.002032838154808444,
          0.00218921032056294,
          0.00218921032056294,
          0.0026583268178264267,
          0.0026583268178264267,
          0.0028146989835809225,
          0.0028146989835809225,
          0.002971071149335418,
          0.002971071149335418,
          0.003127443315089914,
          0.003127443315089914,
          0.003596559812353401,
          0.003596559812353401,
          0.003752931978107897,
          0.003752931978107897,
          0.004691164972634871,
          0.004691164972634871,
          0.005160281469898358,
          0.005160281469898358,
          0.0053166536356528534,
          0.0053166536356528534,
          0.00547302580140735,
          0.00547302580140735,
          0.005629397967161845,
          0.005629397967161845,
          0.005942142298670836,
          0.005942142298670836,
          0.006098514464425333,
          0.006098514464425333,
          0.006411258795934324,
          0.006411258795934324,
          0.006567630961688819,
          0.006567630961688819,
          0.006880375293197811,
          0.006880375293197811,
          0.007036747458952306,
          0.007036747458952306,
          0.007349491790461298,
          0.007349491790461298,
          0.007505863956215794,
          0.007505863956215794,
          0.007662236121970289,
          0.007662236121970289,
          0.007818608287724784,
          0.007818608287724784,
          0.008444096950742767,
          0.008444096950742767,
          0.00875684128225176,
          0.00875684128225176,
          0.008913213448006255,
          0.008913213448006255,
          0.009695074276778733,
          0.009695074276778733,
          0.009851446442533229,
          0.009851446442533229,
          0.010320562939796716,
          0.010320562939796716,
          0.010476935105551212,
          0.010476935105551212,
          0.010633307271305707,
          0.010633307271305707,
          0.0109460516028147,
          0.0109460516028147,
          0.011415168100078187,
          0.011415168100078187,
          0.011571540265832682,
          0.011571540265832682,
          0.011884284597341673,
          0.011884284597341673,
          0.012197028928850665,
          0.012197028928850665,
          0.01235340109460516,
          0.01235340109460516,
          0.012509773260359656,
          0.012509773260359656,
          0.012822517591868648,
          0.012822517591868648,
          0.012978889757623143,
          0.012978889757623143,
          0.013604378420641126,
          0.013604378420641126,
          0.014073494917904612,
          0.014073494917904612,
          0.01422986708365911,
          0.01422986708365911,
          0.0145426114151681,
          0.0145426114151681,
          0.014855355746677092,
          0.014855355746677092,
          0.015011727912431588,
          0.015011727912431588,
          0.015480844409695074,
          0.015480844409695074,
          0.01563721657544957,
          0.01563721657544957,
          0.01641907740422205,
          0.01641907740422205,
          0.01673182173573104,
          0.01673182173573104,
          0.016888193901485535,
          0.016888193901485535,
          0.01704456606724003,
          0.01704456606724003,
          0.017200938232994525,
          0.017200938232994525,
          0.017670054730258015,
          0.017670054730258015,
          0.0181391712275215,
          0.0181391712275215,
          0.01892103205629398,
          0.01892103205629398,
          0.019390148553557467,
          0.019390148553557467,
          0.019702892885066457,
          0.019702892885066457,
          0.019859265050820953,
          0.019859265050820953,
          0.020015637216575448,
          0.020015637216575448,
          0.020328381548084442,
          0.020328381548084442,
          0.020484753713838937,
          0.020484753713838937,
          0.020641125879593433,
          0.020641125879593433,
          0.021422986708365913,
          0.021422986708365913,
          0.021735731039874903,
          0.021735731039874903,
          0.023143080531665364,
          0.023143080531665364,
          0.02392494136043784,
          0.02392494136043784,
          0.024081313526192336,
          0.024081313526192336,
          0.024237685691946835,
          0.024237685691946835,
          0.02439405785770133,
          0.02439405785770133,
          0.024863174354964816,
          0.024863174354964816,
          0.025175918686473807,
          0.025175918686473807,
          0.025488663017982797,
          0.025488663017982797,
          0.025645035183737296,
          0.025645035183737296,
          0.026270523846755277,
          0.026270523846755277,
          0.026426896012509773,
          0.026426896012509773,
          0.027052384675527757,
          0.027052384675527757,
          0.027521501172791243,
          0.027521501172791243,
          0.02767787333854574,
          0.02767787333854574,
          0.027834245504300234,
          0.027834245504300234,
          0.029241594996090695,
          0.029241594996090695,
          0.030961688819390147,
          0.030961688819390147,
          0.03127443315089914,
          0.03127443315089914,
          0.03252541047693511,
          0.03252541047693511,
          0.033620015637216574,
          0.033620015637216574,
          0.03408913213448006,
          0.03408913213448006,
          0.03471462079749805,
          0.03471462079749805,
          0.03502736512900704,
          0.03502736512900704,
          0.035183737294761534,
          0.035183737294761534,
          0.03674745895230649,
          0.03674745895230649,
          0.03721657544956997,
          0.03721657544956997,
          0.03878029710711493,
          0.03878029710711493,
          0.03956215793588741,
          0.03956215793588741,
          0.040031274433150896,
          0.040031274433150896,
          0.04034401876465989,
          0.04034401876465989,
          0.042845973416731825,
          0.042845973416731825,
          0.04472243940578577,
          0.04472243940578577,
          0.04534792806880375,
          0.04534792806880375,
          0.04597341673182174,
          0.04597341673182174,
          0.050351837372947614,
          0.050351837372947614,
          0.05050820953870211,
          0.05050820953870211,
          0.050977326035965595,
          0.050977326035965595,
          0.05269741985926505,
          0.05269741985926505,
          0.05332290852228303,
          0.05332290852228303,
          0.054730258014073496,
          0.054730258014073496,
          0.05535574667709148,
          0.05535574667709148,
          0.058326817826426895,
          0.058326817826426895,
          0.05848318999218139,
          0.05848318999218139,
          0.058639562157935886,
          0.058639562157935886,
          0.06035965598123534,
          0.06035965598123534,
          0.06082877247849883,
          0.06082877247849883,
          0.06098514464425332,
          0.06098514464425332,
          0.06270523846755277,
          0.06270523846755277,
          0.06661454261141517,
          0.06661454261141517,
          0.06692728694292416,
          0.06692728694292416,
          0.0689601250977326,
          0.0689601250977326,
          0.06989835809225958,
          0.06989835809225958,
          0.07083659108678655,
          0.07083659108678655,
          0.07146207974980454,
          0.07146207974980454,
          0.07240031274433151,
          0.07240031274433151,
          0.072556684910086,
          0.072556684910086,
          0.07412040656763096,
          0.07412040656763096,
          0.07490226739640345,
          0.07490226739640345,
          0.07537138389366693,
          0.07537138389366693,
          0.0763096168881939,
          0.0763096168881939,
          0.07865519937451133,
          0.07865519937451133,
          0.07896794370602032,
          0.07896794370602032,
          0.0797498045347928,
          0.0797498045347928,
          0.0802189210320563,
          0.0802189210320563,
          0.08178264268960125,
          0.08178264268960125,
          0.08647380766223613,
          0.08647380766223613,
          0.08850664581704457,
          0.08850664581704457,
          0.08913213448006255,
          0.08913213448006255,
          0.08960125097732603,
          0.08960125097732603,
          0.09710711493354184,
          0.09710711493354184,
          0.09960906958561376,
          0.09960906958561376,
          0.10007818608287725,
          0.10007818608287725,
          0.10039093041438624,
          0.10039093041438624,
          0.10336200156372166,
          0.10336200156372166,
          0.10414386239249414,
          0.10414386239249414,
          0.10430023455824863,
          0.10430023455824863,
          0.10492572322126661,
          0.10492572322126661,
          0.10789679437060204,
          0.10789679437060204,
          0.1093041438623925,
          0.1093041438623925,
          0.11149335418295543,
          0.11149335418295543,
          0.11164972634870993,
          0.11164972634870993,
          0.1124315871774824,
          0.1124315871774824,
          0.11305707584050038,
          0.11305707584050038,
          0.11383893666927287,
          0.11383893666927287,
          0.11446442533229086,
          0.11446442533229086,
          0.11774824081313526,
          0.11774824081313526,
          0.11899921813917123,
          0.11899921813917123,
          0.12509773260359655,
          0.12509773260359655,
          0.127130570758405,
          0.127130570758405,
          0.12838154808444097,
          0.12838154808444097,
          0.12978889757623144,
          0.12978889757623144,
          0.13119624706802188,
          0.13150899139953087,
          0.13182173573103986,
          0.13182173573103986,
          0.13260359655981235,
          0.13573103987490226,
          0.13698201720093822,
          0.13698201720093822,
          0.14683346364347147,
          0.14683346364347147,
          0.14761532447224393,
          0.14761532447224393,
          0.1482408131352619,
          0.1482408131352619,
          0.1490226739640344,
          0.1490226739640344,
          0.15762314308053166,
          0.15762314308053166,
          0.15856137607505863,
          0.15887412040656762,
          0.163408913213448,
          0.163408913213448,
          0.1638780297107115,
          0.1638780297107115,
          0.16622361219702894,
          0.16622361219702894,
          0.1745113369820172,
          0.1745113369820172,
          0.17560594214229866,
          0.17638780297107115,
          0.17748240813135263,
          0.17748240813135263,
          0.17967161845191557,
          0.17967161845191557,
          0.17998436278342456,
          0.17998436278342456,
          0.18060985144644254,
          0.18060985144644254,
          0.1815480844409695,
          0.1818608287724785,
          0.18358092259577796,
          0.18358092259577796,
          0.18451915559030493,
          0.18451915559030493,
          0.1860828772478499,
          0.1860828772478499,
          0.18623924941360437,
          0.18655199374511336,
          0.19108678655199374,
          0.19108678655199374,
          0.19421422986708367,
          0.19421422986708367,
          0.2001563721657545,
          0.2001563721657545,
          0.20078186082877247,
          0.20078186082877247,
          0.2035965598123534,
          0.2035965598123534,
          0.20797498045347929,
          0.20797498045347929,
          0.21204065676309616,
          0.21204065676309616,
          0.21704456606724004,
          0.21704456606724004,
          0.21720093823299452,
          0.2175136825645035,
          0.21907740422204847,
          0.21907740422204847,
          0.21985926505082096,
          0.22032838154808443,
          0.22236121970289288,
          0.22236121970289288,
          0.22267396403440187,
          0.22267396403440187,
          0.22298670836591086,
          0.22298670836591086,
          0.23033620015637216,
          0.23096168881939014,
          0.23127443315089913,
          0.23127443315089913,
          0.2323690383111806,
          0.2323690383111806,
          0.24065676309616887,
          0.24065676309616887,
          0.24659890539483972,
          0.24659890539483972,
          0.2500390930414386,
          0.2500390930414386,
          0.25926505082095386,
          0.25926505082095386,
          0.26442533229085224,
          0.26442533229085224,
          0.2692728694292416,
          0.2692728694292416,
          0.2714620797498045,
          0.2714620797498045,
          0.2730258014073495,
          0.2730258014073495,
          0.2841282251759187,
          0.2841282251759187,
          0.2855355746677091,
          0.28584831899921814,
          0.2938232994526974,
          0.2938232994526974,
          0.3080531665363565,
          0.30852228303362,
          0.31039874902267395,
          0.31039874902267395,
          0.31071149335418297,
          0.31086786551993745,
          0.3275996872556685,
          0.3275996872556685,
          0.3302580140734949,
          0.3305707584050039,
          0.34464425332290854,
          0.34464425332290854,
          0.34620797498045347,
          0.34620797498045347,
          0.363408913213448,
          0.363408913213448,
          0.3663799843627834,
          0.3663799843627834,
          0.3677873338545739,
          0.3677873338545739,
          0.36919468334636435,
          0.3695074276778733,
          0.3762314308053167,
          0.37654417513682564,
          0.3939014855355747,
          0.39437060203283814,
          0.4001563721657545,
          0.4001563721657545,
          0.40578577013291633,
          0.40578577013291633,
          0.41204065676309615,
          0.41204065676309615,
          0.4121970289288507,
          0.4121970289288507,
          0.4137607505863956,
          0.4137607505863956,
          0.4139171227521501,
          0.4142298670836591,
          0.4336200156372166,
          0.4336200156372166,
          0.4503518373729476,
          0.4506645817044566,
          0.47396403440187646,
          0.47396403440187646,
          0.47458952306489444,
          0.47490226739640345,
          0.4764659890539484,
          0.4764659890539484,
          0.4856919468334636,
          0.4856919468334636,
          0.48803752931978106,
          0.48803752931978106,
          0.4897576231430805,
          0.4897576231430805,
          0.4980453479280688,
          0.4980453479280688,
          0.49960906958561374,
          0.49992181391712276,
          0.5154026583268179,
          0.5154026583268179,
          0.5202501954652072,
          0.5207193119624707,
          0.5252541047693511,
          0.5252541047693511,
          0.5357310398749022,
          0.5357310398749022,
          0.5390148553557467,
          0.5396403440187647,
          0.5396403440187647,
          0.5551211884284597,
          0.5551211884284597,
          0.5645035183737295,
          0.5649726348709929,
          0.5721657544956997,
          0.5721657544956997,
          0.5918686473807663,
          0.5921813917122752,
          0.6275215011727913,
          0.6275215011727913,
          0.6358092259577796,
          0.636903831118061,
          0.6508209538702111,
          0.6508209538702111,
          0.6636434714620798,
          0.6642689601250977,
          0.6780297107114933,
          0.6780297107114933,
          0.6933541829554339,
          0.6936669272869429,
          0.7200938232994527,
          0.7204065676309617,
          0.7240031274433151,
          0.7244722439405786,
          0.727756059421423,
          0.7282251759186865,
          0.7319781078967944,
          0.7322908522283034,
          0.765285379202502,
          0.7665363565285379,
          0.7732603596559813,
          0.7735731039874902,
          0.780766223612197,
          0.7812353401094605,
          0.7942142298670837,
          0.7942142298670837,
          0.8042220484753714,
          0.8046911649726348,
          0.8129788897576231,
          0.8132916340891322,
          0.8331508991399531,
          0.8334636434714621,
          0.834714620797498,
          0.8353401094605161,
          0.8444096950742768,
          0.8447224394057857,
          0.8448788115715402,
          0.8451915559030493,
          0.8506645817044566,
          0.8509773260359657,
          0.9013291634089132,
          0.9013291634089132,
          0.9186864738076622,
          0.9189992181391712,
          0.9596559812353401,
          0.9599687255668491,
          1
         ],
         "y": [
          0,
          0.002242152466367713,
          0.06502242152466367,
          0.06502242152466367,
          0.12780269058295965,
          0.12780269058295965,
          0.14349775784753363,
          0.14349775784753363,
          0.14798206278026907,
          0.14798206278026907,
          0.1547085201793722,
          0.1547085201793722,
          0.1591928251121076,
          0.1591928251121076,
          0.17488789237668162,
          0.17488789237668162,
          0.17713004484304934,
          0.18161434977578475,
          0.19506726457399104,
          0.19506726457399104,
          0.21973094170403587,
          0.21973094170403587,
          0.2242152466367713,
          0.2242152466367713,
          0.226457399103139,
          0.226457399103139,
          0.242152466367713,
          0.242152466367713,
          0.2645739910313901,
          0.2645739910313901,
          0.26681614349775784,
          0.26681614349775784,
          0.273542600896861,
          0.273542600896861,
          0.28699551569506726,
          0.28699551569506726,
          0.3071748878923767,
          0.3071748878923767,
          0.3094170403587444,
          0.3094170403587444,
          0.33408071748878926,
          0.33408071748878926,
          0.3542600896860987,
          0.3542600896860987,
          0.35874439461883406,
          0.35874439461883406,
          0.3632286995515695,
          0.3632286995515695,
          0.3654708520179372,
          0.3654708520179372,
          0.36995515695067266,
          0.36995515695067266,
          0.3744394618834081,
          0.3744394618834081,
          0.3789237668161435,
          0.3789237668161435,
          0.3811659192825112,
          0.3811659192825112,
          0.3901345291479821,
          0.3901345291479821,
          0.39461883408071746,
          0.39461883408071746,
          0.3968609865470852,
          0.3968609865470852,
          0.4013452914798206,
          0.4013452914798206,
          0.4103139013452915,
          0.4103139013452915,
          0.4125560538116592,
          0.4125560538116592,
          0.4147982062780269,
          0.4147982062780269,
          0.42152466367713004,
          0.42152466367713004,
          0.4260089686098655,
          0.4260089686098655,
          0.4327354260089686,
          0.4327354260089686,
          0.4349775784753363,
          0.4349775784753363,
          0.43946188340807174,
          0.43946188340807174,
          0.44170403587443946,
          0.44170403587443946,
          0.4439461883408072,
          0.4439461883408072,
          0.45067264573991034,
          0.45067264573991034,
          0.45739910313901344,
          0.45739910313901344,
          0.4618834080717489,
          0.4618834080717489,
          0.4641255605381166,
          0.4641255605381166,
          0.47085201793721976,
          0.47085201793721976,
          0.47757847533632286,
          0.47757847533632286,
          0.48654708520179374,
          0.48654708520179374,
          0.4910313901345291,
          0.4910313901345291,
          0.49551569506726456,
          0.49551569506726456,
          0.4977578475336323,
          0.4977578475336323,
          0.5,
          0.5,
          0.5022421524663677,
          0.5022421524663677,
          0.5044843049327354,
          0.5044843049327354,
          0.5112107623318386,
          0.5112107623318386,
          0.5134529147982063,
          0.5134529147982063,
          0.5179372197309418,
          0.5179372197309418,
          0.5224215246636771,
          0.5224215246636771,
          0.5269058295964125,
          0.5269058295964125,
          0.5291479820627802,
          0.5291479820627802,
          0.5336322869955157,
          0.5336322869955157,
          0.5403587443946188,
          0.5403587443946188,
          0.5493273542600897,
          0.5493273542600897,
          0.5515695067264574,
          0.5515695067264574,
          0.5538116591928252,
          0.5538116591928252,
          0.5582959641255605,
          0.5582959641255605,
          0.5605381165919282,
          0.5605381165919282,
          0.5650224215246636,
          0.5650224215246636,
          0.5672645739910314,
          0.5672645739910314,
          0.5695067264573991,
          0.5695067264573991,
          0.5717488789237668,
          0.5717488789237668,
          0.5739910313901345,
          0.5739910313901345,
          0.5807174887892377,
          0.5807174887892377,
          0.5852017937219731,
          0.5852017937219731,
          0.5874439461883408,
          0.5874439461883408,
          0.5896860986547086,
          0.5896860986547086,
          0.5964125560538116,
          0.5964125560538116,
          0.5986547085201793,
          0.5986547085201793,
          0.600896860986547,
          0.600896860986547,
          0.6031390134529148,
          0.6031390134529148,
          0.6053811659192825,
          0.6053811659192825,
          0.6076233183856502,
          0.6076233183856502,
          0.6098654708520179,
          0.6098654708520179,
          0.6143497757847534,
          0.6143497757847534,
          0.6188340807174888,
          0.6188340807174888,
          0.6233183856502242,
          0.6233183856502242,
          0.6278026905829597,
          0.6278026905829597,
          0.6300448430493274,
          0.6300448430493274,
          0.6322869955156951,
          0.6322869955156951,
          0.6345291479820628,
          0.6345291479820628,
          0.6434977578475336,
          0.6434977578475336,
          0.6457399103139013,
          0.6457399103139013,
          0.647982062780269,
          0.647982062780269,
          0.6502242152466368,
          0.6502242152466368,
          0.6524663677130045,
          0.6524663677130045,
          0.6547085201793722,
          0.6547085201793722,
          0.6569506726457399,
          0.6569506726457399,
          0.6591928251121076,
          0.6591928251121076,
          0.6614349775784754,
          0.6614349775784754,
          0.6636771300448431,
          0.6636771300448431,
          0.6659192825112108,
          0.6659192825112108,
          0.672645739910314,
          0.672645739910314,
          0.6748878923766816,
          0.6748878923766816,
          0.679372197309417,
          0.679372197309417,
          0.6816143497757847,
          0.6816143497757847,
          0.6838565022421524,
          0.6838565022421524,
          0.6883408071748879,
          0.6883408071748879,
          0.6928251121076233,
          0.6928251121076233,
          0.695067264573991,
          0.695067264573991,
          0.6973094170403588,
          0.6973094170403588,
          0.6995515695067265,
          0.6995515695067265,
          0.7017937219730942,
          0.7017937219730942,
          0.7040358744394619,
          0.7040358744394619,
          0.7062780269058296,
          0.7062780269058296,
          0.7085201793721974,
          0.7085201793721974,
          0.7130044843049327,
          0.7130044843049327,
          0.7152466367713004,
          0.7152466367713004,
          0.7174887892376681,
          0.7174887892376681,
          0.7197309417040358,
          0.7197309417040358,
          0.7219730941704036,
          0.7219730941704036,
          0.7242152466367713,
          0.7242152466367713,
          0.726457399103139,
          0.726457399103139,
          0.7286995515695067,
          0.7286995515695067,
          0.7309417040358744,
          0.7309417040358744,
          0.7331838565022422,
          0.7331838565022422,
          0.7354260089686099,
          0.7354260089686099,
          0.7376681614349776,
          0.7376681614349776,
          0.7399103139013453,
          0.7399103139013453,
          0.742152466367713,
          0.742152466367713,
          0.7443946188340808,
          0.7443946188340808,
          0.7488789237668162,
          0.7488789237668162,
          0.7511210762331838,
          0.7511210762331838,
          0.7533632286995515,
          0.7533632286995515,
          0.7556053811659192,
          0.7556053811659192,
          0.757847533632287,
          0.757847533632287,
          0.7600896860986547,
          0.7600896860986547,
          0.7623318385650224,
          0.7623318385650224,
          0.7645739910313901,
          0.7645739910313901,
          0.7668161434977578,
          0.7668161434977578,
          0.7690582959641256,
          0.7690582959641256,
          0.7713004484304933,
          0.7713004484304933,
          0.7757847533632287,
          0.7757847533632287,
          0.7780269058295964,
          0.7780269058295964,
          0.7802690582959642,
          0.7802690582959642,
          0.7825112107623319,
          0.7825112107623319,
          0.7847533632286996,
          0.7847533632286996,
          0.7869955156950673,
          0.7869955156950673,
          0.7914798206278026,
          0.7914798206278026,
          0.7937219730941704,
          0.7937219730941704,
          0.7959641255605381,
          0.7959641255605381,
          0.7982062780269058,
          0.7982062780269058,
          0.8004484304932735,
          0.8004484304932735,
          0.8026905829596412,
          0.8026905829596412,
          0.804932735426009,
          0.804932735426009,
          0.8071748878923767,
          0.8071748878923767,
          0.8094170403587444,
          0.8094170403587444,
          0.8116591928251121,
          0.8116591928251121,
          0.8139013452914798,
          0.8139013452914798,
          0.8161434977578476,
          0.8161434977578476,
          0.8183856502242153,
          0.8183856502242153,
          0.820627802690583,
          0.820627802690583,
          0.8228699551569507,
          0.8228699551569507,
          0.8251121076233184,
          0.8251121076233184,
          0.827354260089686,
          0.827354260089686,
          0.8295964125560538,
          0.8295964125560538,
          0.8318385650224215,
          0.8318385650224215,
          0.8340807174887892,
          0.8340807174887892,
          0.8363228699551569,
          0.8363228699551569,
          0.8363228699551569,
          0.8363228699551569,
          0.8385650224215246,
          0.8385650224215246,
          0.8385650224215246,
          0.8385650224215246,
          0.8408071748878924,
          0.8408071748878924,
          0.8430493273542601,
          0.8430493273542601,
          0.8452914798206278,
          0.8452914798206278,
          0.8475336322869955,
          0.8475336322869955,
          0.8497757847533632,
          0.8497757847533632,
          0.852017937219731,
          0.852017937219731,
          0.852017937219731,
          0.852017937219731,
          0.8542600896860987,
          0.8542600896860987,
          0.8565022421524664,
          0.8565022421524664,
          0.8587443946188341,
          0.8587443946188341,
          0.8609865470852018,
          0.8609865470852018,
          0.8609865470852018,
          0.8609865470852018,
          0.8632286995515696,
          0.8632286995515696,
          0.8654708520179372,
          0.8654708520179372,
          0.8677130044843049,
          0.8677130044843049,
          0.8699551569506726,
          0.8699551569506726,
          0.8699551569506726,
          0.8699551569506726,
          0.8721973094170403,
          0.8721973094170403,
          0.874439461883408,
          0.874439461883408,
          0.8766816143497758,
          0.8766816143497758,
          0.8766816143497758,
          0.8766816143497758,
          0.8789237668161435,
          0.8789237668161435,
          0.8811659192825112,
          0.8811659192825112,
          0.8834080717488789,
          0.8834080717488789,
          0.8856502242152466,
          0.8856502242152466,
          0.8878923766816144,
          0.8878923766816144,
          0.8901345291479821,
          0.8901345291479821,
          0.8923766816143498,
          0.8923766816143498,
          0.8946188340807175,
          0.8946188340807175,
          0.8946188340807175,
          0.8946188340807175,
          0.8968609865470852,
          0.8968609865470852,
          0.8968609865470852,
          0.8968609865470852,
          0.899103139013453,
          0.899103139013453,
          0.9013452914798207,
          0.9013452914798207,
          0.9035874439461884,
          0.9035874439461884,
          0.9035874439461884,
          0.9035874439461884,
          0.905829596412556,
          0.905829596412556,
          0.9080717488789237,
          0.9080717488789237,
          0.9103139013452914,
          0.9103139013452914,
          0.9125560538116592,
          0.9125560538116592,
          0.9147982062780269,
          0.9147982062780269,
          0.9170403587443946,
          0.9170403587443946,
          0.9192825112107623,
          0.9192825112107623,
          0.92152466367713,
          0.92152466367713,
          0.9237668161434978,
          0.9237668161434978,
          0.9260089686098655,
          0.9260089686098655,
          0.9282511210762332,
          0.9282511210762332,
          0.9282511210762332,
          0.9282511210762332,
          0.9304932735426009,
          0.9304932735426009,
          0.9304932735426009,
          0.9304932735426009,
          0.9327354260089686,
          0.9327354260089686,
          0.9349775784753364,
          0.9349775784753364,
          0.9372197309417041,
          0.9372197309417041,
          0.9372197309417041,
          0.9372197309417041,
          0.9394618834080718,
          0.9394618834080718,
          0.9417040358744395,
          0.9417040358744395,
          0.9439461883408071,
          0.9439461883408071,
          0.9461883408071748,
          0.9461883408071748,
          0.9484304932735426,
          0.9484304932735426,
          0.9484304932735426,
          0.9484304932735426,
          0.9484304932735426,
          0.9484304932735426,
          0.9484304932735426,
          0.9484304932735426,
          0.9506726457399103,
          0.9506726457399103,
          0.952914798206278,
          0.952914798206278,
          0.9551569506726457,
          0.9551569506726457,
          0.9573991031390134,
          0.9573991031390134,
          0.9596412556053812,
          0.9596412556053812,
          0.9596412556053812,
          0.9596412556053812,
          0.9618834080717489,
          0.9618834080717489,
          0.9618834080717489,
          0.9618834080717489,
          0.9641255605381166,
          0.9641255605381166,
          0.9641255605381166,
          0.9641255605381166,
          0.9663677130044843,
          0.9663677130044843,
          0.968609865470852,
          0.968609865470852,
          0.9708520179372198,
          0.9708520179372198,
          0.9730941704035875,
          0.9730941704035875,
          0.9753363228699552,
          0.9753363228699552,
          0.9753363228699552,
          0.9753363228699552,
          0.9775784753363229,
          0.9775784753363229,
          0.9775784753363229,
          0.9775784753363229,
          0.9798206278026906,
          0.9798206278026906,
          0.9820627802690582,
          0.9820627802690582,
          0.9820627802690582,
          0.984304932735426,
          0.984304932735426,
          0.9865470852017937,
          0.9865470852017937,
          0.9865470852017937,
          0.9865470852017937,
          0.9887892376681614,
          0.9887892376681614,
          0.9887892376681614,
          0.9887892376681614,
          0.9910313901345291,
          0.9910313901345291,
          0.9910313901345291,
          0.9910313901345291,
          0.9932735426008968,
          0.9932735426008968,
          0.9932735426008968,
          0.9932735426008968,
          0.9955156950672646,
          0.9955156950672646,
          0.9955156950672646,
          0.9955156950672646,
          0.9955156950672646,
          0.9955156950672646,
          0.9955156950672646,
          0.9955156950672646,
          0.9955156950672646,
          0.9955156950672646,
          0.9955156950672646,
          0.9955156950672646,
          0.9955156950672646,
          0.9955156950672646,
          0.9955156950672646,
          0.9955156950672646,
          0.9955156950672646,
          0.9955156950672646,
          0.9977578475336323,
          0.9977578475336323,
          0.9977578475336323,
          0.9977578475336323,
          0.9977578475336323,
          0.9977578475336323,
          0.9977578475336323,
          0.9977578475336323,
          0.9977578475336323,
          0.9977578475336323,
          0.9977578475336323,
          0.9977578475336323,
          0.9977578475336323,
          0.9977578475336323,
          0.9977578475336323,
          0.9977578475336323,
          1,
          1,
          1,
          1,
          1,
          1
         ]
        },
        {
         "line": {
          "dash": "dash"
         },
         "showlegend": false,
         "type": "scatter",
         "x": [
          0,
          1
         ],
         "y": [
          0,
          1
         ]
        }
       ],
       "layout": {
        "template": {
         "data": {
          "bar": [
           {
            "error_x": {
             "color": "#2a3f5f"
            },
            "error_y": {
             "color": "#2a3f5f"
            },
            "marker": {
             "line": {
              "color": "#E5ECF6",
              "width": 0.5
             }
            },
            "type": "bar"
           }
          ],
          "barpolar": [
           {
            "marker": {
             "line": {
              "color": "#E5ECF6",
              "width": 0.5
             }
            },
            "type": "barpolar"
           }
          ],
          "carpet": [
           {
            "aaxis": {
             "endlinecolor": "#2a3f5f",
             "gridcolor": "white",
             "linecolor": "white",
             "minorgridcolor": "white",
             "startlinecolor": "#2a3f5f"
            },
            "baxis": {
             "endlinecolor": "#2a3f5f",
             "gridcolor": "white",
             "linecolor": "white",
             "minorgridcolor": "white",
             "startlinecolor": "#2a3f5f"
            },
            "type": "carpet"
           }
          ],
          "choropleth": [
           {
            "colorbar": {
             "outlinewidth": 0,
             "ticks": ""
            },
            "type": "choropleth"
           }
          ],
          "contour": [
           {
            "colorbar": {
             "outlinewidth": 0,
             "ticks": ""
            },
            "colorscale": [
             [
              0,
              "#0d0887"
             ],
             [
              0.1111111111111111,
              "#46039f"
             ],
             [
              0.2222222222222222,
              "#7201a8"
             ],
             [
              0.3333333333333333,
              "#9c179e"
             ],
             [
              0.4444444444444444,
              "#bd3786"
             ],
             [
              0.5555555555555556,
              "#d8576b"
             ],
             [
              0.6666666666666666,
              "#ed7953"
             ],
             [
              0.7777777777777778,
              "#fb9f3a"
             ],
             [
              0.8888888888888888,
              "#fdca26"
             ],
             [
              1,
              "#f0f921"
             ]
            ],
            "type": "contour"
           }
          ],
          "contourcarpet": [
           {
            "colorbar": {
             "outlinewidth": 0,
             "ticks": ""
            },
            "type": "contourcarpet"
           }
          ],
          "heatmap": [
           {
            "colorbar": {
             "outlinewidth": 0,
             "ticks": ""
            },
            "colorscale": [
             [
              0,
              "#0d0887"
             ],
             [
              0.1111111111111111,
              "#46039f"
             ],
             [
              0.2222222222222222,
              "#7201a8"
             ],
             [
              0.3333333333333333,
              "#9c179e"
             ],
             [
              0.4444444444444444,
              "#bd3786"
             ],
             [
              0.5555555555555556,
              "#d8576b"
             ],
             [
              0.6666666666666666,
              "#ed7953"
             ],
             [
              0.7777777777777778,
              "#fb9f3a"
             ],
             [
              0.8888888888888888,
              "#fdca26"
             ],
             [
              1,
              "#f0f921"
             ]
            ],
            "type": "heatmap"
           }
          ],
          "heatmapgl": [
           {
            "colorbar": {
             "outlinewidth": 0,
             "ticks": ""
            },
            "colorscale": [
             [
              0,
              "#0d0887"
             ],
             [
              0.1111111111111111,
              "#46039f"
             ],
             [
              0.2222222222222222,
              "#7201a8"
             ],
             [
              0.3333333333333333,
              "#9c179e"
             ],
             [
              0.4444444444444444,
              "#bd3786"
             ],
             [
              0.5555555555555556,
              "#d8576b"
             ],
             [
              0.6666666666666666,
              "#ed7953"
             ],
             [
              0.7777777777777778,
              "#fb9f3a"
             ],
             [
              0.8888888888888888,
              "#fdca26"
             ],
             [
              1,
              "#f0f921"
             ]
            ],
            "type": "heatmapgl"
           }
          ],
          "histogram": [
           {
            "marker": {
             "colorbar": {
              "outlinewidth": 0,
              "ticks": ""
             }
            },
            "type": "histogram"
           }
          ],
          "histogram2d": [
           {
            "colorbar": {
             "outlinewidth": 0,
             "ticks": ""
            },
            "colorscale": [
             [
              0,
              "#0d0887"
             ],
             [
              0.1111111111111111,
              "#46039f"
             ],
             [
              0.2222222222222222,
              "#7201a8"
             ],
             [
              0.3333333333333333,
              "#9c179e"
             ],
             [
              0.4444444444444444,
              "#bd3786"
             ],
             [
              0.5555555555555556,
              "#d8576b"
             ],
             [
              0.6666666666666666,
              "#ed7953"
             ],
             [
              0.7777777777777778,
              "#fb9f3a"
             ],
             [
              0.8888888888888888,
              "#fdca26"
             ],
             [
              1,
              "#f0f921"
             ]
            ],
            "type": "histogram2d"
           }
          ],
          "histogram2dcontour": [
           {
            "colorbar": {
             "outlinewidth": 0,
             "ticks": ""
            },
            "colorscale": [
             [
              0,
              "#0d0887"
             ],
             [
              0.1111111111111111,
              "#46039f"
             ],
             [
              0.2222222222222222,
              "#7201a8"
             ],
             [
              0.3333333333333333,
              "#9c179e"
             ],
             [
              0.4444444444444444,
              "#bd3786"
             ],
             [
              0.5555555555555556,
              "#d8576b"
             ],
             [
              0.6666666666666666,
              "#ed7953"
             ],
             [
              0.7777777777777778,
              "#fb9f3a"
             ],
             [
              0.8888888888888888,
              "#fdca26"
             ],
             [
              1,
              "#f0f921"
             ]
            ],
            "type": "histogram2dcontour"
           }
          ],
          "mesh3d": [
           {
            "colorbar": {
             "outlinewidth": 0,
             "ticks": ""
            },
            "type": "mesh3d"
           }
          ],
          "parcoords": [
           {
            "line": {
             "colorbar": {
              "outlinewidth": 0,
              "ticks": ""
             }
            },
            "type": "parcoords"
           }
          ],
          "scatter": [
           {
            "marker": {
             "colorbar": {
              "outlinewidth": 0,
              "ticks": ""
             }
            },
            "type": "scatter"
           }
          ],
          "scatter3d": [
           {
            "line": {
             "colorbar": {
              "outlinewidth": 0,
              "ticks": ""
             }
            },
            "marker": {
             "colorbar": {
              "outlinewidth": 0,
              "ticks": ""
             }
            },
            "type": "scatter3d"
           }
          ],
          "scattercarpet": [
           {
            "marker": {
             "colorbar": {
              "outlinewidth": 0,
              "ticks": ""
             }
            },
            "type": "scattercarpet"
           }
          ],
          "scattergeo": [
           {
            "marker": {
             "colorbar": {
              "outlinewidth": 0,
              "ticks": ""
             }
            },
            "type": "scattergeo"
           }
          ],
          "scattergl": [
           {
            "marker": {
             "colorbar": {
              "outlinewidth": 0,
              "ticks": ""
             }
            },
            "type": "scattergl"
           }
          ],
          "scattermapbox": [
           {
            "marker": {
             "colorbar": {
              "outlinewidth": 0,
              "ticks": ""
             }
            },
            "type": "scattermapbox"
           }
          ],
          "scatterpolar": [
           {
            "marker": {
             "colorbar": {
              "outlinewidth": 0,
              "ticks": ""
             }
            },
            "type": "scatterpolar"
           }
          ],
          "scatterpolargl": [
           {
            "marker": {
             "colorbar": {
              "outlinewidth": 0,
              "ticks": ""
             }
            },
            "type": "scatterpolargl"
           }
          ],
          "scatterternary": [
           {
            "marker": {
             "colorbar": {
              "outlinewidth": 0,
              "ticks": ""
             }
            },
            "type": "scatterternary"
           }
          ],
          "surface": [
           {
            "colorbar": {
             "outlinewidth": 0,
             "ticks": ""
            },
            "colorscale": [
             [
              0,
              "#0d0887"
             ],
             [
              0.1111111111111111,
              "#46039f"
             ],
             [
              0.2222222222222222,
              "#7201a8"
             ],
             [
              0.3333333333333333,
              "#9c179e"
             ],
             [
              0.4444444444444444,
              "#bd3786"
             ],
             [
              0.5555555555555556,
              "#d8576b"
             ],
             [
              0.6666666666666666,
              "#ed7953"
             ],
             [
              0.7777777777777778,
              "#fb9f3a"
             ],
             [
              0.8888888888888888,
              "#fdca26"
             ],
             [
              1,
              "#f0f921"
             ]
            ],
            "type": "surface"
           }
          ],
          "table": [
           {
            "cells": {
             "fill": {
              "color": "#EBF0F8"
             },
             "line": {
              "color": "white"
             }
            },
            "header": {
             "fill": {
              "color": "#C8D4E3"
             },
             "line": {
              "color": "white"
             }
            },
            "type": "table"
           }
          ]
         },
         "layout": {
          "annotationdefaults": {
           "arrowcolor": "#2a3f5f",
           "arrowhead": 0,
           "arrowwidth": 1
          },
          "colorscale": {
           "diverging": [
            [
             0,
             "#8e0152"
            ],
            [
             0.1,
             "#c51b7d"
            ],
            [
             0.2,
             "#de77ae"
            ],
            [
             0.3,
             "#f1b6da"
            ],
            [
             0.4,
             "#fde0ef"
            ],
            [
             0.5,
             "#f7f7f7"
            ],
            [
             0.6,
             "#e6f5d0"
            ],
            [
             0.7,
             "#b8e186"
            ],
            [
             0.8,
             "#7fbc41"
            ],
            [
             0.9,
             "#4d9221"
            ],
            [
             1,
             "#276419"
            ]
           ],
           "sequential": [
            [
             0,
             "#0d0887"
            ],
            [
             0.1111111111111111,
             "#46039f"
            ],
            [
             0.2222222222222222,
             "#7201a8"
            ],
            [
             0.3333333333333333,
             "#9c179e"
            ],
            [
             0.4444444444444444,
             "#bd3786"
            ],
            [
             0.5555555555555556,
             "#d8576b"
            ],
            [
             0.6666666666666666,
             "#ed7953"
            ],
            [
             0.7777777777777778,
             "#fb9f3a"
            ],
            [
             0.8888888888888888,
             "#fdca26"
            ],
            [
             1,
             "#f0f921"
            ]
           ],
           "sequentialminus": [
            [
             0,
             "#0d0887"
            ],
            [
             0.1111111111111111,
             "#46039f"
            ],
            [
             0.2222222222222222,
             "#7201a8"
            ],
            [
             0.3333333333333333,
             "#9c179e"
            ],
            [
             0.4444444444444444,
             "#bd3786"
            ],
            [
             0.5555555555555556,
             "#d8576b"
            ],
            [
             0.6666666666666666,
             "#ed7953"
            ],
            [
             0.7777777777777778,
             "#fb9f3a"
            ],
            [
             0.8888888888888888,
             "#fdca26"
            ],
            [
             1,
             "#f0f921"
            ]
           ]
          },
          "colorway": [
           "#636efa",
           "#EF553B",
           "#00cc96",
           "#ab63fa",
           "#FFA15A",
           "#19d3f3",
           "#FF6692",
           "#B6E880",
           "#FF97FF",
           "#FECB52"
          ],
          "font": {
           "color": "#2a3f5f"
          },
          "geo": {
           "bgcolor": "white",
           "lakecolor": "white",
           "landcolor": "#E5ECF6",
           "showlakes": true,
           "showland": true,
           "subunitcolor": "white"
          },
          "hoverlabel": {
           "align": "left"
          },
          "hovermode": "closest",
          "mapbox": {
           "style": "light"
          },
          "paper_bgcolor": "white",
          "plot_bgcolor": "#E5ECF6",
          "polar": {
           "angularaxis": {
            "gridcolor": "white",
            "linecolor": "white",
            "ticks": ""
           },
           "bgcolor": "#E5ECF6",
           "radialaxis": {
            "gridcolor": "white",
            "linecolor": "white",
            "ticks": ""
           }
          },
          "scene": {
           "xaxis": {
            "backgroundcolor": "#E5ECF6",
            "gridcolor": "white",
            "gridwidth": 2,
            "linecolor": "white",
            "showbackground": true,
            "ticks": "",
            "zerolinecolor": "white"
           },
           "yaxis": {
            "backgroundcolor": "#E5ECF6",
            "gridcolor": "white",
            "gridwidth": 2,
            "linecolor": "white",
            "showbackground": true,
            "ticks": "",
            "zerolinecolor": "white"
           },
           "zaxis": {
            "backgroundcolor": "#E5ECF6",
            "gridcolor": "white",
            "gridwidth": 2,
            "linecolor": "white",
            "showbackground": true,
            "ticks": "",
            "zerolinecolor": "white"
           }
          },
          "shapedefaults": {
           "line": {
            "color": "#2a3f5f"
           }
          },
          "ternary": {
           "aaxis": {
            "gridcolor": "white",
            "linecolor": "white",
            "ticks": ""
           },
           "baxis": {
            "gridcolor": "white",
            "linecolor": "white",
            "ticks": ""
           },
           "bgcolor": "#E5ECF6",
           "caxis": {
            "gridcolor": "white",
            "linecolor": "white",
            "ticks": ""
           }
          },
          "title": {
           "x": 0.05
          },
          "xaxis": {
           "automargin": true,
           "gridcolor": "white",
           "linecolor": "white",
           "ticks": "",
           "zerolinecolor": "white",
           "zerolinewidth": 2
          },
          "yaxis": {
           "automargin": true,
           "gridcolor": "white",
           "linecolor": "white",
           "ticks": "",
           "zerolinecolor": "white",
           "zerolinewidth": 2
          }
         }
        },
        "title": {
         "text": "ROC Curve"
        },
        "xaxis": {
         "title": {
          "text": "False positive rate"
         }
        },
        "yaxis": {
         "title": {
          "text": "True positive rate"
         }
        }
       }
      },
      "text/html": [
       "<div>\n",
       "        \n",
       "        \n",
       "            <div id=\"200c3d04-490e-47f6-8d87-dd031b221c52\" class=\"plotly-graph-div\" style=\"height:525px; width:100%;\"></div>\n",
       "            <script type=\"text/javascript\">\n",
       "                require([\"plotly\"], function(Plotly) {\n",
       "                    window.PLOTLYENV=window.PLOTLYENV || {};\n",
       "                    \n",
       "                if (document.getElementById(\"200c3d04-490e-47f6-8d87-dd031b221c52\")) {\n",
       "                    Plotly.newPlot(\n",
       "                        '200c3d04-490e-47f6-8d87-dd031b221c52',\n",
       "                        [{\"name\": \"AUC: 0.93\", \"type\": \"scatter\", \"x\": [0.0, 0.0, 0.0, 0.0001563721657544957, 0.0001563721657544957, 0.0003127443315089914, 0.0003127443315089914, 0.0004691164972634871, 0.0004691164972634871, 0.0007818608287724785, 0.0007818608287724785, 0.0009382329945269742, 0.0009382329945269742, 0.00109460516028147, 0.00109460516028147, 0.0012509773260359655, 0.0012509773260359655, 0.0012509773260359655, 0.0012509773260359655, 0.0014073494917904612, 0.0014073494917904612, 0.001563721657544957, 0.001563721657544957, 0.0017200938232994527, 0.0017200938232994527, 0.0018764659890539485, 0.0018764659890539485, 0.002032838154808444, 0.002032838154808444, 0.00218921032056294, 0.00218921032056294, 0.0026583268178264267, 0.0026583268178264267, 0.0028146989835809225, 0.0028146989835809225, 0.002971071149335418, 0.002971071149335418, 0.003127443315089914, 0.003127443315089914, 0.003596559812353401, 0.003596559812353401, 0.003752931978107897, 0.003752931978107897, 0.004691164972634871, 0.004691164972634871, 0.005160281469898358, 0.005160281469898358, 0.0053166536356528534, 0.0053166536356528534, 0.00547302580140735, 0.00547302580140735, 0.005629397967161845, 0.005629397967161845, 0.005942142298670836, 0.005942142298670836, 0.006098514464425333, 0.006098514464425333, 0.006411258795934324, 0.006411258795934324, 0.006567630961688819, 0.006567630961688819, 0.006880375293197811, 0.006880375293197811, 0.007036747458952306, 0.007036747458952306, 0.007349491790461298, 0.007349491790461298, 0.007505863956215794, 0.007505863956215794, 0.007662236121970289, 0.007662236121970289, 0.007818608287724784, 0.007818608287724784, 0.008444096950742767, 0.008444096950742767, 0.00875684128225176, 0.00875684128225176, 0.008913213448006255, 0.008913213448006255, 0.009695074276778733, 0.009695074276778733, 0.009851446442533229, 0.009851446442533229, 0.010320562939796716, 0.010320562939796716, 0.010476935105551212, 0.010476935105551212, 0.010633307271305707, 0.010633307271305707, 0.0109460516028147, 0.0109460516028147, 0.011415168100078187, 0.011415168100078187, 0.011571540265832682, 0.011571540265832682, 0.011884284597341673, 0.011884284597341673, 0.012197028928850665, 0.012197028928850665, 0.01235340109460516, 0.01235340109460516, 0.012509773260359656, 0.012509773260359656, 0.012822517591868648, 0.012822517591868648, 0.012978889757623143, 0.012978889757623143, 0.013604378420641126, 0.013604378420641126, 0.014073494917904612, 0.014073494917904612, 0.01422986708365911, 0.01422986708365911, 0.0145426114151681, 0.0145426114151681, 0.014855355746677092, 0.014855355746677092, 0.015011727912431588, 0.015011727912431588, 0.015480844409695074, 0.015480844409695074, 0.01563721657544957, 0.01563721657544957, 0.01641907740422205, 0.01641907740422205, 0.01673182173573104, 0.01673182173573104, 0.016888193901485535, 0.016888193901485535, 0.01704456606724003, 0.01704456606724003, 0.017200938232994525, 0.017200938232994525, 0.017670054730258015, 0.017670054730258015, 0.0181391712275215, 0.0181391712275215, 0.01892103205629398, 0.01892103205629398, 0.019390148553557467, 0.019390148553557467, 0.019702892885066457, 0.019702892885066457, 0.019859265050820953, 0.019859265050820953, 0.020015637216575448, 0.020015637216575448, 0.020328381548084442, 0.020328381548084442, 0.020484753713838937, 0.020484753713838937, 0.020641125879593433, 0.020641125879593433, 0.021422986708365913, 0.021422986708365913, 0.021735731039874903, 0.021735731039874903, 0.023143080531665364, 0.023143080531665364, 0.02392494136043784, 0.02392494136043784, 0.024081313526192336, 0.024081313526192336, 0.024237685691946835, 0.024237685691946835, 0.02439405785770133, 0.02439405785770133, 0.024863174354964816, 0.024863174354964816, 0.025175918686473807, 0.025175918686473807, 0.025488663017982797, 0.025488663017982797, 0.025645035183737296, 0.025645035183737296, 0.026270523846755277, 0.026270523846755277, 0.026426896012509773, 0.026426896012509773, 0.027052384675527757, 0.027052384675527757, 0.027521501172791243, 0.027521501172791243, 0.02767787333854574, 0.02767787333854574, 0.027834245504300234, 0.027834245504300234, 0.029241594996090695, 0.029241594996090695, 0.030961688819390147, 0.030961688819390147, 0.03127443315089914, 0.03127443315089914, 0.03252541047693511, 0.03252541047693511, 0.033620015637216574, 0.033620015637216574, 0.03408913213448006, 0.03408913213448006, 0.03471462079749805, 0.03471462079749805, 0.03502736512900704, 0.03502736512900704, 0.035183737294761534, 0.035183737294761534, 0.03674745895230649, 0.03674745895230649, 0.03721657544956997, 0.03721657544956997, 0.03878029710711493, 0.03878029710711493, 0.03956215793588741, 0.03956215793588741, 0.040031274433150896, 0.040031274433150896, 0.04034401876465989, 0.04034401876465989, 0.042845973416731825, 0.042845973416731825, 0.04472243940578577, 0.04472243940578577, 0.04534792806880375, 0.04534792806880375, 0.04597341673182174, 0.04597341673182174, 0.050351837372947614, 0.050351837372947614, 0.05050820953870211, 0.05050820953870211, 0.050977326035965595, 0.050977326035965595, 0.05269741985926505, 0.05269741985926505, 0.05332290852228303, 0.05332290852228303, 0.054730258014073496, 0.054730258014073496, 0.05535574667709148, 0.05535574667709148, 0.058326817826426895, 0.058326817826426895, 0.05848318999218139, 0.05848318999218139, 0.058639562157935886, 0.058639562157935886, 0.06035965598123534, 0.06035965598123534, 0.06082877247849883, 0.06082877247849883, 0.06098514464425332, 0.06098514464425332, 0.06270523846755277, 0.06270523846755277, 0.06661454261141517, 0.06661454261141517, 0.06692728694292416, 0.06692728694292416, 0.0689601250977326, 0.0689601250977326, 0.06989835809225958, 0.06989835809225958, 0.07083659108678655, 0.07083659108678655, 0.07146207974980454, 0.07146207974980454, 0.07240031274433151, 0.07240031274433151, 0.072556684910086, 0.072556684910086, 0.07412040656763096, 0.07412040656763096, 0.07490226739640345, 0.07490226739640345, 0.07537138389366693, 0.07537138389366693, 0.0763096168881939, 0.0763096168881939, 0.07865519937451133, 0.07865519937451133, 0.07896794370602032, 0.07896794370602032, 0.0797498045347928, 0.0797498045347928, 0.0802189210320563, 0.0802189210320563, 0.08178264268960125, 0.08178264268960125, 0.08647380766223613, 0.08647380766223613, 0.08850664581704457, 0.08850664581704457, 0.08913213448006255, 0.08913213448006255, 0.08960125097732603, 0.08960125097732603, 0.09710711493354184, 0.09710711493354184, 0.09960906958561376, 0.09960906958561376, 0.10007818608287725, 0.10007818608287725, 0.10039093041438624, 0.10039093041438624, 0.10336200156372166, 0.10336200156372166, 0.10414386239249414, 0.10414386239249414, 0.10430023455824863, 0.10430023455824863, 0.10492572322126661, 0.10492572322126661, 0.10789679437060204, 0.10789679437060204, 0.1093041438623925, 0.1093041438623925, 0.11149335418295543, 0.11149335418295543, 0.11164972634870993, 0.11164972634870993, 0.1124315871774824, 0.1124315871774824, 0.11305707584050038, 0.11305707584050038, 0.11383893666927287, 0.11383893666927287, 0.11446442533229086, 0.11446442533229086, 0.11774824081313526, 0.11774824081313526, 0.11899921813917123, 0.11899921813917123, 0.12509773260359655, 0.12509773260359655, 0.127130570758405, 0.127130570758405, 0.12838154808444097, 0.12838154808444097, 0.12978889757623144, 0.12978889757623144, 0.13119624706802188, 0.13150899139953087, 0.13182173573103986, 0.13182173573103986, 0.13260359655981235, 0.13573103987490226, 0.13698201720093822, 0.13698201720093822, 0.14683346364347147, 0.14683346364347147, 0.14761532447224393, 0.14761532447224393, 0.1482408131352619, 0.1482408131352619, 0.1490226739640344, 0.1490226739640344, 0.15762314308053166, 0.15762314308053166, 0.15856137607505863, 0.15887412040656762, 0.163408913213448, 0.163408913213448, 0.1638780297107115, 0.1638780297107115, 0.16622361219702894, 0.16622361219702894, 0.1745113369820172, 0.1745113369820172, 0.17560594214229866, 0.17638780297107115, 0.17748240813135263, 0.17748240813135263, 0.17967161845191557, 0.17967161845191557, 0.17998436278342456, 0.17998436278342456, 0.18060985144644254, 0.18060985144644254, 0.1815480844409695, 0.1818608287724785, 0.18358092259577796, 0.18358092259577796, 0.18451915559030493, 0.18451915559030493, 0.1860828772478499, 0.1860828772478499, 0.18623924941360437, 0.18655199374511336, 0.19108678655199374, 0.19108678655199374, 0.19421422986708367, 0.19421422986708367, 0.2001563721657545, 0.2001563721657545, 0.20078186082877247, 0.20078186082877247, 0.2035965598123534, 0.2035965598123534, 0.20797498045347929, 0.20797498045347929, 0.21204065676309616, 0.21204065676309616, 0.21704456606724004, 0.21704456606724004, 0.21720093823299452, 0.2175136825645035, 0.21907740422204847, 0.21907740422204847, 0.21985926505082096, 0.22032838154808443, 0.22236121970289288, 0.22236121970289288, 0.22267396403440187, 0.22267396403440187, 0.22298670836591086, 0.22298670836591086, 0.23033620015637216, 0.23096168881939014, 0.23127443315089913, 0.23127443315089913, 0.2323690383111806, 0.2323690383111806, 0.24065676309616887, 0.24065676309616887, 0.24659890539483972, 0.24659890539483972, 0.2500390930414386, 0.2500390930414386, 0.25926505082095386, 0.25926505082095386, 0.26442533229085224, 0.26442533229085224, 0.2692728694292416, 0.2692728694292416, 0.2714620797498045, 0.2714620797498045, 0.2730258014073495, 0.2730258014073495, 0.2841282251759187, 0.2841282251759187, 0.2855355746677091, 0.28584831899921814, 0.2938232994526974, 0.2938232994526974, 0.3080531665363565, 0.30852228303362, 0.31039874902267395, 0.31039874902267395, 0.31071149335418297, 0.31086786551993745, 0.3275996872556685, 0.3275996872556685, 0.3302580140734949, 0.3305707584050039, 0.34464425332290854, 0.34464425332290854, 0.34620797498045347, 0.34620797498045347, 0.363408913213448, 0.363408913213448, 0.3663799843627834, 0.3663799843627834, 0.3677873338545739, 0.3677873338545739, 0.36919468334636435, 0.3695074276778733, 0.3762314308053167, 0.37654417513682564, 0.3939014855355747, 0.39437060203283814, 0.4001563721657545, 0.4001563721657545, 0.40578577013291633, 0.40578577013291633, 0.41204065676309615, 0.41204065676309615, 0.4121970289288507, 0.4121970289288507, 0.4137607505863956, 0.4137607505863956, 0.4139171227521501, 0.4142298670836591, 0.4336200156372166, 0.4336200156372166, 0.4503518373729476, 0.4506645817044566, 0.47396403440187646, 0.47396403440187646, 0.47458952306489444, 0.47490226739640345, 0.4764659890539484, 0.4764659890539484, 0.4856919468334636, 0.4856919468334636, 0.48803752931978106, 0.48803752931978106, 0.4897576231430805, 0.4897576231430805, 0.4980453479280688, 0.4980453479280688, 0.49960906958561374, 0.49992181391712276, 0.5154026583268179, 0.5154026583268179, 0.5202501954652072, 0.5207193119624707, 0.5252541047693511, 0.5252541047693511, 0.5357310398749022, 0.5357310398749022, 0.5390148553557467, 0.5396403440187647, 0.5396403440187647, 0.5551211884284597, 0.5551211884284597, 0.5645035183737295, 0.5649726348709929, 0.5721657544956997, 0.5721657544956997, 0.5918686473807663, 0.5921813917122752, 0.6275215011727913, 0.6275215011727913, 0.6358092259577796, 0.636903831118061, 0.6508209538702111, 0.6508209538702111, 0.6636434714620798, 0.6642689601250977, 0.6780297107114933, 0.6780297107114933, 0.6933541829554339, 0.6936669272869429, 0.7200938232994527, 0.7204065676309617, 0.7240031274433151, 0.7244722439405786, 0.727756059421423, 0.7282251759186865, 0.7319781078967944, 0.7322908522283034, 0.765285379202502, 0.7665363565285379, 0.7732603596559813, 0.7735731039874902, 0.780766223612197, 0.7812353401094605, 0.7942142298670837, 0.7942142298670837, 0.8042220484753714, 0.8046911649726348, 0.8129788897576231, 0.8132916340891322, 0.8331508991399531, 0.8334636434714621, 0.834714620797498, 0.8353401094605161, 0.8444096950742768, 0.8447224394057857, 0.8448788115715402, 0.8451915559030493, 0.8506645817044566, 0.8509773260359657, 0.9013291634089132, 0.9013291634089132, 0.9186864738076622, 0.9189992181391712, 0.9596559812353401, 0.9599687255668491, 1.0], \"y\": [0.0, 0.002242152466367713, 0.06502242152466367, 0.06502242152466367, 0.12780269058295965, 0.12780269058295965, 0.14349775784753363, 0.14349775784753363, 0.14798206278026907, 0.14798206278026907, 0.1547085201793722, 0.1547085201793722, 0.1591928251121076, 0.1591928251121076, 0.17488789237668162, 0.17488789237668162, 0.17713004484304934, 0.18161434977578475, 0.19506726457399104, 0.19506726457399104, 0.21973094170403587, 0.21973094170403587, 0.2242152466367713, 0.2242152466367713, 0.226457399103139, 0.226457399103139, 0.242152466367713, 0.242152466367713, 0.2645739910313901, 0.2645739910313901, 0.26681614349775784, 0.26681614349775784, 0.273542600896861, 0.273542600896861, 0.28699551569506726, 0.28699551569506726, 0.3071748878923767, 0.3071748878923767, 0.3094170403587444, 0.3094170403587444, 0.33408071748878926, 0.33408071748878926, 0.3542600896860987, 0.3542600896860987, 0.35874439461883406, 0.35874439461883406, 0.3632286995515695, 0.3632286995515695, 0.3654708520179372, 0.3654708520179372, 0.36995515695067266, 0.36995515695067266, 0.3744394618834081, 0.3744394618834081, 0.3789237668161435, 0.3789237668161435, 0.3811659192825112, 0.3811659192825112, 0.3901345291479821, 0.3901345291479821, 0.39461883408071746, 0.39461883408071746, 0.3968609865470852, 0.3968609865470852, 0.4013452914798206, 0.4013452914798206, 0.4103139013452915, 0.4103139013452915, 0.4125560538116592, 0.4125560538116592, 0.4147982062780269, 0.4147982062780269, 0.42152466367713004, 0.42152466367713004, 0.4260089686098655, 0.4260089686098655, 0.4327354260089686, 0.4327354260089686, 0.4349775784753363, 0.4349775784753363, 0.43946188340807174, 0.43946188340807174, 0.44170403587443946, 0.44170403587443946, 0.4439461883408072, 0.4439461883408072, 0.45067264573991034, 0.45067264573991034, 0.45739910313901344, 0.45739910313901344, 0.4618834080717489, 0.4618834080717489, 0.4641255605381166, 0.4641255605381166, 0.47085201793721976, 0.47085201793721976, 0.47757847533632286, 0.47757847533632286, 0.48654708520179374, 0.48654708520179374, 0.4910313901345291, 0.4910313901345291, 0.49551569506726456, 0.49551569506726456, 0.4977578475336323, 0.4977578475336323, 0.5, 0.5, 0.5022421524663677, 0.5022421524663677, 0.5044843049327354, 0.5044843049327354, 0.5112107623318386, 0.5112107623318386, 0.5134529147982063, 0.5134529147982063, 0.5179372197309418, 0.5179372197309418, 0.5224215246636771, 0.5224215246636771, 0.5269058295964125, 0.5269058295964125, 0.5291479820627802, 0.5291479820627802, 0.5336322869955157, 0.5336322869955157, 0.5403587443946188, 0.5403587443946188, 0.5493273542600897, 0.5493273542600897, 0.5515695067264574, 0.5515695067264574, 0.5538116591928252, 0.5538116591928252, 0.5582959641255605, 0.5582959641255605, 0.5605381165919282, 0.5605381165919282, 0.5650224215246636, 0.5650224215246636, 0.5672645739910314, 0.5672645739910314, 0.5695067264573991, 0.5695067264573991, 0.5717488789237668, 0.5717488789237668, 0.5739910313901345, 0.5739910313901345, 0.5807174887892377, 0.5807174887892377, 0.5852017937219731, 0.5852017937219731, 0.5874439461883408, 0.5874439461883408, 0.5896860986547086, 0.5896860986547086, 0.5964125560538116, 0.5964125560538116, 0.5986547085201793, 0.5986547085201793, 0.600896860986547, 0.600896860986547, 0.6031390134529148, 0.6031390134529148, 0.6053811659192825, 0.6053811659192825, 0.6076233183856502, 0.6076233183856502, 0.6098654708520179, 0.6098654708520179, 0.6143497757847534, 0.6143497757847534, 0.6188340807174888, 0.6188340807174888, 0.6233183856502242, 0.6233183856502242, 0.6278026905829597, 0.6278026905829597, 0.6300448430493274, 0.6300448430493274, 0.6322869955156951, 0.6322869955156951, 0.6345291479820628, 0.6345291479820628, 0.6434977578475336, 0.6434977578475336, 0.6457399103139013, 0.6457399103139013, 0.647982062780269, 0.647982062780269, 0.6502242152466368, 0.6502242152466368, 0.6524663677130045, 0.6524663677130045, 0.6547085201793722, 0.6547085201793722, 0.6569506726457399, 0.6569506726457399, 0.6591928251121076, 0.6591928251121076, 0.6614349775784754, 0.6614349775784754, 0.6636771300448431, 0.6636771300448431, 0.6659192825112108, 0.6659192825112108, 0.672645739910314, 0.672645739910314, 0.6748878923766816, 0.6748878923766816, 0.679372197309417, 0.679372197309417, 0.6816143497757847, 0.6816143497757847, 0.6838565022421524, 0.6838565022421524, 0.6883408071748879, 0.6883408071748879, 0.6928251121076233, 0.6928251121076233, 0.695067264573991, 0.695067264573991, 0.6973094170403588, 0.6973094170403588, 0.6995515695067265, 0.6995515695067265, 0.7017937219730942, 0.7017937219730942, 0.7040358744394619, 0.7040358744394619, 0.7062780269058296, 0.7062780269058296, 0.7085201793721974, 0.7085201793721974, 0.7130044843049327, 0.7130044843049327, 0.7152466367713004, 0.7152466367713004, 0.7174887892376681, 0.7174887892376681, 0.7197309417040358, 0.7197309417040358, 0.7219730941704036, 0.7219730941704036, 0.7242152466367713, 0.7242152466367713, 0.726457399103139, 0.726457399103139, 0.7286995515695067, 0.7286995515695067, 0.7309417040358744, 0.7309417040358744, 0.7331838565022422, 0.7331838565022422, 0.7354260089686099, 0.7354260089686099, 0.7376681614349776, 0.7376681614349776, 0.7399103139013453, 0.7399103139013453, 0.742152466367713, 0.742152466367713, 0.7443946188340808, 0.7443946188340808, 0.7488789237668162, 0.7488789237668162, 0.7511210762331838, 0.7511210762331838, 0.7533632286995515, 0.7533632286995515, 0.7556053811659192, 0.7556053811659192, 0.757847533632287, 0.757847533632287, 0.7600896860986547, 0.7600896860986547, 0.7623318385650224, 0.7623318385650224, 0.7645739910313901, 0.7645739910313901, 0.7668161434977578, 0.7668161434977578, 0.7690582959641256, 0.7690582959641256, 0.7713004484304933, 0.7713004484304933, 0.7757847533632287, 0.7757847533632287, 0.7780269058295964, 0.7780269058295964, 0.7802690582959642, 0.7802690582959642, 0.7825112107623319, 0.7825112107623319, 0.7847533632286996, 0.7847533632286996, 0.7869955156950673, 0.7869955156950673, 0.7914798206278026, 0.7914798206278026, 0.7937219730941704, 0.7937219730941704, 0.7959641255605381, 0.7959641255605381, 0.7982062780269058, 0.7982062780269058, 0.8004484304932735, 0.8004484304932735, 0.8026905829596412, 0.8026905829596412, 0.804932735426009, 0.804932735426009, 0.8071748878923767, 0.8071748878923767, 0.8094170403587444, 0.8094170403587444, 0.8116591928251121, 0.8116591928251121, 0.8139013452914798, 0.8139013452914798, 0.8161434977578476, 0.8161434977578476, 0.8183856502242153, 0.8183856502242153, 0.820627802690583, 0.820627802690583, 0.8228699551569507, 0.8228699551569507, 0.8251121076233184, 0.8251121076233184, 0.827354260089686, 0.827354260089686, 0.8295964125560538, 0.8295964125560538, 0.8318385650224215, 0.8318385650224215, 0.8340807174887892, 0.8340807174887892, 0.8363228699551569, 0.8363228699551569, 0.8363228699551569, 0.8363228699551569, 0.8385650224215246, 0.8385650224215246, 0.8385650224215246, 0.8385650224215246, 0.8408071748878924, 0.8408071748878924, 0.8430493273542601, 0.8430493273542601, 0.8452914798206278, 0.8452914798206278, 0.8475336322869955, 0.8475336322869955, 0.8497757847533632, 0.8497757847533632, 0.852017937219731, 0.852017937219731, 0.852017937219731, 0.852017937219731, 0.8542600896860987, 0.8542600896860987, 0.8565022421524664, 0.8565022421524664, 0.8587443946188341, 0.8587443946188341, 0.8609865470852018, 0.8609865470852018, 0.8609865470852018, 0.8609865470852018, 0.8632286995515696, 0.8632286995515696, 0.8654708520179372, 0.8654708520179372, 0.8677130044843049, 0.8677130044843049, 0.8699551569506726, 0.8699551569506726, 0.8699551569506726, 0.8699551569506726, 0.8721973094170403, 0.8721973094170403, 0.874439461883408, 0.874439461883408, 0.8766816143497758, 0.8766816143497758, 0.8766816143497758, 0.8766816143497758, 0.8789237668161435, 0.8789237668161435, 0.8811659192825112, 0.8811659192825112, 0.8834080717488789, 0.8834080717488789, 0.8856502242152466, 0.8856502242152466, 0.8878923766816144, 0.8878923766816144, 0.8901345291479821, 0.8901345291479821, 0.8923766816143498, 0.8923766816143498, 0.8946188340807175, 0.8946188340807175, 0.8946188340807175, 0.8946188340807175, 0.8968609865470852, 0.8968609865470852, 0.8968609865470852, 0.8968609865470852, 0.899103139013453, 0.899103139013453, 0.9013452914798207, 0.9013452914798207, 0.9035874439461884, 0.9035874439461884, 0.9035874439461884, 0.9035874439461884, 0.905829596412556, 0.905829596412556, 0.9080717488789237, 0.9080717488789237, 0.9103139013452914, 0.9103139013452914, 0.9125560538116592, 0.9125560538116592, 0.9147982062780269, 0.9147982062780269, 0.9170403587443946, 0.9170403587443946, 0.9192825112107623, 0.9192825112107623, 0.92152466367713, 0.92152466367713, 0.9237668161434978, 0.9237668161434978, 0.9260089686098655, 0.9260089686098655, 0.9282511210762332, 0.9282511210762332, 0.9282511210762332, 0.9282511210762332, 0.9304932735426009, 0.9304932735426009, 0.9304932735426009, 0.9304932735426009, 0.9327354260089686, 0.9327354260089686, 0.9349775784753364, 0.9349775784753364, 0.9372197309417041, 0.9372197309417041, 0.9372197309417041, 0.9372197309417041, 0.9394618834080718, 0.9394618834080718, 0.9417040358744395, 0.9417040358744395, 0.9439461883408071, 0.9439461883408071, 0.9461883408071748, 0.9461883408071748, 0.9484304932735426, 0.9484304932735426, 0.9484304932735426, 0.9484304932735426, 0.9484304932735426, 0.9484304932735426, 0.9484304932735426, 0.9484304932735426, 0.9506726457399103, 0.9506726457399103, 0.952914798206278, 0.952914798206278, 0.9551569506726457, 0.9551569506726457, 0.9573991031390134, 0.9573991031390134, 0.9596412556053812, 0.9596412556053812, 0.9596412556053812, 0.9596412556053812, 0.9618834080717489, 0.9618834080717489, 0.9618834080717489, 0.9618834080717489, 0.9641255605381166, 0.9641255605381166, 0.9641255605381166, 0.9641255605381166, 0.9663677130044843, 0.9663677130044843, 0.968609865470852, 0.968609865470852, 0.9708520179372198, 0.9708520179372198, 0.9730941704035875, 0.9730941704035875, 0.9753363228699552, 0.9753363228699552, 0.9753363228699552, 0.9753363228699552, 0.9775784753363229, 0.9775784753363229, 0.9775784753363229, 0.9775784753363229, 0.9798206278026906, 0.9798206278026906, 0.9820627802690582, 0.9820627802690582, 0.9820627802690582, 0.984304932735426, 0.984304932735426, 0.9865470852017937, 0.9865470852017937, 0.9865470852017937, 0.9865470852017937, 0.9887892376681614, 0.9887892376681614, 0.9887892376681614, 0.9887892376681614, 0.9910313901345291, 0.9910313901345291, 0.9910313901345291, 0.9910313901345291, 0.9932735426008968, 0.9932735426008968, 0.9932735426008968, 0.9932735426008968, 0.9955156950672646, 0.9955156950672646, 0.9955156950672646, 0.9955156950672646, 0.9955156950672646, 0.9955156950672646, 0.9955156950672646, 0.9955156950672646, 0.9955156950672646, 0.9955156950672646, 0.9955156950672646, 0.9955156950672646, 0.9955156950672646, 0.9955156950672646, 0.9955156950672646, 0.9955156950672646, 0.9955156950672646, 0.9955156950672646, 0.9977578475336323, 0.9977578475336323, 0.9977578475336323, 0.9977578475336323, 0.9977578475336323, 0.9977578475336323, 0.9977578475336323, 0.9977578475336323, 0.9977578475336323, 0.9977578475336323, 0.9977578475336323, 0.9977578475336323, 0.9977578475336323, 0.9977578475336323, 0.9977578475336323, 0.9977578475336323, 1.0, 1.0, 1.0, 1.0, 1.0, 1.0]}, {\"line\": {\"dash\": \"dash\"}, \"showlegend\": false, \"type\": \"scatter\", \"x\": [0, 1], \"y\": [0, 1]}],\n",
       "                        {\"template\": {\"data\": {\"bar\": [{\"error_x\": {\"color\": \"#2a3f5f\"}, \"error_y\": {\"color\": \"#2a3f5f\"}, \"marker\": {\"line\": {\"color\": \"#E5ECF6\", \"width\": 0.5}}, \"type\": \"bar\"}], \"barpolar\": [{\"marker\": {\"line\": {\"color\": \"#E5ECF6\", \"width\": 0.5}}, \"type\": \"barpolar\"}], \"carpet\": [{\"aaxis\": {\"endlinecolor\": \"#2a3f5f\", \"gridcolor\": \"white\", \"linecolor\": \"white\", \"minorgridcolor\": \"white\", \"startlinecolor\": \"#2a3f5f\"}, \"baxis\": {\"endlinecolor\": \"#2a3f5f\", \"gridcolor\": \"white\", \"linecolor\": \"white\", \"minorgridcolor\": \"white\", \"startlinecolor\": \"#2a3f5f\"}, \"type\": \"carpet\"}], \"choropleth\": [{\"colorbar\": {\"outlinewidth\": 0, \"ticks\": \"\"}, \"type\": \"choropleth\"}], \"contour\": [{\"colorbar\": {\"outlinewidth\": 0, \"ticks\": \"\"}, \"colorscale\": [[0.0, \"#0d0887\"], [0.1111111111111111, \"#46039f\"], [0.2222222222222222, \"#7201a8\"], [0.3333333333333333, \"#9c179e\"], [0.4444444444444444, \"#bd3786\"], [0.5555555555555556, \"#d8576b\"], [0.6666666666666666, \"#ed7953\"], [0.7777777777777778, \"#fb9f3a\"], [0.8888888888888888, \"#fdca26\"], [1.0, \"#f0f921\"]], \"type\": \"contour\"}], \"contourcarpet\": [{\"colorbar\": {\"outlinewidth\": 0, \"ticks\": \"\"}, \"type\": \"contourcarpet\"}], \"heatmap\": [{\"colorbar\": {\"outlinewidth\": 0, \"ticks\": \"\"}, \"colorscale\": [[0.0, \"#0d0887\"], [0.1111111111111111, \"#46039f\"], [0.2222222222222222, \"#7201a8\"], [0.3333333333333333, \"#9c179e\"], [0.4444444444444444, \"#bd3786\"], [0.5555555555555556, \"#d8576b\"], [0.6666666666666666, \"#ed7953\"], [0.7777777777777778, \"#fb9f3a\"], [0.8888888888888888, \"#fdca26\"], [1.0, \"#f0f921\"]], \"type\": \"heatmap\"}], \"heatmapgl\": [{\"colorbar\": {\"outlinewidth\": 0, \"ticks\": \"\"}, \"colorscale\": [[0.0, \"#0d0887\"], [0.1111111111111111, \"#46039f\"], [0.2222222222222222, \"#7201a8\"], [0.3333333333333333, \"#9c179e\"], [0.4444444444444444, \"#bd3786\"], [0.5555555555555556, \"#d8576b\"], [0.6666666666666666, \"#ed7953\"], [0.7777777777777778, \"#fb9f3a\"], [0.8888888888888888, \"#fdca26\"], [1.0, \"#f0f921\"]], \"type\": \"heatmapgl\"}], \"histogram\": [{\"marker\": {\"colorbar\": {\"outlinewidth\": 0, \"ticks\": \"\"}}, \"type\": \"histogram\"}], \"histogram2d\": [{\"colorbar\": {\"outlinewidth\": 0, \"ticks\": \"\"}, \"colorscale\": [[0.0, \"#0d0887\"], [0.1111111111111111, \"#46039f\"], [0.2222222222222222, \"#7201a8\"], [0.3333333333333333, \"#9c179e\"], [0.4444444444444444, \"#bd3786\"], [0.5555555555555556, \"#d8576b\"], [0.6666666666666666, \"#ed7953\"], [0.7777777777777778, \"#fb9f3a\"], [0.8888888888888888, \"#fdca26\"], [1.0, \"#f0f921\"]], \"type\": \"histogram2d\"}], \"histogram2dcontour\": [{\"colorbar\": {\"outlinewidth\": 0, \"ticks\": \"\"}, \"colorscale\": [[0.0, \"#0d0887\"], [0.1111111111111111, \"#46039f\"], [0.2222222222222222, \"#7201a8\"], [0.3333333333333333, \"#9c179e\"], [0.4444444444444444, \"#bd3786\"], [0.5555555555555556, \"#d8576b\"], [0.6666666666666666, \"#ed7953\"], [0.7777777777777778, \"#fb9f3a\"], [0.8888888888888888, \"#fdca26\"], [1.0, \"#f0f921\"]], \"type\": \"histogram2dcontour\"}], \"mesh3d\": [{\"colorbar\": {\"outlinewidth\": 0, \"ticks\": \"\"}, \"type\": \"mesh3d\"}], \"parcoords\": [{\"line\": {\"colorbar\": {\"outlinewidth\": 0, \"ticks\": \"\"}}, \"type\": \"parcoords\"}], \"scatter\": [{\"marker\": {\"colorbar\": {\"outlinewidth\": 0, \"ticks\": \"\"}}, \"type\": \"scatter\"}], \"scatter3d\": [{\"line\": {\"colorbar\": {\"outlinewidth\": 0, \"ticks\": \"\"}}, \"marker\": {\"colorbar\": {\"outlinewidth\": 0, \"ticks\": \"\"}}, \"type\": \"scatter3d\"}], \"scattercarpet\": [{\"marker\": {\"colorbar\": {\"outlinewidth\": 0, \"ticks\": \"\"}}, \"type\": \"scattercarpet\"}], \"scattergeo\": [{\"marker\": {\"colorbar\": {\"outlinewidth\": 0, \"ticks\": \"\"}}, \"type\": \"scattergeo\"}], \"scattergl\": [{\"marker\": {\"colorbar\": {\"outlinewidth\": 0, \"ticks\": \"\"}}, \"type\": \"scattergl\"}], \"scattermapbox\": [{\"marker\": {\"colorbar\": {\"outlinewidth\": 0, \"ticks\": \"\"}}, \"type\": \"scattermapbox\"}], \"scatterpolar\": [{\"marker\": {\"colorbar\": {\"outlinewidth\": 0, \"ticks\": \"\"}}, \"type\": \"scatterpolar\"}], \"scatterpolargl\": [{\"marker\": {\"colorbar\": {\"outlinewidth\": 0, \"ticks\": \"\"}}, \"type\": \"scatterpolargl\"}], \"scatterternary\": [{\"marker\": {\"colorbar\": {\"outlinewidth\": 0, \"ticks\": \"\"}}, \"type\": \"scatterternary\"}], \"surface\": [{\"colorbar\": {\"outlinewidth\": 0, \"ticks\": \"\"}, \"colorscale\": [[0.0, \"#0d0887\"], [0.1111111111111111, \"#46039f\"], [0.2222222222222222, \"#7201a8\"], [0.3333333333333333, \"#9c179e\"], [0.4444444444444444, \"#bd3786\"], [0.5555555555555556, \"#d8576b\"], [0.6666666666666666, \"#ed7953\"], [0.7777777777777778, \"#fb9f3a\"], [0.8888888888888888, \"#fdca26\"], [1.0, \"#f0f921\"]], \"type\": \"surface\"}], \"table\": [{\"cells\": {\"fill\": {\"color\": \"#EBF0F8\"}, \"line\": {\"color\": \"white\"}}, \"header\": {\"fill\": {\"color\": \"#C8D4E3\"}, \"line\": {\"color\": \"white\"}}, \"type\": \"table\"}]}, \"layout\": {\"annotationdefaults\": {\"arrowcolor\": \"#2a3f5f\", \"arrowhead\": 0, \"arrowwidth\": 1}, \"colorscale\": {\"diverging\": [[0, \"#8e0152\"], [0.1, \"#c51b7d\"], [0.2, \"#de77ae\"], [0.3, \"#f1b6da\"], [0.4, \"#fde0ef\"], [0.5, \"#f7f7f7\"], [0.6, \"#e6f5d0\"], [0.7, \"#b8e186\"], [0.8, \"#7fbc41\"], [0.9, \"#4d9221\"], [1, \"#276419\"]], \"sequential\": [[0.0, \"#0d0887\"], [0.1111111111111111, \"#46039f\"], [0.2222222222222222, \"#7201a8\"], [0.3333333333333333, \"#9c179e\"], [0.4444444444444444, \"#bd3786\"], [0.5555555555555556, \"#d8576b\"], [0.6666666666666666, \"#ed7953\"], [0.7777777777777778, \"#fb9f3a\"], [0.8888888888888888, \"#fdca26\"], [1.0, \"#f0f921\"]], \"sequentialminus\": [[0.0, \"#0d0887\"], [0.1111111111111111, \"#46039f\"], [0.2222222222222222, \"#7201a8\"], [0.3333333333333333, \"#9c179e\"], [0.4444444444444444, \"#bd3786\"], [0.5555555555555556, \"#d8576b\"], [0.6666666666666666, \"#ed7953\"], [0.7777777777777778, \"#fb9f3a\"], [0.8888888888888888, \"#fdca26\"], [1.0, \"#f0f921\"]]}, \"colorway\": [\"#636efa\", \"#EF553B\", \"#00cc96\", \"#ab63fa\", \"#FFA15A\", \"#19d3f3\", \"#FF6692\", \"#B6E880\", \"#FF97FF\", \"#FECB52\"], \"font\": {\"color\": \"#2a3f5f\"}, \"geo\": {\"bgcolor\": \"white\", \"lakecolor\": \"white\", \"landcolor\": \"#E5ECF6\", \"showlakes\": true, \"showland\": true, \"subunitcolor\": \"white\"}, \"hoverlabel\": {\"align\": \"left\"}, \"hovermode\": \"closest\", \"mapbox\": {\"style\": \"light\"}, \"paper_bgcolor\": \"white\", \"plot_bgcolor\": \"#E5ECF6\", \"polar\": {\"angularaxis\": {\"gridcolor\": \"white\", \"linecolor\": \"white\", \"ticks\": \"\"}, \"bgcolor\": \"#E5ECF6\", \"radialaxis\": {\"gridcolor\": \"white\", \"linecolor\": \"white\", \"ticks\": \"\"}}, \"scene\": {\"xaxis\": {\"backgroundcolor\": \"#E5ECF6\", \"gridcolor\": \"white\", \"gridwidth\": 2, \"linecolor\": \"white\", \"showbackground\": true, \"ticks\": \"\", \"zerolinecolor\": \"white\"}, \"yaxis\": {\"backgroundcolor\": \"#E5ECF6\", \"gridcolor\": \"white\", \"gridwidth\": 2, \"linecolor\": \"white\", \"showbackground\": true, \"ticks\": \"\", \"zerolinecolor\": \"white\"}, \"zaxis\": {\"backgroundcolor\": \"#E5ECF6\", \"gridcolor\": \"white\", \"gridwidth\": 2, \"linecolor\": \"white\", \"showbackground\": true, \"ticks\": \"\", \"zerolinecolor\": \"white\"}}, \"shapedefaults\": {\"line\": {\"color\": \"#2a3f5f\"}}, \"ternary\": {\"aaxis\": {\"gridcolor\": \"white\", \"linecolor\": \"white\", \"ticks\": \"\"}, \"baxis\": {\"gridcolor\": \"white\", \"linecolor\": \"white\", \"ticks\": \"\"}, \"bgcolor\": \"#E5ECF6\", \"caxis\": {\"gridcolor\": \"white\", \"linecolor\": \"white\", \"ticks\": \"\"}}, \"title\": {\"x\": 0.05}, \"xaxis\": {\"automargin\": true, \"gridcolor\": \"white\", \"linecolor\": \"white\", \"ticks\": \"\", \"zerolinecolor\": \"white\", \"zerolinewidth\": 2}, \"yaxis\": {\"automargin\": true, \"gridcolor\": \"white\", \"linecolor\": \"white\", \"ticks\": \"\", \"zerolinecolor\": \"white\", \"zerolinewidth\": 2}}}, \"title\": {\"text\": \"ROC Curve\"}, \"xaxis\": {\"title\": {\"text\": \"False positive rate\"}}, \"yaxis\": {\"title\": {\"text\": \"True positive rate\"}}},\n",
       "                        {\"responsive\": true}\n",
       "                    ).then(function(){\n",
       "                            \n",
       "var gd = document.getElementById('200c3d04-490e-47f6-8d87-dd031b221c52');\n",
       "var x = new MutationObserver(function (mutations, observer) {{\n",
       "        var display = window.getComputedStyle(gd).display;\n",
       "        if (!display || display === 'none') {{\n",
       "            console.log([gd, 'removed!']);\n",
       "            Plotly.purge(gd);\n",
       "            observer.disconnect();\n",
       "        }}\n",
       "}});\n",
       "\n",
       "// Listen for the removal of the full notebook cells\n",
       "var notebookContainer = gd.closest('#notebook-container');\n",
       "if (notebookContainer) {{\n",
       "    x.observe(notebookContainer, {childList: true});\n",
       "}}\n",
       "\n",
       "// Listen for the clearing of the current output cell\n",
       "var outputEl = gd.closest('.output');\n",
       "if (outputEl) {{\n",
       "    x.observe(outputEl, {childList: true});\n",
       "}}\n",
       "\n",
       "                        })\n",
       "                };\n",
       "                });\n",
       "            </script>\n",
       "        </div>"
      ]
     },
     "metadata": {},
     "output_type": "display_data"
    }
   ],
   "source": [
    "#ROC and AUC\n",
    "\n",
    "#predict probabilities for the negative class\n",
    "y_proba = lr_model.predict_proba(X_val)[:,1] \n",
    "\n",
    "from sklearn.metrics import roc_curve,roc_auc_score\n",
    "\n",
    "fprs, tprs, thresholds = roc_curve(y_val, y_proba, pos_label = 1)\n",
    "\n",
    "roc_auc = roc_auc_score(y_val, y_proba)\n",
    "\n",
    "#ROC Plot\n",
    "trace_1 = go.Scatter(x=fprs, y = tprs,  name = 'AUC: %0.2f' %roc_auc)\n",
    "trace_2 = go.Scatter(x=[0,1], y = [0,1], line = dict(dash = 'dash'), showlegend=False)\n",
    "\n",
    "data = [trace_1,trace_2]\n",
    "\n",
    "layout = go.Layout(title = 'ROC Curve',\n",
    "                  xaxis = dict(title = 'False positive rate'),\n",
    "                  yaxis = dict(title = 'True positive rate'))\n",
    "\n",
    "fig = go.Figure(data = data, layout = layout)\n",
    "\n",
    "fig.show()"
   ]
  },
  {
   "cell_type": "markdown",
   "metadata": {},
   "source": [
    "The Receiver Operating Characteristics (ROC) curve shows  that the model is a good classifier. The graph shows that at 80% true positive rate, only 10% are false positives.\n",
    "\n",
    "AUC (Area Under the Curve) of 0.93 also shows that the model is good at seperating the true positives from the false positives.\n",
    "\n",
    "These measurements are quite effective considering the model was fitted on imbalanced data."
   ]
  },
  {
   "cell_type": "markdown",
   "metadata": {},
   "source": [
    "### Model Coefficient\n",
    "\n",
    "Words identified by the model to be significant."
   ]
  },
  {
   "cell_type": "code",
   "execution_count": 63,
   "metadata": {
    "collapsed": true
   },
   "outputs": [
    {
     "data": {
      "text/plain": [
       "allahsoil         3.849275\n",
       "racism            3.220667\n",
       "white             2.680076\n",
       "boycott           2.398861\n",
       "bigot             2.340451\n",
       "paladino          2.191395\n",
       "notmypresid       2.167674\n",
       "blacklivesmatt    2.074509\n",
       "misogyni          1.967522\n",
       "latest            1.918310\n",
       "malevot           1.899023\n",
       "misogynist        1.879189\n",
       "nazi              1.776872\n",
       "treason           1.770195\n",
       "blm               1.749557\n",
       "woman             1.742875\n",
       "jew               1.719825\n",
       "equal             1.690601\n",
       "racist            1.689386\n",
       "fascism           1.645035\n",
       "race              1.592950\n",
       "rohingya          1.591815\n",
       "antisemit         1.547122\n",
       "trump             1.534906\n",
       "slaveri           1.533651\n",
       "respond           1.530340\n",
       "feminist          1.519588\n",
       "bigotri           1.501208\n",
       "effect            1.495585\n",
       "aicl              1.489411\n",
       "snowflak          1.485993\n",
       "democraticpay     1.485596\n",
       "obama             1.461229\n",
       "povey             1.455957\n",
       "scumbag           1.437806\n",
       "arab              1.434215\n",
       "blatantli         1.432198\n",
       "shut              1.413692\n",
       "vid               1.409821\n",
       "comment           1.406646\n",
       "hatr              1.376580\n",
       "fascist           1.369922\n",
       "southafrica       1.365672\n",
       "liber             1.363863\n",
       "xenophobia        1.340687\n",
       "dumb              1.336981\n",
       "daili thank       1.335441\n",
       "glad see          1.328686\n",
       "histori           1.322722\n",
       "brexit            1.314685\n",
       "dtype: float64"
      ]
     },
     "execution_count": 63,
     "metadata": {},
     "output_type": "execute_result"
    }
   ],
   "source": [
    "#Top 50 words\n",
    "pd.Series(lr_model.coef_[0], index = X_train.columns).nlargest(50)"
   ]
  },
  {
   "cell_type": "markdown",
   "metadata": {},
   "source": [
    "Above is the list of the top 50 significant words identified by the model to be negative. These are words that carried the most weight. When they appear in a tweet, then the tweet is negative."
   ]
  },
  {
   "cell_type": "markdown",
   "metadata": {},
   "source": [
    "---\n",
    "\n",
    "## 4) MODEL TESTING"
   ]
  },
  {
   "cell_type": "markdown",
   "metadata": {},
   "source": [
    "Testing will be on the data (X_test, y_test) that was set aside in the very first step"
   ]
  },
  {
   "cell_type": "code",
   "execution_count": 92,
   "metadata": {
    "scrolled": true
   },
   "outputs": [
    {
     "data": {
      "text/html": [
       "<div>\n",
       "<style scoped>\n",
       "    .dataframe tbody tr th:only-of-type {\n",
       "        vertical-align: middle;\n",
       "    }\n",
       "\n",
       "    .dataframe tbody tr th {\n",
       "        vertical-align: top;\n",
       "    }\n",
       "\n",
       "    .dataframe thead th {\n",
       "        text-align: right;\n",
       "    }\n",
       "</style>\n",
       "<table border=\"1\" class=\"dataframe\">\n",
       "  <thead>\n",
       "    <tr style=\"text-align: right;\">\n",
       "      <th></th>\n",
       "      <th>tweet</th>\n",
       "      <th>label</th>\n",
       "      <th>cleaned_tweet</th>\n",
       "    </tr>\n",
       "  </thead>\n",
       "  <tbody>\n",
       "    <tr>\n",
       "      <th>0</th>\n",
       "      <td>want adrienne 2b   #loved #adored ðwith luc...</td>\n",
       "      <td>0</td>\n",
       "      <td>want adrienn b love ador luca shine happi just...</td>\n",
       "    </tr>\n",
       "    <tr>\n",
       "      <th>1</th>\n",
       "      <td>he should turn in his resignation.</td>\n",
       "      <td>1</td>\n",
       "      <td>turn resign</td>\n",
       "    </tr>\n",
       "    <tr>\n",
       "      <th>2</th>\n",
       "      <td>@user @user #westernsahara wi r   abt ur book....</td>\n",
       "      <td>0</td>\n",
       "      <td>westernsahara wi r abt ur book full algerian r...</td>\n",
       "    </tr>\n",
       "    <tr>\n",
       "      <th>3</th>\n",
       "      <td>pre @user gig drinks! ð  #passthecourvoisie...</td>\n",
       "      <td>0</td>\n",
       "      <td>pre gig drink passthecourvoisi</td>\n",
       "    </tr>\n",
       "    <tr>\n",
       "      <th>4</th>\n",
       "      <td>#tb #bestvacations #redsea #entspannung   #fri...</td>\n",
       "      <td>0</td>\n",
       "      <td>tb bestvac redsea entspannung friend dahab blu...</td>\n",
       "    </tr>\n",
       "  </tbody>\n",
       "</table>\n",
       "</div>"
      ],
      "text/plain": [
       "                                               tweet  label  \\\n",
       "0  want adrienne 2b   #loved #adored ðwith luc...      0   \n",
       "1                he should turn in his resignation.       1   \n",
       "2  @user @user #westernsahara wi r   abt ur book....      0   \n",
       "3  pre @user gig drinks! ð  #passthecourvoisie...      0   \n",
       "4  #tb #bestvacations #redsea #entspannung   #fri...      0   \n",
       "\n",
       "                                       cleaned_tweet  \n",
       "0  want adrienn b love ador luca shine happi just...  \n",
       "1                                        turn resign  \n",
       "2  westernsahara wi r abt ur book full algerian r...  \n",
       "3                     pre gig drink passthecourvoisi  \n",
       "4  tb bestvac redsea entspannung friend dahab blu...  "
      ]
     },
     "execution_count": 92,
     "metadata": {},
     "output_type": "execute_result"
    }
   ],
   "source": [
    "#Add test data to a new dataframe\n",
    "test_df = pd.DataFrame.merge(X_test, y_test, how = 'inner', right_index = True, left_index = True)\n",
    "\n",
    "#Reset index\n",
    "test_df = test_df.reset_index(drop = True)\n",
    "\n",
    "#Apply the Text_cleaner function to the rem_df data\n",
    "test_df['cleaned_tweet'] = Text_cleaner(test_df['tweet'])\n",
    "\n",
    "#Drop old column\n",
    "#test_df.drop(columns = 'tweet', inplace = True)\n",
    "\n",
    "test_df.head()"
   ]
  },
  {
   "cell_type": "code",
   "execution_count": null,
   "metadata": {},
   "outputs": [],
   "source": [
    "test_words = bow.transform(test_df['cleaned_tweet'])\n",
    "\n",
    "test_words_df = pd.DataFrame(test_words.todense(), columns = bow.get_feature_names())\n",
    "\n",
    "#X and y variables\n",
    "X_test_new = test_words_df\n",
    "y_test_new = test_df['label']\n",
    "\n",
    "#Predict the class of the respective tweets\n",
    "test_df['Pred_class'] = np.where(lr_model.predict_proba(X_test_new)[:,1] <= 0.5, 'Positive', 'Negative')"
   ]
  },
  {
   "cell_type": "markdown",
   "metadata": {},
   "source": [
    "#### Visualization of tweets predicted to be negative using word cloud"
   ]
  },
  {
   "cell_type": "code",
   "execution_count": 98,
   "metadata": {},
   "outputs": [],
   "source": [
    "from wordcloud import WordCloud"
   ]
  },
  {
   "cell_type": "code",
   "execution_count": 100,
   "metadata": {},
   "outputs": [
    {
     "data": {
      "image/png": "[encoded data removed]",
      "text/plain": [
       "<Figure size 1440x504 with 1 Axes>"
      ]
     },
     "metadata": {
      "needs_background": "light"
     },
     "output_type": "display_data"
    }
   ],
   "source": [
    "# Join the review.\n",
    "long_string_neg = ','.join(list(test_df[test_df['Pred_class'] == 'Negative']['cleaned_tweet'].values))\n",
    "\n",
    "# Create a WordCloud object\n",
    "wordcloud = WordCloud(background_color=\"white\", max_words=100, contour_width=3, contour_color='steelblue')\n",
    "\n",
    "# Generate a word cloud\n",
    "wordcloud.generate(long_string_neg)\n",
    "plt.figure(figsize= (20,7))\n",
    "plt.imshow(wordcloud, interpolation = 'bilinear')\n",
    "plt.axis('off')\n",
    "\n",
    "plt.title(\"Commonly used Negative words\", pad = 14, weight = 'bold')\n",
    "plt.show()"
   ]
  },
  {
   "cell_type": "markdown",
   "metadata": {},
   "source": [
    "---\n",
    "## 5) CONCLUSION"
   ]
  },
  {
   "cell_type": "markdown",
   "metadata": {},
   "source": [
    "The above test concludes that it is possible to use machine learning to identify words that are commonly used on social media and predict if a user's post is negative or positive before it is posted online."
   ]
  },
  {
   "cell_type": "markdown",
   "metadata": {},
   "source": [
    "---\n",
    "## 6) Next Steps..."
   ]
  },
  {
   "cell_type": "markdown",
   "metadata": {},
   "source": [
    "One of the possible next steps would be to implement the model on any of the social media platforms to minimize the volume of bullying or negativity on the platform."
   ]
  }
 ],
 "metadata": {
  "kernelspec": {
   "display_name": "Python 3",
   "language": "python",
   "name": "python3"
  },
  "language_info": {
   "codemirror_mode": {
    "name": "ipython",
    "version": 3
   },
   "file_extension": ".py",
   "mimetype": "text/x-python",
   "name": "python",
   "nbconvert_exporter": "python",
   "pygments_lexer": "ipython3",
   "version": "3.7.3"
  }
 },
 "nbformat": 4,
 "nbformat_minor": 2
}
